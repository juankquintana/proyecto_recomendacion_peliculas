{
 "cells": [
  {
   "cell_type": "markdown",
   "metadata": {},
   "source": [
    "## Carga datos y limpieza"
   ]
  },
  {
   "cell_type": "code",
   "execution_count": 21,
   "metadata": {},
   "outputs": [],
   "source": [
    "#Python\n",
    "import pandas as pd\n",
    "import numpy as np\n",
    "import matplotlib.pyplot as plt\n",
    "import seaborn as sns\n",
    "\n",
    "\n",
    "from sklearn.metrics.pairwise import cosine_similarity\n",
    "from sklearn.feature_extraction.text import TfidfVectorizer\n",
    "\n",
    "#Guardar modelos\n",
    "from scipy.sparse import csr_matrix\n",
    "from scipy import sparse\n",
    "\n",
    "\n",
    "#LDA\n",
    "from gensim.corpora import Dictionary\n",
    "from gensim.models import LdaModel\n",
    "from gensim.models.ldamulticore import LdaMulticore\n",
    "from gensim.models import CoherenceModel\n",
    "import pyLDAvis\n",
    "import pyLDAvis.gensim_models as gensimvis\n",
    "from pprint import pprint\n"
   ]
  },
  {
   "cell_type": "code",
   "execution_count": 22,
   "metadata": {},
   "outputs": [
    {
     "name": "stderr",
     "output_type": "stream",
     "text": [
      "C:\\Users\\WD\\AppData\\Local\\Temp\\ipykernel_31688\\3950954798.py:3: DtypeWarning: Columns (10) have mixed types. Specify dtype option on import or set low_memory=False.\n",
      "  metadata = pd.read_csv(file_path)\n"
     ]
    },
    {
     "data": {
      "text/html": [
       "<div>\n",
       "<style scoped>\n",
       "    .dataframe tbody tr th:only-of-type {\n",
       "        vertical-align: middle;\n",
       "    }\n",
       "\n",
       "    .dataframe tbody tr th {\n",
       "        vertical-align: top;\n",
       "    }\n",
       "\n",
       "    .dataframe thead th {\n",
       "        text-align: right;\n",
       "    }\n",
       "</style>\n",
       "<table border=\"1\" class=\"dataframe\">\n",
       "  <thead>\n",
       "    <tr style=\"text-align: right;\">\n",
       "      <th></th>\n",
       "      <th>adult</th>\n",
       "      <th>belongs_to_collection</th>\n",
       "      <th>budget</th>\n",
       "      <th>genres</th>\n",
       "      <th>homepage</th>\n",
       "      <th>id</th>\n",
       "      <th>imdb_id</th>\n",
       "      <th>original_language</th>\n",
       "      <th>original_title</th>\n",
       "      <th>overview</th>\n",
       "      <th>...</th>\n",
       "      <th>release_date</th>\n",
       "      <th>revenue</th>\n",
       "      <th>runtime</th>\n",
       "      <th>spoken_languages</th>\n",
       "      <th>status</th>\n",
       "      <th>tagline</th>\n",
       "      <th>title</th>\n",
       "      <th>video</th>\n",
       "      <th>vote_average</th>\n",
       "      <th>vote_count</th>\n",
       "    </tr>\n",
       "  </thead>\n",
       "  <tbody>\n",
       "    <tr>\n",
       "      <th>0</th>\n",
       "      <td>False</td>\n",
       "      <td>{'id': 10194, 'name': 'Toy Story Collection', ...</td>\n",
       "      <td>30000000</td>\n",
       "      <td>[{'id': 16, 'name': 'Animation'}, {'id': 35, '...</td>\n",
       "      <td>http://toystory.disney.com/toy-story</td>\n",
       "      <td>862</td>\n",
       "      <td>tt0114709</td>\n",
       "      <td>en</td>\n",
       "      <td>Toy Story</td>\n",
       "      <td>Led by Woody, Andy's toys live happily in his ...</td>\n",
       "      <td>...</td>\n",
       "      <td>1995-10-30</td>\n",
       "      <td>373554033.0</td>\n",
       "      <td>81.0</td>\n",
       "      <td>[{'iso_639_1': 'en', 'name': 'English'}]</td>\n",
       "      <td>Released</td>\n",
       "      <td>NaN</td>\n",
       "      <td>Toy Story</td>\n",
       "      <td>False</td>\n",
       "      <td>7.7</td>\n",
       "      <td>5415.0</td>\n",
       "    </tr>\n",
       "  </tbody>\n",
       "</table>\n",
       "<p>1 rows × 24 columns</p>\n",
       "</div>"
      ],
      "text/plain": [
       "   adult                              belongs_to_collection    budget  \\\n",
       "0  False  {'id': 10194, 'name': 'Toy Story Collection', ...  30000000   \n",
       "\n",
       "                                              genres  \\\n",
       "0  [{'id': 16, 'name': 'Animation'}, {'id': 35, '...   \n",
       "\n",
       "                               homepage   id    imdb_id original_language  \\\n",
       "0  http://toystory.disney.com/toy-story  862  tt0114709                en   \n",
       "\n",
       "  original_title                                           overview  ...  \\\n",
       "0      Toy Story  Led by Woody, Andy's toys live happily in his ...  ...   \n",
       "\n",
       "  release_date      revenue runtime                          spoken_languages  \\\n",
       "0   1995-10-30  373554033.0    81.0  [{'iso_639_1': 'en', 'name': 'English'}]   \n",
       "\n",
       "     status  tagline      title  video vote_average vote_count  \n",
       "0  Released      NaN  Toy Story  False          7.7     5415.0  \n",
       "\n",
       "[1 rows x 24 columns]"
      ]
     },
     "execution_count": 22,
     "metadata": {},
     "output_type": "execute_result"
    }
   ],
   "source": [
    "\n",
    "file_path = \"https://raw.githubusercontent.com/juankquintana/aprendizaje-no-supervisado/main/Proyecto/data/movies_metadata.csv\"\n",
    "\n",
    "metadata = pd.read_csv(file_path)\n",
    "\n",
    "metadata.head(1)"
   ]
  },
  {
   "cell_type": "code",
   "execution_count": 23,
   "metadata": {},
   "outputs": [
    {
     "name": "stdout",
     "output_type": "stream",
     "text": [
      "0     [Animation, Comedy, Family]\n",
      "1    [Adventure, Fantasy, Family]\n",
      "2               [Romance, Comedy]\n",
      "3        [Comedy, Drama, Romance]\n",
      "4                        [Comedy]\n",
      "Name: genre_names, dtype: object\n"
     ]
    }
   ],
   "source": [
    "import ast\n",
    "def columnas_transformadas(metadata, columna, indicador, nuevo_nombre):\n",
    "    # Crear una nueva columna temporal con los datos convertidos\n",
    "    metadata['col_p'] = metadata[columna].apply(lambda x: ast.literal_eval(x) if isinstance(x, str) else x)\n",
    "    # Extraer el valor deseado\n",
    "    metadata[nuevo_nombre] = metadata['col_p'].apply(lambda x: [genre_p[indicador] for genre_p in x] if isinstance(x, list) else [])\n",
    "    # Eliminar la columna temporal\n",
    "    metadata = metadata.drop(columns=['col_p'])\n",
    "    # Mostrar las primeras filas del nuevo nombre de columna\n",
    "    print(metadata[nuevo_nombre].head(5))\n",
    "    return metadata\n",
    "\n",
    "\n",
    "metadata = columnas_transformadas(metadata, 'genres', 'name', 'genre_names')"
   ]
  },
  {
   "cell_type": "code",
   "execution_count": 24,
   "metadata": {},
   "outputs": [
    {
     "data": {
      "text/html": [
       "<div>\n",
       "<style scoped>\n",
       "    .dataframe tbody tr th:only-of-type {\n",
       "        vertical-align: middle;\n",
       "    }\n",
       "\n",
       "    .dataframe tbody tr th {\n",
       "        vertical-align: top;\n",
       "    }\n",
       "\n",
       "    .dataframe thead th {\n",
       "        text-align: right;\n",
       "    }\n",
       "</style>\n",
       "<table border=\"1\" class=\"dataframe\">\n",
       "  <thead>\n",
       "    <tr style=\"text-align: right;\">\n",
       "      <th></th>\n",
       "      <th>id</th>\n",
       "      <th>keywords</th>\n",
       "    </tr>\n",
       "  </thead>\n",
       "  <tbody>\n",
       "    <tr>\n",
       "      <th>0</th>\n",
       "      <td>862</td>\n",
       "      <td>[{'id': 931, 'name': 'jealousy'}, {'id': 4290,...</td>\n",
       "    </tr>\n",
       "    <tr>\n",
       "      <th>1</th>\n",
       "      <td>8844</td>\n",
       "      <td>[{'id': 10090, 'name': 'board game'}, {'id': 1...</td>\n",
       "    </tr>\n",
       "    <tr>\n",
       "      <th>2</th>\n",
       "      <td>15602</td>\n",
       "      <td>[{'id': 1495, 'name': 'fishing'}, {'id': 12392...</td>\n",
       "    </tr>\n",
       "    <tr>\n",
       "      <th>3</th>\n",
       "      <td>31357</td>\n",
       "      <td>[{'id': 818, 'name': 'based on novel'}, {'id':...</td>\n",
       "    </tr>\n",
       "    <tr>\n",
       "      <th>4</th>\n",
       "      <td>11862</td>\n",
       "      <td>[{'id': 1009, 'name': 'baby'}, {'id': 1599, 'n...</td>\n",
       "    </tr>\n",
       "  </tbody>\n",
       "</table>\n",
       "</div>"
      ],
      "text/plain": [
       "      id                                           keywords\n",
       "0    862  [{'id': 931, 'name': 'jealousy'}, {'id': 4290,...\n",
       "1   8844  [{'id': 10090, 'name': 'board game'}, {'id': 1...\n",
       "2  15602  [{'id': 1495, 'name': 'fishing'}, {'id': 12392...\n",
       "3  31357  [{'id': 818, 'name': 'based on novel'}, {'id':...\n",
       "4  11862  [{'id': 1009, 'name': 'baby'}, {'id': 1599, 'n..."
      ]
     },
     "execution_count": 24,
     "metadata": {},
     "output_type": "execute_result"
    }
   ],
   "source": [
    "file_path_keywords = \"https://raw.githubusercontent.com/juankquintana/aprendizaje-no-supervisado/main/Proyecto/data/keywords.csv\"\n",
    "\n",
    "df_keywords = pd.read_csv(file_path_keywords)\n",
    "\n",
    "df_keywords.head(5)\n"
   ]
  },
  {
   "cell_type": "code",
   "execution_count": 25,
   "metadata": {},
   "outputs": [
    {
     "name": "stdout",
     "output_type": "stream",
     "text": [
      "     id  keyword_id       keyword_name\n",
      "0   862       931.0           jealousy\n",
      "0   862      4290.0                toy\n",
      "0   862      5202.0                boy\n",
      "0   862      6054.0         friendship\n",
      "0   862      9713.0            friends\n",
      "0   862      9823.0            rivalry\n",
      "0   862    165503.0      boy next door\n",
      "0   862    170722.0            new toy\n",
      "0   862    187065.0  toy comes to life\n",
      "1  8844     10090.0         board game\n"
     ]
    }
   ],
   "source": [
    "import ast\n",
    "\n",
    "# Convertir la columna 'keywords' de string a una lista de diccionarios\n",
    "df_keywords['keywords'] = df_keywords['keywords'].apply(ast.literal_eval)\n",
    "df_keywords_exploded = df_keywords.explode('keywords')\n",
    "\n",
    "df_keywords_exploded['keyword_id'] = df_keywords_exploded['keywords'].apply(lambda x: x['id'] if isinstance(x, dict) else None)\n",
    "df_keywords_exploded['keyword_name'] = df_keywords_exploded['keywords'].apply(lambda x: x['name'] if isinstance(x, dict) else None)\n",
    "\n",
    "# Eliminar la columna original 'keywords'\n",
    "df_keywords_exploded = df_keywords_exploded.drop(columns=['keywords'])\n",
    "\n",
    "print(df_keywords_exploded.head(10))"
   ]
  },
  {
   "cell_type": "code",
   "execution_count": 26,
   "metadata": {},
   "outputs": [
    {
     "name": "stderr",
     "output_type": "stream",
     "text": [
      "C:\\Users\\WD\\AppData\\Local\\Temp\\ipykernel_31688\\3305871799.py:10: FutureWarning: \n",
      "\n",
      "Passing `palette` without assigning `hue` is deprecated and will be removed in v0.14.0. Assign the `y` variable to `hue` and set `legend=False` for the same effect.\n",
      "\n",
      "  ax = sns.barplot(x='movie_count', y='keyword_name', data=top_25_keywords, palette='viridis')\n"
     ]
    },
    {
     "data": {
      "image/png": "[encoded data removed]",
      "text/plain": [
       "<Figure size 1000x800 with 1 Axes>"
      ]
     },
     "metadata": {},
     "output_type": "display_data"
    }
   ],
   "source": [
    "keyword_counts = df_keywords_exploded.groupby('keyword_name')['id'].count().reset_index(name='movie_count')\n",
    "\n",
    "# Ordenar los datos por el número de películas para una mejor visualización\n",
    "keyword_counts = keyword_counts.sort_values('movie_count', ascending=False)\n",
    "\n",
    "top_25_keywords = keyword_counts.head(25)\n",
    "\n",
    "# Graficar los datos\n",
    "plt.figure(figsize=(10, 8))\n",
    "ax = sns.barplot(x='movie_count', y='keyword_name', data=top_25_keywords, palette='viridis')\n",
    "\n",
    "# Agregar etiquetas de datos\n",
    "for i in ax.containers:\n",
    "    ax.bar_label(i, fmt='%d', label_type='edge', padding=3)\n",
    "\n",
    "plt.xlabel('Número de películas')\n",
    "plt.ylabel('Palabras clave (Keywords)')\n",
    "plt.title('Top 25 Keywords')\n",
    "plt.show()"
   ]
  },
  {
   "cell_type": "code",
   "execution_count": 27,
   "metadata": {},
   "outputs": [
    {
     "data": {
      "text/html": [
       "<div>\n",
       "<style scoped>\n",
       "    .dataframe tbody tr th:only-of-type {\n",
       "        vertical-align: middle;\n",
       "    }\n",
       "\n",
       "    .dataframe tbody tr th {\n",
       "        vertical-align: top;\n",
       "    }\n",
       "\n",
       "    .dataframe thead th {\n",
       "        text-align: right;\n",
       "    }\n",
       "</style>\n",
       "<table border=\"1\" class=\"dataframe\">\n",
       "  <thead>\n",
       "    <tr style=\"text-align: right;\">\n",
       "      <th></th>\n",
       "      <th>id</th>\n",
       "      <th>keyword_name</th>\n",
       "    </tr>\n",
       "  </thead>\n",
       "  <tbody>\n",
       "    <tr>\n",
       "      <th>0</th>\n",
       "      <td>2</td>\n",
       "      <td>[underdog, prison, factory worker, prisoner, h...</td>\n",
       "    </tr>\n",
       "    <tr>\n",
       "      <th>1</th>\n",
       "      <td>3</td>\n",
       "      <td>[salesclerk, helsinki, garbage, independent film]</td>\n",
       "    </tr>\n",
       "    <tr>\n",
       "      <th>2</th>\n",
       "      <td>5</td>\n",
       "      <td>[hotel, new year's eve, witch, bet, hotel room...</td>\n",
       "    </tr>\n",
       "    <tr>\n",
       "      <th>3</th>\n",
       "      <td>6</td>\n",
       "      <td>[chicago, drug dealer, boxing match, escape, o...</td>\n",
       "    </tr>\n",
       "    <tr>\n",
       "      <th>4</th>\n",
       "      <td>11</td>\n",
       "      <td>[android, galaxy, hermit, death star, lightsab...</td>\n",
       "    </tr>\n",
       "  </tbody>\n",
       "</table>\n",
       "</div>"
      ],
      "text/plain": [
       "   id                                       keyword_name\n",
       "0   2  [underdog, prison, factory worker, prisoner, h...\n",
       "1   3  [salesclerk, helsinki, garbage, independent film]\n",
       "2   5  [hotel, new year's eve, witch, bet, hotel room...\n",
       "3   6  [chicago, drug dealer, boxing match, escape, o...\n",
       "4  11  [android, galaxy, hermit, death star, lightsab..."
      ]
     },
     "execution_count": 27,
     "metadata": {},
     "output_type": "execute_result"
    }
   ],
   "source": [
    "df_grouped_keywords = df_keywords_exploded.groupby('id')['keyword_name'].apply(list).reset_index()\n",
    "\n",
    "df_grouped_keywords.head()"
   ]
  },
  {
   "cell_type": "code",
   "execution_count": 28,
   "metadata": {},
   "outputs": [],
   "source": [
    "#!python -m spacy download en_core_web_sm"
   ]
  },
  {
   "cell_type": "markdown",
   "metadata": {},
   "source": [
    "### Text cleaning keywords"
   ]
  },
  {
   "cell_type": "code",
   "execution_count": 29,
   "metadata": {},
   "outputs": [
    {
     "name": "stderr",
     "output_type": "stream",
     "text": [
      "<>:17: DeprecationWarning: invalid escape sequence '\\d'\n",
      "<>:18: DeprecationWarning: invalid escape sequence '\\s'\n",
      "<>:17: DeprecationWarning: invalid escape sequence '\\d'\n",
      "<>:18: DeprecationWarning: invalid escape sequence '\\s'\n",
      "C:\\Users\\WD\\AppData\\Local\\Temp\\ipykernel_31688\\2306704377.py:17: DeprecationWarning: invalid escape sequence '\\d'\n",
      "  out = re.sub(\"\\d+\", \"\", out)  # Eliminar números\n",
      "C:\\Users\\WD\\AppData\\Local\\Temp\\ipykernel_31688\\2306704377.py:18: DeprecationWarning: invalid escape sequence '\\s'\n",
      "  out = re.sub('\\s+', ' ', out).strip()  # Remover espacios extra\n"
     ]
    }
   ],
   "source": [
    "import re\n",
    "import spacy\n",
    "import unidecode\n",
    "from nltk.stem import SnowballStemmer\n",
    "\n",
    "nlp = spacy.load('en_core_web_sm')\n",
    "\n",
    "stemmer = SnowballStemmer('english')\n",
    "\n",
    "def text_cleaning(txt, apply_lemma=True, apply_stemming=True):\n",
    "    if not txt or pd.isna(txt):  # Verifica si el texto es None o NaN\n",
    "        return \"\"\n",
    "    \n",
    "    # Eliminar caracteres especiales, tildes y convertir a minúsculas\n",
    "    out = unidecode.unidecode(txt) \n",
    "    out = re.sub('[^A-Za-z0-9 ]+', ' ', out)  # Mantener solo letras y números\n",
    "    out = re.sub(\"\\d+\", \"\", out)  # Eliminar números\n",
    "    out = re.sub('\\s+', ' ', out).strip()  # Remover espacios extra\n",
    "    out = out.lower()  # Convertir a minúsculas\n",
    "\n",
    "    # Tokenización en palabras\n",
    "    lemmas = out.split()\n",
    "\n",
    "    # Stemming\n",
    "    if apply_stemming:\n",
    "        stemmed = [stemmer.stem(lemma) for lemma in lemmas]\n",
    "    else:\n",
    "        stemmed = lemmas\n",
    "\n",
    "    # Filtrar palabras cortas (menores de 3 caracteres) y eliminar posibles vacíos\n",
    "    cleaned = [word for word in stemmed if len(word) > 2]\n",
    "\n",
    "    return \" \".join(cleaned) if cleaned else \"\"\n",
    "\n"
   ]
  },
  {
   "cell_type": "code",
   "execution_count": 30,
   "metadata": {},
   "outputs": [
    {
     "name": "stdout",
     "output_type": "stream",
     "text": [
      "   id                                   cleaned_keywords\n",
      "0   2  [underdog, prison, factori worker, prison, hel...\n",
      "1   3      [salesclerk, helsinki, garbag, independ film]\n",
      "2   5  [hotel, new year eve, witch, bet, hotel room, ...\n",
      "3   6  [chicago, drug dealer, box match, escap, one n...\n",
      "4  11  [android, galaxi, hermit, death star, lightsab...\n"
     ]
    }
   ],
   "source": [
    "# Aplicar la limpieza a cada palabra clave en las listas de 'keyword_name'\n",
    "df_grouped_keywords['cleaned_keywords'] = df_grouped_keywords['keyword_name'].apply(\n",
    "    lambda keywords: [text_cleaning(kw) for kw in keywords if kw]  # Verificar si cada keyword no es None\n",
    ")\n",
    "\n",
    "# Mostrar las primeras filas con las palabras clave limpias\n",
    "print(df_grouped_keywords[['id', 'cleaned_keywords']].head())"
   ]
  },
  {
   "cell_type": "code",
   "execution_count": 34,
   "metadata": {},
   "outputs": [
    {
     "data": {
      "text/html": [
       "<div>\n",
       "<style scoped>\n",
       "    .dataframe tbody tr th:only-of-type {\n",
       "        vertical-align: middle;\n",
       "    }\n",
       "\n",
       "    .dataframe tbody tr th {\n",
       "        vertical-align: top;\n",
       "    }\n",
       "\n",
       "    .dataframe thead th {\n",
       "        text-align: right;\n",
       "    }\n",
       "</style>\n",
       "<table border=\"1\" class=\"dataframe\">\n",
       "  <thead>\n",
       "    <tr style=\"text-align: right;\">\n",
       "      <th></th>\n",
       "      <th>keyword_name</th>\n",
       "      <th>cleaned_keywords</th>\n",
       "    </tr>\n",
       "  </thead>\n",
       "  <tbody>\n",
       "    <tr>\n",
       "      <th>682</th>\n",
       "      <td>[jealousy, toy, boy, friendship, friends, riva...</td>\n",
       "      <td>[jealousi, toy, boy, friendship, friend, rival...</td>\n",
       "    </tr>\n",
       "  </tbody>\n",
       "</table>\n",
       "</div>"
      ],
      "text/plain": [
       "                                          keyword_name  \\\n",
       "682  [jealousy, toy, boy, friendship, friends, riva...   \n",
       "\n",
       "                                      cleaned_keywords  \n",
       "682  [jealousi, toy, boy, friendship, friend, rival...  "
      ]
     },
     "execution_count": 34,
     "metadata": {},
     "output_type": "execute_result"
    }
   ],
   "source": [
    "df_grouped_keywords[df_grouped_keywords['id']==862][['keyword_name','cleaned_keywords']]\n"
   ]
  },
  {
   "cell_type": "markdown",
   "metadata": {},
   "source": [
    "### Cruzar titulo original y generos a la lista"
   ]
  },
  {
   "cell_type": "code",
   "execution_count": 42,
   "metadata": {},
   "outputs": [
    {
     "data": {
      "text/html": [
       "<div>\n",
       "<style scoped>\n",
       "    .dataframe tbody tr th:only-of-type {\n",
       "        vertical-align: middle;\n",
       "    }\n",
       "\n",
       "    .dataframe tbody tr th {\n",
       "        vertical-align: top;\n",
       "    }\n",
       "\n",
       "    .dataframe thead th {\n",
       "        text-align: right;\n",
       "    }\n",
       "</style>\n",
       "<table border=\"1\" class=\"dataframe\">\n",
       "  <thead>\n",
       "    <tr style=\"text-align: right;\">\n",
       "      <th></th>\n",
       "      <th>id</th>\n",
       "      <th>original_title</th>\n",
       "      <th>keyword_name</th>\n",
       "      <th>cleaned_keywords</th>\n",
       "      <th>genre_names</th>\n",
       "    </tr>\n",
       "  </thead>\n",
       "  <tbody>\n",
       "    <tr>\n",
       "      <th>0</th>\n",
       "      <td>2</td>\n",
       "      <td>Ariel</td>\n",
       "      <td>[underdog, prison, factory worker, prisoner, h...</td>\n",
       "      <td>[underdog, prison, factori worker, prison, hel...</td>\n",
       "      <td>[Drama, Crime]</td>\n",
       "    </tr>\n",
       "    <tr>\n",
       "      <th>1</th>\n",
       "      <td>3</td>\n",
       "      <td>Varjoja paratiisissa</td>\n",
       "      <td>[salesclerk, helsinki, garbage, independent film]</td>\n",
       "      <td>[salesclerk, helsinki, garbag, independ film]</td>\n",
       "      <td>[Drama, Comedy]</td>\n",
       "    </tr>\n",
       "    <tr>\n",
       "      <th>2</th>\n",
       "      <td>5</td>\n",
       "      <td>Four Rooms</td>\n",
       "      <td>[hotel, new year's eve, witch, bet, hotel room...</td>\n",
       "      <td>[hotel, new year eve, witch, bet, hotel room, ...</td>\n",
       "      <td>[Crime, Comedy]</td>\n",
       "    </tr>\n",
       "    <tr>\n",
       "      <th>3</th>\n",
       "      <td>6</td>\n",
       "      <td>Judgment Night</td>\n",
       "      <td>[chicago, drug dealer, boxing match, escape, o...</td>\n",
       "      <td>[chicago, drug dealer, box match, escap, one n...</td>\n",
       "      <td>[Action, Thriller, Crime]</td>\n",
       "    </tr>\n",
       "    <tr>\n",
       "      <th>4</th>\n",
       "      <td>11</td>\n",
       "      <td>Star Wars</td>\n",
       "      <td>[android, galaxy, hermit, death star, lightsab...</td>\n",
       "      <td>[android, galaxi, hermit, death star, lightsab...</td>\n",
       "      <td>[Adventure, Action, Science Fiction]</td>\n",
       "    </tr>\n",
       "  </tbody>\n",
       "</table>\n",
       "</div>"
      ],
      "text/plain": [
       "   id        original_title  \\\n",
       "0   2                 Ariel   \n",
       "1   3  Varjoja paratiisissa   \n",
       "2   5            Four Rooms   \n",
       "3   6        Judgment Night   \n",
       "4  11             Star Wars   \n",
       "\n",
       "                                        keyword_name  \\\n",
       "0  [underdog, prison, factory worker, prisoner, h...   \n",
       "1  [salesclerk, helsinki, garbage, independent film]   \n",
       "2  [hotel, new year's eve, witch, bet, hotel room...   \n",
       "3  [chicago, drug dealer, boxing match, escape, o...   \n",
       "4  [android, galaxy, hermit, death star, lightsab...   \n",
       "\n",
       "                                    cleaned_keywords  \\\n",
       "0  [underdog, prison, factori worker, prison, hel...   \n",
       "1      [salesclerk, helsinki, garbag, independ film]   \n",
       "2  [hotel, new year eve, witch, bet, hotel room, ...   \n",
       "3  [chicago, drug dealer, box match, escap, one n...   \n",
       "4  [android, galaxi, hermit, death star, lightsab...   \n",
       "\n",
       "                            genre_names  \n",
       "0                        [Drama, Crime]  \n",
       "1                       [Drama, Comedy]  \n",
       "2                       [Crime, Comedy]  \n",
       "3             [Action, Thriller, Crime]  \n",
       "4  [Adventure, Action, Science Fiction]  "
      ]
     },
     "execution_count": 42,
     "metadata": {},
     "output_type": "execute_result"
    }
   ],
   "source": [
    "# Convert 'movieId' column in df_ratings to object type\n",
    "df_grouped_keywords['id'] = df_grouped_keywords['id'].astype(str)\n",
    "\n",
    "# Now perform the merge operation\n",
    "df_keywords_title = pd.merge(df_grouped_keywords, metadata[['id', 'original_title','genre_names']],\n",
    "                     left_on='id', right_on='id', how='left')\n",
    "\n",
    "# Seleccionar solo las columnas que necesitas\n",
    "df_keywords_title = df_keywords_title[['id','original_title', 'keyword_name','cleaned_keywords','genre_names']]\n",
    "\n",
    "# Mostrar el DataFrame final\n",
    "df_keywords_title.head()"
   ]
  },
  {
   "cell_type": "code",
   "execution_count": 43,
   "metadata": {},
   "outputs": [
    {
     "data": {
      "text/html": [
       "<div>\n",
       "<style scoped>\n",
       "    .dataframe tbody tr th:only-of-type {\n",
       "        vertical-align: middle;\n",
       "    }\n",
       "\n",
       "    .dataframe tbody tr th {\n",
       "        vertical-align: top;\n",
       "    }\n",
       "\n",
       "    .dataframe thead th {\n",
       "        text-align: right;\n",
       "    }\n",
       "</style>\n",
       "<table border=\"1\" class=\"dataframe\">\n",
       "  <thead>\n",
       "    <tr style=\"text-align: right;\">\n",
       "      <th></th>\n",
       "      <th>id</th>\n",
       "      <th>original_title</th>\n",
       "      <th>keyword_name</th>\n",
       "      <th>cleaned_keywords</th>\n",
       "    </tr>\n",
       "  </thead>\n",
       "  <tbody>\n",
       "    <tr>\n",
       "      <th>0</th>\n",
       "      <td>2</td>\n",
       "      <td>Ariel</td>\n",
       "      <td>[Drama, Crime, underdog, prison, factory worke...</td>\n",
       "      <td>[underdog, prison, factori worker, prison, hel...</td>\n",
       "    </tr>\n",
       "    <tr>\n",
       "      <th>1</th>\n",
       "      <td>3</td>\n",
       "      <td>Varjoja paratiisissa</td>\n",
       "      <td>[Drama, Comedy, salesclerk, helsinki, garbage,...</td>\n",
       "      <td>[salesclerk, helsinki, garbag, independ film]</td>\n",
       "    </tr>\n",
       "    <tr>\n",
       "      <th>2</th>\n",
       "      <td>5</td>\n",
       "      <td>Four Rooms</td>\n",
       "      <td>[Crime, Comedy, hotel, new year's eve, witch, ...</td>\n",
       "      <td>[hotel, new year eve, witch, bet, hotel room, ...</td>\n",
       "    </tr>\n",
       "    <tr>\n",
       "      <th>3</th>\n",
       "      <td>6</td>\n",
       "      <td>Judgment Night</td>\n",
       "      <td>[Action, Thriller, Crime, chicago, drug dealer...</td>\n",
       "      <td>[chicago, drug dealer, box match, escap, one n...</td>\n",
       "    </tr>\n",
       "    <tr>\n",
       "      <th>4</th>\n",
       "      <td>11</td>\n",
       "      <td>Star Wars</td>\n",
       "      <td>[Adventure, Action, Science Fiction, android, ...</td>\n",
       "      <td>[android, galaxi, hermit, death star, lightsab...</td>\n",
       "    </tr>\n",
       "  </tbody>\n",
       "</table>\n",
       "</div>"
      ],
      "text/plain": [
       "   id        original_title  \\\n",
       "0   2                 Ariel   \n",
       "1   3  Varjoja paratiisissa   \n",
       "2   5            Four Rooms   \n",
       "3   6        Judgment Night   \n",
       "4  11             Star Wars   \n",
       "\n",
       "                                        keyword_name  \\\n",
       "0  [Drama, Crime, underdog, prison, factory worke...   \n",
       "1  [Drama, Comedy, salesclerk, helsinki, garbage,...   \n",
       "2  [Crime, Comedy, hotel, new year's eve, witch, ...   \n",
       "3  [Action, Thriller, Crime, chicago, drug dealer...   \n",
       "4  [Adventure, Action, Science Fiction, android, ...   \n",
       "\n",
       "                                    cleaned_keywords  \n",
       "0  [underdog, prison, factori worker, prison, hel...  \n",
       "1      [salesclerk, helsinki, garbag, independ film]  \n",
       "2  [hotel, new year eve, witch, bet, hotel room, ...  \n",
       "3  [chicago, drug dealer, box match, escap, one n...  \n",
       "4  [android, galaxi, hermit, death star, lightsab...  "
      ]
     },
     "execution_count": 43,
     "metadata": {},
     "output_type": "execute_result"
    }
   ],
   "source": [
    "df_keywords_title['keyword_name'] = df_keywords_title.apply(lambda row: row['genre_names'] + row['keyword_name'], axis=1)\n",
    "df_keywords_title = df_keywords_title.drop(columns=['genre_names'])\n",
    "df_keywords_title.head()"
   ]
  },
  {
   "cell_type": "code",
   "execution_count": 45,
   "metadata": {},
   "outputs": [
    {
     "data": {
      "text/plain": [
       "list"
      ]
     },
     "execution_count": 45,
     "metadata": {},
     "output_type": "execute_result"
    }
   ],
   "source": [
    "clean_keywords=df_keywords_title[\"cleaned_keywords\"]\n",
    "\n",
    "clean_sentences= [\" \".join(i) for i in clean_keywords]\n",
    "\n",
    "type(clean_sentences)"
   ]
  },
  {
   "cell_type": "markdown",
   "metadata": {},
   "source": [
    "## Count Vectorizer"
   ]
  },
  {
   "cell_type": "code",
   "execution_count": 46,
   "metadata": {},
   "outputs": [
    {
     "data": {
      "text/plain": [
       "<45462x10689 sparse matrix of type '<class 'numpy.int64'>'\n",
       "\twith 211699 stored elements in Compressed Sparse Row format>"
      ]
     },
     "execution_count": 46,
     "metadata": {},
     "output_type": "execute_result"
    }
   ],
   "source": [
    "from sklearn.feature_extraction.text import CountVectorizer\n",
    "\n",
    "count=CountVectorizer()\n",
    "count_matrix=count.fit_transform(clean_sentences)\n",
    "count_matrix"
   ]
  },
  {
   "cell_type": "code",
   "execution_count": 47,
   "metadata": {},
   "outputs": [
    {
     "name": "stdout",
     "output_type": "stream",
     "text": [
      "(45462, 10689)\n",
      "45462\n"
     ]
    }
   ],
   "source": [
    "print(count_matrix.shape)\n",
    "print(len(df_keywords_title))\n"
   ]
  },
  {
   "cell_type": "code",
   "execution_count": 48,
   "metadata": {},
   "outputs": [
    {
     "data": {
      "text/plain": [
       "array([[1.        , 0.38729833, 0.06804138, ..., 0.        , 0.        ,\n",
       "        0.        ],\n",
       "       [0.38729833, 1.        , 0.10540926, ..., 0.        , 0.        ,\n",
       "        0.        ],\n",
       "       [0.06804138, 0.10540926, 1.        , ..., 0.        , 0.        ,\n",
       "        0.        ],\n",
       "       ...,\n",
       "       [0.        , 0.        , 0.        , ..., 0.        , 0.        ,\n",
       "        0.        ],\n",
       "       [0.        , 0.        , 0.        , ..., 0.        , 1.        ,\n",
       "        0.        ],\n",
       "       [0.        , 0.        , 0.        , ..., 0.        , 0.        ,\n",
       "        0.        ]])"
      ]
     },
     "execution_count": 48,
     "metadata": {},
     "output_type": "execute_result"
    }
   ],
   "source": [
    "#Dependiente de la RAM\n",
    "\n",
    "#Calculamos la matriz de similitud de coseno\n",
    "cosine_sim_count = cosine_similarity(count_matrix, count_matrix)\n",
    "cosine_sim_count"
   ]
  },
  {
   "cell_type": "code",
   "execution_count": 49,
   "metadata": {},
   "outputs": [],
   "source": [
    "def recomendador_coseno(movie_id, cosine_sim, num_recomendaciones=5, df=df_keywords_title):\n",
    "    # Crear una Serie que contiene como índice el 'id' y el valor correspondiente al índice de la película\n",
    "    indices = pd.Series(df.index, index=df['id'])\n",
    "\n",
    "    # Verificar si el movie_id está en los índices\n",
    "    if movie_id not in indices.index:\n",
    "        print(f'ID de película {movie_id} no encontrado.')\n",
    "        return\n",
    "\n",
    "    # Obtener el índice de la película a partir del movie_id\n",
    "    idx = indices[movie_id]\n",
    "\n",
    "    # Obtener el título de la película original\n",
    "    original_title = df.loc[idx, 'original_title']\n",
    "    print(f'Título de la película original: {original_title}')\n",
    "    print(f'Índice de la película: {movie_id}')\n",
    "\n",
    "    # Obtener la similitud de coseno para esa película en particular con todas las películas\n",
    "    sim_scores = list(enumerate(cosine_sim[idx]))\n",
    "\n",
    "    # Ordenar la lista de tuplas por la similitud de coseno en orden descendente\n",
    "    sim_scores = sorted(sim_scores, key=lambda x: x[1], reverse=True)\n",
    "\n",
    "    # Obtener las películas más similares ignorando el primero (que es la misma película)\n",
    "    sim_scores = sim_scores[1:num_recomendaciones+1]\n",
    "\n",
    "    # Obtener los índices y las similitudes\n",
    "    movie_indices = [i[0] for i in sim_scores]\n",
    "    sim_scores_values = [i[1] for i in sim_scores]\n",
    "\n",
    "    # Verificar que los índices obtenidos están dentro del rango del DataFrame\n",
    "    valid_indices = [idx for idx in movie_indices if idx in df.index]\n",
    "\n",
    "    # Crear un DataFrame para mostrar los resultados\n",
    "    result_df = pd.DataFrame({\n",
    "        'Índice': valid_indices,\n",
    "        'Título': df['original_title'].iloc[valid_indices].values,\n",
    "        'Similitud Coseno': [sim_scores_values[movie_indices.index(idx)] for idx in valid_indices]\n",
    "    })\n",
    "\n",
    "    # Imprimir las películas recomendadas con sus índices y similitudes\n",
    "    print('\\nPelículas recomendadas:')\n",
    "    \n",
    "\n",
    "    # Retornar el DataFrame con los resultados\n",
    "    return result_df"
   ]
  },
  {
   "cell_type": "code",
   "execution_count": 57,
   "metadata": {},
   "outputs": [
    {
     "name": "stdout",
     "output_type": "stream",
     "text": [
      "Título de la película original: Toy Story\n",
      "Índice de la película: 862\n",
      "\n",
      "Películas recomendadas:\n"
     ]
    },
    {
     "data": {
      "text/html": [
       "<div>\n",
       "<style scoped>\n",
       "    .dataframe tbody tr th:only-of-type {\n",
       "        vertical-align: middle;\n",
       "    }\n",
       "\n",
       "    .dataframe tbody tr th {\n",
       "        vertical-align: top;\n",
       "    }\n",
       "\n",
       "    .dataframe thead th {\n",
       "        text-align: right;\n",
       "    }\n",
       "</style>\n",
       "<table border=\"1\" class=\"dataframe\">\n",
       "  <thead>\n",
       "    <tr style=\"text-align: right;\">\n",
       "      <th></th>\n",
       "      <th>Índice</th>\n",
       "      <th>Título</th>\n",
       "      <th>Similitud Coseno</th>\n",
       "    </tr>\n",
       "  </thead>\n",
       "  <tbody>\n",
       "    <tr>\n",
       "      <th>0</th>\n",
       "      <td>5005</td>\n",
       "      <td>Small Soldiers</td>\n",
       "      <td>0.596962</td>\n",
       "    </tr>\n",
       "    <tr>\n",
       "      <th>1</th>\n",
       "      <td>4722</td>\n",
       "      <td>Child's Play 2</td>\n",
       "      <td>0.568535</td>\n",
       "    </tr>\n",
       "    <tr>\n",
       "      <th>2</th>\n",
       "      <td>38815</td>\n",
       "      <td>Toy Story That Time Forgot</td>\n",
       "      <td>0.522233</td>\n",
       "    </tr>\n",
       "    <tr>\n",
       "      <th>3</th>\n",
       "      <td>3946</td>\n",
       "      <td>Toy Story 3</td>\n",
       "      <td>0.497796</td>\n",
       "    </tr>\n",
       "    <tr>\n",
       "      <th>4</th>\n",
       "      <td>10264</td>\n",
       "      <td>Barbie and the Three Musketeers</td>\n",
       "      <td>0.452267</td>\n",
       "    </tr>\n",
       "    <tr>\n",
       "      <th>5</th>\n",
       "      <td>10521</td>\n",
       "      <td>Dolls</td>\n",
       "      <td>0.452267</td>\n",
       "    </tr>\n",
       "    <tr>\n",
       "      <th>6</th>\n",
       "      <td>11130</td>\n",
       "      <td>Babes in Toyland</td>\n",
       "      <td>0.452267</td>\n",
       "    </tr>\n",
       "    <tr>\n",
       "      <th>7</th>\n",
       "      <td>25018</td>\n",
       "      <td>Ted</td>\n",
       "      <td>0.430820</td>\n",
       "    </tr>\n",
       "    <tr>\n",
       "      <th>8</th>\n",
       "      <td>27239</td>\n",
       "      <td>Beshkempir</td>\n",
       "      <td>0.426401</td>\n",
       "    </tr>\n",
       "    <tr>\n",
       "      <th>9</th>\n",
       "      <td>4250</td>\n",
       "      <td>Child's Play</td>\n",
       "      <td>0.402015</td>\n",
       "    </tr>\n",
       "  </tbody>\n",
       "</table>\n",
       "</div>"
      ],
      "text/plain": [
       "   Índice                           Título  Similitud Coseno\n",
       "0    5005                   Small Soldiers          0.596962\n",
       "1    4722                   Child's Play 2          0.568535\n",
       "2   38815       Toy Story That Time Forgot          0.522233\n",
       "3    3946                      Toy Story 3          0.497796\n",
       "4   10264  Barbie and the Three Musketeers          0.452267\n",
       "5   10521                            Dolls          0.452267\n",
       "6   11130                 Babes in Toyland          0.452267\n",
       "7   25018                              Ted          0.430820\n",
       "8   27239                       Beshkempir          0.426401\n",
       "9    4250                     Child's Play          0.402015"
      ]
     },
     "execution_count": 57,
     "metadata": {},
     "output_type": "execute_result"
    }
   ],
   "source": [
    "recomendador_coseno('862', cosine_sim_count, num_recomendaciones=10)"
   ]
  },
  {
   "cell_type": "markdown",
   "metadata": {},
   "source": [
    "### Guardar Count Vectorizer"
   ]
  },
  {
   "cell_type": "code",
   "execution_count": 51,
   "metadata": {},
   "outputs": [],
   "source": [
    "# from scipy.sparse import csr_matrix\n",
    "# from scipy import sparse\n",
    "# cosine_sim_sparse = csr_matrix(cosine_sim_count)\n",
    "\n",
    "# #Guardar la matriz dispersa en un archivo \n",
    "# sparse.save_npz('ModelosNLP/cosine_sim_sparse_matrixCOUNT.npz', cosine_sim_sparse)"
   ]
  },
  {
   "cell_type": "markdown",
   "metadata": {},
   "source": [
    "### Cargar Count Vectorizer"
   ]
  },
  {
   "cell_type": "code",
   "execution_count": 61,
   "metadata": {},
   "outputs": [
    {
     "ename": "MemoryError",
     "evalue": "Unable to allocate 15.4 GiB for an array with shape (45462, 45462) and data type float64",
     "output_type": "error",
     "traceback": [
      "\u001b[1;31m---------------------------------------------------------------------------\u001b[0m",
      "\u001b[1;31mMemoryError\u001b[0m                               Traceback (most recent call last)",
      "Cell \u001b[1;32mIn[61], line 4\u001b[0m\n\u001b[0;32m      1\u001b[0m cosine_sim_sparseCOUNT \u001b[38;5;241m=\u001b[39m sparse\u001b[38;5;241m.\u001b[39mload_npz(\u001b[38;5;124m'\u001b[39m\u001b[38;5;124mModelosNLP/cosine_sim_sparse_matrixCOUNT.npz\u001b[39m\u001b[38;5;124m'\u001b[39m)\n\u001b[0;32m      3\u001b[0m \u001b[38;5;66;03m# Convertirla de nuevo a densa (si es necesario, aunque puedes seguir usándola como dispersa)\u001b[39;00m\n\u001b[1;32m----> 4\u001b[0m cosine_sim_sparseCOUNT \u001b[38;5;241m=\u001b[39m \u001b[43mcosine_sim_sparseCOUNT\u001b[49m\u001b[38;5;241;43m.\u001b[39;49m\u001b[43mtoarray\u001b[49m\u001b[43m(\u001b[49m\u001b[43m)\u001b[49m\n",
      "File \u001b[1;32mc:\\Users\\WD\\.conda\\envs\\VSCEnv\\lib\\site-packages\\scipy\\sparse\\_compressed.py:1050\u001b[0m, in \u001b[0;36m_cs_matrix.toarray\u001b[1;34m(self, order, out)\u001b[0m\n\u001b[0;32m   1048\u001b[0m \u001b[38;5;28;01mif\u001b[39;00m out \u001b[38;5;129;01mis\u001b[39;00m \u001b[38;5;28;01mNone\u001b[39;00m \u001b[38;5;129;01mand\u001b[39;00m order \u001b[38;5;129;01mis\u001b[39;00m \u001b[38;5;28;01mNone\u001b[39;00m:\n\u001b[0;32m   1049\u001b[0m     order \u001b[38;5;241m=\u001b[39m \u001b[38;5;28mself\u001b[39m\u001b[38;5;241m.\u001b[39m_swap(\u001b[38;5;124m'\u001b[39m\u001b[38;5;124mcf\u001b[39m\u001b[38;5;124m'\u001b[39m)[\u001b[38;5;241m0\u001b[39m]\n\u001b[1;32m-> 1050\u001b[0m out \u001b[38;5;241m=\u001b[39m \u001b[38;5;28;43mself\u001b[39;49m\u001b[38;5;241;43m.\u001b[39;49m\u001b[43m_process_toarray_args\u001b[49m\u001b[43m(\u001b[49m\u001b[43morder\u001b[49m\u001b[43m,\u001b[49m\u001b[43m \u001b[49m\u001b[43mout\u001b[49m\u001b[43m)\u001b[49m\n\u001b[0;32m   1051\u001b[0m \u001b[38;5;28;01mif\u001b[39;00m \u001b[38;5;129;01mnot\u001b[39;00m (out\u001b[38;5;241m.\u001b[39mflags\u001b[38;5;241m.\u001b[39mc_contiguous \u001b[38;5;129;01mor\u001b[39;00m out\u001b[38;5;241m.\u001b[39mflags\u001b[38;5;241m.\u001b[39mf_contiguous):\n\u001b[0;32m   1052\u001b[0m     \u001b[38;5;28;01mraise\u001b[39;00m \u001b[38;5;167;01mValueError\u001b[39;00m(\u001b[38;5;124m'\u001b[39m\u001b[38;5;124mOutput array must be C or F contiguous\u001b[39m\u001b[38;5;124m'\u001b[39m)\n",
      "File \u001b[1;32mc:\\Users\\WD\\.conda\\envs\\VSCEnv\\lib\\site-packages\\scipy\\sparse\\_base.py:1267\u001b[0m, in \u001b[0;36m_spbase._process_toarray_args\u001b[1;34m(self, order, out)\u001b[0m\n\u001b[0;32m   1265\u001b[0m     \u001b[38;5;28;01mreturn\u001b[39;00m out\n\u001b[0;32m   1266\u001b[0m \u001b[38;5;28;01melse\u001b[39;00m:\n\u001b[1;32m-> 1267\u001b[0m     \u001b[38;5;28;01mreturn\u001b[39;00m \u001b[43mnp\u001b[49m\u001b[38;5;241;43m.\u001b[39;49m\u001b[43mzeros\u001b[49m\u001b[43m(\u001b[49m\u001b[38;5;28;43mself\u001b[39;49m\u001b[38;5;241;43m.\u001b[39;49m\u001b[43mshape\u001b[49m\u001b[43m,\u001b[49m\u001b[43m \u001b[49m\u001b[43mdtype\u001b[49m\u001b[38;5;241;43m=\u001b[39;49m\u001b[38;5;28;43mself\u001b[39;49m\u001b[38;5;241;43m.\u001b[39;49m\u001b[43mdtype\u001b[49m\u001b[43m,\u001b[49m\u001b[43m \u001b[49m\u001b[43morder\u001b[49m\u001b[38;5;241;43m=\u001b[39;49m\u001b[43morder\u001b[49m\u001b[43m)\u001b[49m\n",
      "\u001b[1;31mMemoryError\u001b[0m: Unable to allocate 15.4 GiB for an array with shape (45462, 45462) and data type float64"
     ]
    }
   ],
   "source": [
    "cosine_sim_sparseCOUNT = sparse.load_npz('ModelosNLP/cosine_sim_sparse_matrixCOUNT.npz')\n",
    "\n",
    "# Convertirla de nuevo a densa (si es necesario, aunque puedes seguir usándola como dispersa)\n",
    "cosine_sim_sparseCOUNT = cosine_sim_sparseCOUNT.toarray()\n"
   ]
  },
  {
   "cell_type": "code",
   "execution_count": 19,
   "metadata": {},
   "outputs": [
    {
     "name": "stdout",
     "output_type": "stream",
     "text": [
      "Título de la película original: Toy Story\n",
      "Índice de la película: 862\n",
      "\n",
      "Películas recomendadas:\n"
     ]
    },
    {
     "data": {
      "text/html": [
       "<div>\n",
       "<style scoped>\n",
       "    .dataframe tbody tr th:only-of-type {\n",
       "        vertical-align: middle;\n",
       "    }\n",
       "\n",
       "    .dataframe tbody tr th {\n",
       "        vertical-align: top;\n",
       "    }\n",
       "\n",
       "    .dataframe thead th {\n",
       "        text-align: right;\n",
       "    }\n",
       "</style>\n",
       "<table border=\"1\" class=\"dataframe\">\n",
       "  <thead>\n",
       "    <tr style=\"text-align: right;\">\n",
       "      <th></th>\n",
       "      <th>Índice</th>\n",
       "      <th>Título</th>\n",
       "      <th>Similitud Coseno</th>\n",
       "    </tr>\n",
       "  </thead>\n",
       "  <tbody>\n",
       "    <tr>\n",
       "      <th>0</th>\n",
       "      <td>3946</td>\n",
       "      <td>Toy Story 3</td>\n",
       "      <td>0.566667</td>\n",
       "    </tr>\n",
       "    <tr>\n",
       "      <th>1</th>\n",
       "      <td>38815</td>\n",
       "      <td>Toy Story That Time Forgot</td>\n",
       "      <td>0.565685</td>\n",
       "    </tr>\n",
       "    <tr>\n",
       "      <th>2</th>\n",
       "      <td>5005</td>\n",
       "      <td>Small Soldiers</td>\n",
       "      <td>0.538816</td>\n",
       "    </tr>\n",
       "    <tr>\n",
       "      <th>3</th>\n",
       "      <td>10264</td>\n",
       "      <td>Barbie and the Three Musketeers</td>\n",
       "      <td>0.500000</td>\n",
       "    </tr>\n",
       "    <tr>\n",
       "      <th>4</th>\n",
       "      <td>36950</td>\n",
       "      <td>Toy Story of Terror!</td>\n",
       "      <td>0.489898</td>\n",
       "    </tr>\n",
       "    <tr>\n",
       "      <th>5</th>\n",
       "      <td>4722</td>\n",
       "      <td>Child's Play 2</td>\n",
       "      <td>0.482418</td>\n",
       "    </tr>\n",
       "    <tr>\n",
       "      <th>6</th>\n",
       "      <td>11130</td>\n",
       "      <td>Babes in Toyland</td>\n",
       "      <td>0.461880</td>\n",
       "    </tr>\n",
       "    <tr>\n",
       "      <th>7</th>\n",
       "      <td>44051</td>\n",
       "      <td>Monster High: Great Scarrier Reef</td>\n",
       "      <td>0.447214</td>\n",
       "    </tr>\n",
       "    <tr>\n",
       "      <th>8</th>\n",
       "      <td>25018</td>\n",
       "      <td>Ted</td>\n",
       "      <td>0.427618</td>\n",
       "    </tr>\n",
       "    <tr>\n",
       "      <th>9</th>\n",
       "      <td>14868</td>\n",
       "      <td>The Tangerine Bear: Home in Time for Christmas!</td>\n",
       "      <td>0.424264</td>\n",
       "    </tr>\n",
       "  </tbody>\n",
       "</table>\n",
       "</div>"
      ],
      "text/plain": [
       "   Índice                                           Título  Similitud Coseno\n",
       "0    3946                                      Toy Story 3          0.566667\n",
       "1   38815                       Toy Story That Time Forgot          0.565685\n",
       "2    5005                                   Small Soldiers          0.538816\n",
       "3   10264                  Barbie and the Three Musketeers          0.500000\n",
       "4   36950                             Toy Story of Terror!          0.489898\n",
       "5    4722                                   Child's Play 2          0.482418\n",
       "6   11130                                 Babes in Toyland          0.461880\n",
       "7   44051                Monster High: Great Scarrier Reef          0.447214\n",
       "8   25018                                              Ted          0.427618\n",
       "9   14868  The Tangerine Bear: Home in Time for Christmas!          0.424264"
      ]
     },
     "execution_count": 19,
     "metadata": {},
     "output_type": "execute_result"
    }
   ],
   "source": [
    "recomendador_coseno('862', cosine_sim_sparseCOUNT,num_recomendaciones=10)"
   ]
  },
  {
   "cell_type": "markdown",
   "metadata": {},
   "source": [
    "## TF-IDF Vectorizer"
   ]
  },
  {
   "cell_type": "code",
   "execution_count": 16,
   "metadata": {},
   "outputs": [
    {
     "name": "stdout",
     "output_type": "stream",
     "text": [
      "Shape de la matriz:  (45462, 10689)\n"
     ]
    }
   ],
   "source": [
    "from sklearn.feature_extraction.text import TfidfVectorizer\n",
    "\n",
    "#Definimos el objeto TF-IDF Vectorizer Object\n",
    "tfidf = TfidfVectorizer()\n",
    "\n",
    "tfidf_matrix = tfidf.fit_transform(clean_sentences)\n",
    "\n",
    "#Dimensiones de la matriz\n",
    "print('Shape de la matriz: ',tfidf_matrix.shape)"
   ]
  },
  {
   "cell_type": "code",
   "execution_count": 20,
   "metadata": {},
   "outputs": [
    {
     "data": {
      "text/plain": [
       "array([[1.        , 0.32212725, 0.03916419, ..., 0.04361084, 0.        ,\n",
       "        0.03425333],\n",
       "       [0.32212725, 1.        , 0.0384641 , ..., 0.05658173, 0.0222974 ,\n",
       "        0.04444107],\n",
       "       [0.03916419, 0.0384641 , 1.        , ..., 0.        , 0.01314303,\n",
       "        0.        ],\n",
       "       ...,\n",
       "       [0.04361084, 0.05658173, 0.        , ..., 1.        , 0.18521712,\n",
       "        0.22073739],\n",
       "       [0.        , 0.0222974 , 0.01314303, ..., 0.18521712, 1.        ,\n",
       "        0.27112961],\n",
       "       [0.03425333, 0.04444107, 0.        , ..., 0.22073739, 0.27112961,\n",
       "        1.        ]])"
      ]
     },
     "execution_count": 20,
     "metadata": {},
     "output_type": "execute_result"
    }
   ],
   "source": [
    "#Calculamos la matriz de similitud de coseno para el TF-IDF\n",
    "cosine_sim_TFIDF = cosine_similarity(tfidf_matrix, tfidf_matrix)\n",
    "cosine_sim_TFIDF"
   ]
  },
  {
   "cell_type": "code",
   "execution_count": 58,
   "metadata": {},
   "outputs": [
    {
     "name": "stdout",
     "output_type": "stream",
     "text": [
      "Título de la película original: Toy Story\n",
      "Índice de la película: 862\n",
      "\n",
      "Películas recomendadas:\n"
     ]
    },
    {
     "data": {
      "text/html": [
       "<div>\n",
       "<style scoped>\n",
       "    .dataframe tbody tr th:only-of-type {\n",
       "        vertical-align: middle;\n",
       "    }\n",
       "\n",
       "    .dataframe tbody tr th {\n",
       "        vertical-align: top;\n",
       "    }\n",
       "\n",
       "    .dataframe thead th {\n",
       "        text-align: right;\n",
       "    }\n",
       "</style>\n",
       "<table border=\"1\" class=\"dataframe\">\n",
       "  <thead>\n",
       "    <tr style=\"text-align: right;\">\n",
       "      <th></th>\n",
       "      <th>Índice</th>\n",
       "      <th>Título</th>\n",
       "      <th>Similitud Coseno</th>\n",
       "    </tr>\n",
       "  </thead>\n",
       "  <tbody>\n",
       "    <tr>\n",
       "      <th>0</th>\n",
       "      <td>5005</td>\n",
       "      <td>Small Soldiers</td>\n",
       "      <td>0.600869</td>\n",
       "    </tr>\n",
       "    <tr>\n",
       "      <th>1</th>\n",
       "      <td>38815</td>\n",
       "      <td>Toy Story That Time Forgot</td>\n",
       "      <td>0.598064</td>\n",
       "    </tr>\n",
       "    <tr>\n",
       "      <th>2</th>\n",
       "      <td>10264</td>\n",
       "      <td>Barbie and the Three Musketeers</td>\n",
       "      <td>0.596729</td>\n",
       "    </tr>\n",
       "    <tr>\n",
       "      <th>3</th>\n",
       "      <td>4722</td>\n",
       "      <td>Child's Play 2</td>\n",
       "      <td>0.555918</td>\n",
       "    </tr>\n",
       "    <tr>\n",
       "      <th>4</th>\n",
       "      <td>11130</td>\n",
       "      <td>Babes in Toyland</td>\n",
       "      <td>0.527988</td>\n",
       "    </tr>\n",
       "    <tr>\n",
       "      <th>5</th>\n",
       "      <td>3946</td>\n",
       "      <td>Toy Story 3</td>\n",
       "      <td>0.483533</td>\n",
       "    </tr>\n",
       "    <tr>\n",
       "      <th>6</th>\n",
       "      <td>10521</td>\n",
       "      <td>Dolls</td>\n",
       "      <td>0.483500</td>\n",
       "    </tr>\n",
       "    <tr>\n",
       "      <th>7</th>\n",
       "      <td>44051</td>\n",
       "      <td>Monster High: Great Scarrier Reef</td>\n",
       "      <td>0.463308</td>\n",
       "    </tr>\n",
       "    <tr>\n",
       "      <th>8</th>\n",
       "      <td>5044</td>\n",
       "      <td>Toys</td>\n",
       "      <td>0.426696</td>\n",
       "    </tr>\n",
       "    <tr>\n",
       "      <th>9</th>\n",
       "      <td>36950</td>\n",
       "      <td>Toy Story of Terror!</td>\n",
       "      <td>0.424615</td>\n",
       "    </tr>\n",
       "  </tbody>\n",
       "</table>\n",
       "</div>"
      ],
      "text/plain": [
       "   Índice                             Título  Similitud Coseno\n",
       "0    5005                     Small Soldiers          0.600869\n",
       "1   38815         Toy Story That Time Forgot          0.598064\n",
       "2   10264    Barbie and the Three Musketeers          0.596729\n",
       "3    4722                     Child's Play 2          0.555918\n",
       "4   11130                   Babes in Toyland          0.527988\n",
       "5    3946                        Toy Story 3          0.483533\n",
       "6   10521                              Dolls          0.483500\n",
       "7   44051  Monster High: Great Scarrier Reef          0.463308\n",
       "8    5044                               Toys          0.426696\n",
       "9   36950               Toy Story of Terror!          0.424615"
      ]
     },
     "execution_count": 58,
     "metadata": {},
     "output_type": "execute_result"
    }
   ],
   "source": [
    "recomendador_coseno('862', cosine_sim_TFIDF,num_recomendaciones=10)"
   ]
  },
  {
   "cell_type": "markdown",
   "metadata": {},
   "source": [
    "No me gusta tanto porque quita peso a los generos"
   ]
  },
  {
   "cell_type": "markdown",
   "metadata": {},
   "source": [
    "### Guardar TFIDF Vectorizer"
   ]
  },
  {
   "cell_type": "code",
   "execution_count": 1,
   "metadata": {},
   "outputs": [],
   "source": [
    "# from scipy.sparse import csr_matrix\n",
    "# from scipy import sparse\n",
    "# cosine_sim_sparseTFIDF = csr_matrix(cosine_sim_TFIDF)\n",
    "\n",
    "# # Guardar la matriz dispersa en un archivo\n",
    "# sparse.save_npz('ModelosNLP/cosine_sim_sparse_matrixTFIDF.npz', cosine_sim_sparseTFIDF)"
   ]
  },
  {
   "cell_type": "markdown",
   "metadata": {},
   "source": [
    "### Cargar TFIDF Vect"
   ]
  },
  {
   "cell_type": "code",
   "execution_count": 1,
   "metadata": {},
   "outputs": [
    {
     "ename": "NameError",
     "evalue": "name 'sparse' is not defined",
     "output_type": "error",
     "traceback": [
      "\u001b[1;31m---------------------------------------------------------------------------\u001b[0m",
      "\u001b[1;31mNameError\u001b[0m                                 Traceback (most recent call last)",
      "Cell \u001b[1;32mIn[1], line 1\u001b[0m\n\u001b[1;32m----> 1\u001b[0m cosine_sim_sparseTFIDF \u001b[38;5;241m=\u001b[39m \u001b[43msparse\u001b[49m\u001b[38;5;241m.\u001b[39mload_npz(\u001b[38;5;124m'\u001b[39m\u001b[38;5;124mModelosNLP/cosine_sim_sparse_matrixTFIDF.npz\u001b[39m\u001b[38;5;124m'\u001b[39m)\n\u001b[0;32m      3\u001b[0m \u001b[38;5;66;03m# Convertirla de nuevo a densa (si es necesario, aunque puedes seguir usándola como dispersa)\u001b[39;00m\n\u001b[0;32m      4\u001b[0m cosine_sim_sparseTFIDF \u001b[38;5;241m=\u001b[39m cosine_sim_sparseTFIDF\u001b[38;5;241m.\u001b[39mtoarray()\n",
      "\u001b[1;31mNameError\u001b[0m: name 'sparse' is not defined"
     ]
    }
   ],
   "source": [
    "cosine_sim_sparseTFIDF = sparse.load_npz('ModelosNLP/cosine_sim_sparse_matrixTFIDF.npz')\n",
    "\n",
    "# Convertirla de nuevo a densa (si es necesario, aunque puedes seguir usándola como dispersa)\n",
    "cosine_sim_sparseTFIDF = cosine_sim_sparseTFIDF.toarray()\n"
   ]
  },
  {
   "cell_type": "code",
   "execution_count": 27,
   "metadata": {},
   "outputs": [
    {
     "name": "stdout",
     "output_type": "stream",
     "text": [
      "Título de la película original: Toy Story\n",
      "Índice de la película: 862\n",
      "\n",
      "Películas recomendadas:\n"
     ]
    },
    {
     "data": {
      "text/html": [
       "<div>\n",
       "<style scoped>\n",
       "    .dataframe tbody tr th:only-of-type {\n",
       "        vertical-align: middle;\n",
       "    }\n",
       "\n",
       "    .dataframe tbody tr th {\n",
       "        vertical-align: top;\n",
       "    }\n",
       "\n",
       "    .dataframe thead th {\n",
       "        text-align: right;\n",
       "    }\n",
       "</style>\n",
       "<table border=\"1\" class=\"dataframe\">\n",
       "  <thead>\n",
       "    <tr style=\"text-align: right;\">\n",
       "      <th></th>\n",
       "      <th>Índice</th>\n",
       "      <th>Título</th>\n",
       "      <th>Similitud Coseno</th>\n",
       "    </tr>\n",
       "  </thead>\n",
       "  <tbody>\n",
       "    <tr>\n",
       "      <th>0</th>\n",
       "      <td>38815</td>\n",
       "      <td>Toy Story That Time Forgot</td>\n",
       "      <td>0.610571</td>\n",
       "    </tr>\n",
       "    <tr>\n",
       "      <th>1</th>\n",
       "      <td>10264</td>\n",
       "      <td>Barbie and the Three Musketeers</td>\n",
       "      <td>0.584379</td>\n",
       "    </tr>\n",
       "    <tr>\n",
       "      <th>2</th>\n",
       "      <td>5005</td>\n",
       "      <td>Small Soldiers</td>\n",
       "      <td>0.581319</td>\n",
       "    </tr>\n",
       "    <tr>\n",
       "      <th>3</th>\n",
       "      <td>4722</td>\n",
       "      <td>Child's Play 2</td>\n",
       "      <td>0.539494</td>\n",
       "    </tr>\n",
       "    <tr>\n",
       "      <th>4</th>\n",
       "      <td>11130</td>\n",
       "      <td>Babes in Toyland</td>\n",
       "      <td>0.521613</td>\n",
       "    </tr>\n",
       "    <tr>\n",
       "      <th>5</th>\n",
       "      <td>3946</td>\n",
       "      <td>Toy Story 3</td>\n",
       "      <td>0.505161</td>\n",
       "    </tr>\n",
       "    <tr>\n",
       "      <th>6</th>\n",
       "      <td>44051</td>\n",
       "      <td>Monster High: Great Scarrier Reef</td>\n",
       "      <td>0.481568</td>\n",
       "    </tr>\n",
       "    <tr>\n",
       "      <th>7</th>\n",
       "      <td>10521</td>\n",
       "      <td>Dolls</td>\n",
       "      <td>0.462427</td>\n",
       "    </tr>\n",
       "    <tr>\n",
       "      <th>8</th>\n",
       "      <td>36950</td>\n",
       "      <td>Toy Story of Terror!</td>\n",
       "      <td>0.453366</td>\n",
       "    </tr>\n",
       "    <tr>\n",
       "      <th>9</th>\n",
       "      <td>5044</td>\n",
       "      <td>Toys</td>\n",
       "      <td>0.416538</td>\n",
       "    </tr>\n",
       "  </tbody>\n",
       "</table>\n",
       "</div>"
      ],
      "text/plain": [
       "   Índice                             Título  Similitud Coseno\n",
       "0   38815         Toy Story That Time Forgot          0.610571\n",
       "1   10264    Barbie and the Three Musketeers          0.584379\n",
       "2    5005                     Small Soldiers          0.581319\n",
       "3    4722                     Child's Play 2          0.539494\n",
       "4   11130                   Babes in Toyland          0.521613\n",
       "5    3946                        Toy Story 3          0.505161\n",
       "6   44051  Monster High: Great Scarrier Reef          0.481568\n",
       "7   10521                              Dolls          0.462427\n",
       "8   36950               Toy Story of Terror!          0.453366\n",
       "9    5044                               Toys          0.416538"
      ]
     },
     "execution_count": 27,
     "metadata": {},
     "output_type": "execute_result"
    }
   ],
   "source": [
    "recomendador_coseno('862', cosine_sim_sparseTFIDF,num_recomendaciones=10)"
   ]
  },
  {
   "cell_type": "markdown",
   "metadata": {},
   "source": [
    "## Correlacion Count Vect"
   ]
  },
  {
   "cell_type": "code",
   "execution_count": 59,
   "metadata": {},
   "outputs": [],
   "source": [
    "from scipy.spatial.distance import correlation\n",
    "import pandas as pd\n",
    "\n",
    "def recomendador_correlacion(movie_id, cosine_sim, num_recomendaciones=5,df=df_keywords_title):\n",
    "    # Crear una Serie que contiene como índice el 'id' y el valor correspondiente al índice de la película\n",
    "    indices = pd.Series(df.index, index=df['id'])\n",
    "\n",
    "    # Verificar si el movie_id está en los índices\n",
    "    if movie_id not in indices.index:\n",
    "        print(f'ID de película {movie_id} no encontrado.')\n",
    "        return\n",
    "\n",
    "    # Obtener el índice de la película a partir del movie_id\n",
    "    idx = indices[movie_id]\n",
    "\n",
    "    # Obtener el vector TF-IDF de la película objetivo\n",
    "    target_vector = cosine_sim[idx]\n",
    "\n",
    "    # Calcular la correlación entre el vector de la película objetivo y todos los vectores\n",
    "    correlations = []\n",
    "    for i in range(cosine_sim.shape[0]):\n",
    "        if i != idx:\n",
    "            vector = cosine_sim[i]\n",
    "            # Correlación = 1 - distancia para convertir distancia en correlación\n",
    "            corr = 1 - correlation(target_vector, vector)\n",
    "            correlations.append((i, corr))\n",
    "\n",
    "    # Ordenar la lista de tuplas por la correlación en orden descendente\n",
    "    correlations = sorted(correlations, key=lambda x: x[1], reverse=True)\n",
    "\n",
    "    # Obtener las películas más similares ignorando el primero (que es la misma película)\n",
    "    correlations = correlations[1:num_recomendaciones+1]\n",
    "\n",
    "    # Obtener los índices y las correlaciones\n",
    "    movie_indices = [i[0] for i in correlations]\n",
    "    correlation_values = [i[1] for i in correlations]\n",
    "\n",
    "    # Verificar que los índices obtenidos están dentro del rango del DataFrame\n",
    "    valid_indices = [idx for idx in movie_indices if idx in df.index]\n",
    "\n",
    "    # Crear un DataFrame para mostrar los resultados\n",
    "    result_df = pd.DataFrame({\n",
    "        'Índice': valid_indices,\n",
    "        'Título': df['original_title'].iloc[valid_indices].values,\n",
    "        'Correlación': [correlation_values[movie_indices.index(idx)] for idx in valid_indices]\n",
    "    })\n",
    "\n",
    "    # Imprimir las películas recomendadas con sus índices y correlaciones\n",
    "    print('\\nPelículas recomendadas:')\n",
    "    #print(result_df.to_string(index=False))\n",
    "\n",
    "    # Retornar el DataFrame con los resultados\n",
    "    return result_df"
   ]
  },
  {
   "cell_type": "markdown",
   "metadata": {},
   "source": [
    "### Probar modelo"
   ]
  },
  {
   "cell_type": "code",
   "execution_count": 60,
   "metadata": {},
   "outputs": [
    {
     "ename": "NameError",
     "evalue": "name 'cosine_sim_sparseCOUNT' is not defined",
     "output_type": "error",
     "traceback": [
      "\u001b[1;31m---------------------------------------------------------------------------\u001b[0m",
      "\u001b[1;31mNameError\u001b[0m                                 Traceback (most recent call last)",
      "Cell \u001b[1;32mIn[60], line 1\u001b[0m\n\u001b[1;32m----> 1\u001b[0m recomendador_correlacion(\u001b[38;5;124m'\u001b[39m\u001b[38;5;124m862\u001b[39m\u001b[38;5;124m'\u001b[39m, \u001b[43mcosine_sim_sparseCOUNT\u001b[49m,num_recomendaciones\u001b[38;5;241m=\u001b[39m\u001b[38;5;241m10\u001b[39m)\n",
      "\u001b[1;31mNameError\u001b[0m: name 'cosine_sim_sparseCOUNT' is not defined"
     ]
    }
   ],
   "source": [
    "recomendador_correlacion('862', cosine_sim_sparseCOUNT,num_recomendaciones=10)"
   ]
  },
  {
   "cell_type": "code",
   "execution_count": 63,
   "metadata": {},
   "outputs": [
    {
     "name": "stderr",
     "output_type": "stream",
     "text": [
      "c:\\Users\\WD\\.conda\\envs\\VSCEnv\\lib\\site-packages\\scipy\\spatial\\distance.py:636: RuntimeWarning: invalid value encountered in scalar divide\n",
      "  dist = 1.0 - uv / np.sqrt(uu * vv)\n"
     ]
    },
    {
     "name": "stdout",
     "output_type": "stream",
     "text": [
      "\n",
      "Películas recomendadas:\n"
     ]
    },
    {
     "data": {
      "text/html": [
       "<div>\n",
       "<style scoped>\n",
       "    .dataframe tbody tr th:only-of-type {\n",
       "        vertical-align: middle;\n",
       "    }\n",
       "\n",
       "    .dataframe tbody tr th {\n",
       "        vertical-align: top;\n",
       "    }\n",
       "\n",
       "    .dataframe thead th {\n",
       "        text-align: right;\n",
       "    }\n",
       "</style>\n",
       "<table border=\"1\" class=\"dataframe\">\n",
       "  <thead>\n",
       "    <tr style=\"text-align: right;\">\n",
       "      <th></th>\n",
       "      <th>Índice</th>\n",
       "      <th>Título</th>\n",
       "      <th>Correlación</th>\n",
       "    </tr>\n",
       "  </thead>\n",
       "  <tbody>\n",
       "    <tr>\n",
       "      <th>0</th>\n",
       "      <td>828</td>\n",
       "      <td>The Talented Mr. Ripley</td>\n",
       "      <td>0.440668</td>\n",
       "    </tr>\n",
       "    <tr>\n",
       "      <th>1</th>\n",
       "      <td>5161</td>\n",
       "      <td>Peter's Friends</td>\n",
       "      <td>0.421081</td>\n",
       "    </tr>\n",
       "    <tr>\n",
       "      <th>2</th>\n",
       "      <td>2459</td>\n",
       "      <td>Dinner for One</td>\n",
       "      <td>0.400048</td>\n",
       "    </tr>\n",
       "    <tr>\n",
       "      <th>3</th>\n",
       "      <td>5168</td>\n",
       "      <td>Naked in New York</td>\n",
       "      <td>0.395206</td>\n",
       "    </tr>\n",
       "    <tr>\n",
       "      <th>4</th>\n",
       "      <td>5258</td>\n",
       "      <td>Hatchet</td>\n",
       "      <td>0.391134</td>\n",
       "    </tr>\n",
       "    <tr>\n",
       "      <th>5</th>\n",
       "      <td>5629</td>\n",
       "      <td>The Mouse That Roared</td>\n",
       "      <td>0.383418</td>\n",
       "    </tr>\n",
       "    <tr>\n",
       "      <th>6</th>\n",
       "      <td>5277</td>\n",
       "      <td>The Hudsucker Proxy</td>\n",
       "      <td>0.367925</td>\n",
       "    </tr>\n",
       "    <tr>\n",
       "      <th>7</th>\n",
       "      <td>2432</td>\n",
       "      <td>Evening</td>\n",
       "      <td>0.361348</td>\n",
       "    </tr>\n",
       "    <tr>\n",
       "      <th>8</th>\n",
       "      <td>5623</td>\n",
       "      <td>New York, New York</td>\n",
       "      <td>0.357437</td>\n",
       "    </tr>\n",
       "    <tr>\n",
       "      <th>9</th>\n",
       "      <td>890</td>\n",
       "      <td>Y tu mamá también</td>\n",
       "      <td>0.355928</td>\n",
       "    </tr>\n",
       "  </tbody>\n",
       "</table>\n",
       "</div>"
      ],
      "text/plain": [
       "   Índice                   Título  Correlación\n",
       "0     828  The Talented Mr. Ripley     0.440668\n",
       "1    5161          Peter's Friends     0.421081\n",
       "2    2459           Dinner for One     0.400048\n",
       "3    5168        Naked in New York     0.395206\n",
       "4    5258                  Hatchet     0.391134\n",
       "5    5629    The Mouse That Roared     0.383418\n",
       "6    5277      The Hudsucker Proxy     0.367925\n",
       "7    2432                  Evening     0.361348\n",
       "8    5623       New York, New York     0.357437\n",
       "9     890        Y tu mamá también     0.355928"
      ]
     },
     "execution_count": 63,
     "metadata": {},
     "output_type": "execute_result"
    }
   ],
   "source": [
    "recomendador_correlacion('862', cosine_sim_count,num_recomendaciones=10)"
   ]
  },
  {
   "cell_type": "markdown",
   "metadata": {},
   "source": [
    "## LDA (sirve mejor para textos mas largos)"
   ]
  },
  {
   "cell_type": "code",
   "execution_count": 64,
   "metadata": {},
   "outputs": [
    {
     "data": {
      "text/plain": [
       "<gensim.corpora.dictionary.Dictionary at 0x202cbf91d50>"
      ]
     },
     "execution_count": 64,
     "metadata": {},
     "output_type": "execute_result"
    }
   ],
   "source": [
    "from gensim.corpora import Dictionary\n",
    "\n",
    "dictionary = Dictionary(clean_keywords)\n",
    "dictionary"
   ]
  },
  {
   "cell_type": "code",
   "execution_count": 65,
   "metadata": {},
   "outputs": [
    {
     "name": "stdout",
     "output_type": "stream",
     "text": [
      "Numero de palabras únicas: 1510\n"
     ]
    }
   ],
   "source": [
    "dictionary.filter_extremes(no_below=20, no_above=0.5)\n",
    "corpus = [dictionary.doc2bow(doc) for doc in clean_keywords]\n",
    "\n",
    "print('Numero de palabras únicas: %d' % len(dictionary))"
   ]
  },
  {
   "cell_type": "code",
   "execution_count": 66,
   "metadata": {},
   "outputs": [],
   "source": [
    "from gensim.models import LdaModel\n",
    "\n",
    "Estimacion = LdaModel(\n",
    "    corpus=corpus,\n",
    "    id2word=dictionary,\n",
    "    num_topics=4,\n",
    "    chunksize=1000,\n",
    "    passes=20,\n",
    "    iterations=400,\n",
    "    alpha='auto',\n",
    "    eta='auto',\n",
    "    random_state=123,\n",
    "    eval_every=None\n",
    ")"
   ]
  },
  {
   "cell_type": "code",
   "execution_count": 67,
   "metadata": {},
   "outputs": [
    {
     "name": "stdout",
     "output_type": "stream",
     "text": [
      "[(0,\n",
      "  '0.049*\"murder\" + 0.023*\"violenc\" + 0.022*\"reveng\" + 0.020*\"short\" + '\n",
      "  '0.018*\"sport\" + 0.016*\"base true stori\" + 0.015*\"kidnap\" + 0.015*\"polic\" + '\n",
      "  '0.013*\"suspens\" + 0.012*\"prison\"'),\n",
      " (1,\n",
      "  '0.068*\"stand comedi\" + 0.045*\"\" + 0.018*\"anim\" + 0.016*\"zombi\" + '\n",
      "  '0.016*\"polit\" + 0.015*\"war\" + 0.013*\"ghost\" + 0.013*\"dog\" + 0.012*\"monster\" '\n",
      "  '+ 0.012*\"found footag\"'),\n",
      " (2,\n",
      "  '0.051*\"music\" + 0.035*\"teenag\" + 0.031*\"sequel\" + 0.030*\"sex\" + '\n",
      "  '0.027*\"femal nuditi\" + 0.025*\"high school\" + 0.024*\"nuditi\" + '\n",
      "  '0.019*\"supernatur\" + 0.017*\"superhero\" + 0.016*\"danc\"'),\n",
      " (3,\n",
      "  '0.154*\"woman director\" + 0.036*\"biographi\" + 0.029*\"base novel\" + '\n",
      "  '0.019*\"love\" + 0.017*\"independ film\" + 0.016*\"christma\" + 0.014*\"famili\" + '\n",
      "  '0.013*\"world war\" + 0.013*\"friendship\" + 0.011*\"lgbt\"')]\n"
     ]
    }
   ],
   "source": [
    "from pprint import pprint\n",
    "\n",
    "pprint(Estimacion.print_topics())"
   ]
  },
  {
   "cell_type": "code",
   "execution_count": 68,
   "metadata": {},
   "outputs": [
    {
     "data": {
      "text/html": [
       "\n",
       "<link rel=\"stylesheet\" type=\"text/css\" href=\"https://cdn.jsdelivr.net/gh/bmabey/pyLDAvis@3.4.0/pyLDAvis/js/ldavis.v1.0.0.css\">\n",
       "\n",
       "\n",
       "<div id=\"ldavis_el316882211099738736547999327\" style=\"background-color:white;\"></div>\n",
       "<script type=\"text/javascript\">\n",
       "\n",
       "var ldavis_el316882211099738736547999327_data = {\"mdsDat\": {\"x\": [-0.37878363699013223, 0.25055496045346815, 0.10586790705689654, 0.022360769479767544], \"y\": [0.09461250066147306, 0.29173296778355684, -0.34270715020994397, -0.043638318235085745], \"topics\": [1, 2, 3, 4], \"cluster\": [1, 1, 1, 1], \"Freq\": [33.149569646080565, 29.078807759358693, 21.831207698495163, 15.940414896065585]}, \"tinfo\": {\"Term\": [\"woman director\", \"stand comedi\", \"murder\", \"music\", \"\", \"biographi\", \"base novel\", \"teenag\", \"sequel\", \"sex\", \"violenc\", \"femal nuditi\", \"reveng\", \"high school\", \"nuditi\", \"short\", \"love\", \"sport\", \"independ film\", \"anim\", \"base true stori\", \"christma\", \"supernatur\", \"zombi\", \"kidnap\", \"polic\", \"polit\", \"superhero\", \"famili\", \"war\", \"woman director\", \"biographi\", \"base novel\", \"love\", \"independ film\", \"christma\", \"famili\", \"world war\", \"friendship\", \"lgbt\", \"suicid\", \"romanc\", \"gay\", \"come age\", \"comedi\", \"documentari\", \"alcohol\", \"small town\", \"brazilian\", \"marriag\", \"wed\", \"homosexu\", \"holiday\", \"london england\", \"father son relationship\", \"famili relationship\", \"hospit\", \"relationship\", \"base play music\", \"pari\", \"prostitut\", \"murder\", \"violenc\", \"reveng\", \"short\", \"sport\", \"base true stori\", \"kidnap\", \"polic\", \"suspens\", \"prison\", \"blood\", \"drug\", \"silent film\", \"death\", \"serial killer\", \"movi\", \"gore\", \"remak\", \"dark comedi\", \"rape\", \"new york citi\", \"gangster\", \"fight\", \"terror\", \"demon\", \"assassin\", \"crime\", \"robberi\", \"spi\", \"investig\", \"road trip\", \"desert\", \"stand comedi\", \"\", \"anim\", \"zombi\", \"polit\", \"war\", \"ghost\", \"dog\", \"monster\", \"found footag\", \"martial art\", \"alien\", \"surviv\", \"post apocalypt\", \"dystopia\", \"duringcreditssting\", \"magic\", \"time travel\", \"christian\", \"pregnanc\", \"school\", \"island\", \"forest\", \"soldier\", \"haunt hous\", \"orphan\", \"fairi tale\", \"japan\", \"aftercreditssting\", \"lawyer\", \"car accid\", \"interview\", \"haunt\", \"music\", \"teenag\", \"sequel\", \"sex\", \"femal nuditi\", \"nuditi\", \"high school\", \"supernatur\", \"superhero\", \"danc\", \"drama\", \"base comic\", \"parti\", \"vampir\", \"male nuditi\", \"father daughter relationship\", \"romant comedi\", \"racism\", \"super power\", \"centuri\", \"korean movi\", \"comic\", \"beach\", \"satir\", \"rural set\", \"crimin\", \"summer\", \"nativ american\", \"grief\", \"musician\"], \"Freq\": [5194.0, 1512.0, 1453.0, 826.0, 993.0, 1216.0, 977.0, 575.0, 511.0, 491.0, 681.0, 433.0, 647.0, 400.0, 394.0, 587.0, 649.0, 541.0, 582.0, 397.0, 477.0, 530.0, 306.0, 364.0, 449.0, 440.0, 351.0, 285.0, 459.0, 324.0, 5193.079358320903, 1215.708567496247, 976.0468817966959, 648.6387808618958, 581.8381089388378, 529.8033655570271, 458.66396626596315, 428.34503353102957, 426.2794678306439, 359.1242039793311, 350.6317304473201, 326.9044027542485, 320.4789437793205, 324.5211279776233, 324.13743292788104, 308.860782400788, 233.84288822134667, 232.48431734398187, 223.01807037531367, 216.63486447124671, 214.44657115952296, 209.68983288586492, 201.94993016907438, 203.77728493027104, 200.89714679708, 197.0066988409488, 196.65643773434402, 193.70733717204362, 192.73587875641394, 187.6963614516784, 207.27295093323616, 1452.7417045295558, 680.1701806864241, 646.28135526743, 586.8791261439735, 540.6611587663688, 476.3259245607406, 448.18762084377875, 438.9163817185288, 375.3128206051695, 346.16030890274544, 338.5537213827068, 336.987677936483, 329.822381958991, 343.1224924049366, 317.4129499163184, 307.3633169375644, 301.6931129486665, 264.5279216217491, 259.2459613566094, 245.23086577805537, 219.6826494425131, 212.57027695298427, 213.29439349398314, 209.77533381510258, 211.26987322225105, 195.43055433149985, 194.84939061050702, 189.08325848263334, 187.10288946841376, 188.01054593660626, 196.54294222532914, 188.99397513554223, 1511.6789833834616, 992.1111496192218, 396.603619296738, 363.3693324725982, 350.2590090233938, 323.6018712963033, 292.10620483420496, 285.37338099167005, 275.1724225160939, 260.13855660544687, 246.29655148105752, 237.68310203896007, 240.4731336600528, 215.89210171926126, 213.46065095429265, 209.1557930856215, 195.01950979811343, 171.7472139738179, 174.83632571720054, 172.89055734106273, 162.121308258948, 157.03338878910017, 155.4122038130104, 144.31644225005746, 144.4790347207423, 130.21601289960097, 127.25380563228518, 119.24330802253667, 118.60713658926898, 119.59183899002817, 127.0362032448744, 121.25070326993871, 120.09701961480255, 825.9110924168475, 574.4144550494234, 510.3911006350446, 490.15568921847057, 432.20082268547674, 393.1683566139837, 399.22457647901643, 305.51425822770386, 284.00097387820125, 263.4462305396879, 261.5438701373322, 233.18624431920955, 235.30106858994722, 206.40958716641208, 202.77096924483044, 211.3605647780014, 197.55801647417337, 190.7159014233358, 169.32195003783247, 164.8619202658212, 167.12562675969792, 145.7216943584216, 146.24996120082918, 121.56490238904571, 118.82886969275772, 117.51166337900598, 112.69661841773946, 108.78041012121453, 117.47273893206118, 101.31199011704572], \"Total\": [5194.0, 1512.0, 1453.0, 826.0, 993.0, 1216.0, 977.0, 575.0, 511.0, 491.0, 681.0, 433.0, 647.0, 400.0, 394.0, 587.0, 649.0, 541.0, 582.0, 397.0, 477.0, 530.0, 306.0, 364.0, 449.0, 440.0, 351.0, 285.0, 459.0, 324.0, 5194.192668007656, 1216.8413912157107, 977.1726564382474, 649.7582675180862, 582.9292816165434, 530.9400891986506, 459.7931353539668, 429.4530998114667, 427.39772931057655, 360.2355789656005, 351.76523795551765, 328.02312935219516, 321.58872380811374, 325.6543710772365, 325.28275840727014, 310.01514968359504, 234.96519714331657, 233.60347802051686, 224.13903326799493, 217.73038294942745, 215.55531544259574, 210.791738935965, 203.06089484389454, 204.9108273967028, 202.02496245137013, 198.12304680237958, 197.7836307470173, 194.82594051761615, 193.8563970060287, 188.80372906694717, 208.546838100897, 1453.8275490342012, 681.2633076139774, 647.3667882604815, 587.9944239840036, 541.7497259568621, 477.4667934759326, 449.27895303689905, 440.00028060527643, 376.4000392770874, 347.2391969274009, 339.6482236707201, 338.0824728138199, 330.89854987203506, 344.24440099863523, 318.50178105070444, 308.45313647196576, 302.77825452345866, 265.63332038434316, 260.35311522287935, 246.31761009930568, 220.78240328553304, 213.648354217329, 214.40251650258318, 210.87363007004808, 212.38607897108696, 196.51904169061862, 195.95617152170078, 190.16423472704196, 188.1843985609071, 189.09842793471756, 197.6813118187016, 190.10084117952803, 1512.8509690553096, 993.2497127609473, 397.71424618979677, 364.4993339169291, 351.40195222537585, 324.7354302181647, 293.23833463847757, 286.52700160265243, 276.29847333075196, 261.2751124911647, 247.40686749975933, 238.79076522512688, 241.61682587988022, 217.0079513276311, 214.57156560360315, 210.2502181475473, 196.1318848742353, 172.86199178419025, 175.98366379360763, 174.05507279251498, 163.23860034846655, 158.15061316281475, 156.53405737749722, 145.4221969546372, 145.61708398030942, 131.33996433331376, 128.36875679200978, 120.34390672142094, 119.70709542468971, 120.70487476674498, 128.2356372748612, 122.38392342718613, 121.24566973913325, 826.9865739139744, 575.5042306599479, 511.4842657873065, 491.23147359778415, 433.27393494437797, 394.24046330450193, 400.32207445683326, 306.62288227237264, 285.0762049866942, 264.5437173903072, 262.63984807401897, 234.26192948853708, 236.39364711728797, 207.4899032754016, 203.84359997167732, 212.48240384479536, 198.67579141998002, 191.81620461584797, 170.39412781992507, 165.95058698553868, 168.26635346002416, 146.79016290379874, 147.3494239535884, 122.6544638005606, 119.93413442733849, 118.61780227605627, 113.78224196270406, 109.8606380641674, 118.65706314770613, 102.38543462047174], \"Category\": [\"Default\", \"Default\", \"Default\", \"Default\", \"Default\", \"Default\", \"Default\", \"Default\", \"Default\", \"Default\", \"Default\", \"Default\", \"Default\", \"Default\", \"Default\", \"Default\", \"Default\", \"Default\", \"Default\", \"Default\", \"Default\", \"Default\", \"Default\", \"Default\", \"Default\", \"Default\", \"Default\", \"Default\", \"Default\", \"Default\", \"Topic1\", \"Topic1\", \"Topic1\", \"Topic1\", \"Topic1\", \"Topic1\", \"Topic1\", \"Topic1\", \"Topic1\", \"Topic1\", \"Topic1\", \"Topic1\", \"Topic1\", \"Topic1\", \"Topic1\", \"Topic1\", \"Topic1\", \"Topic1\", \"Topic1\", \"Topic1\", \"Topic1\", \"Topic1\", \"Topic1\", \"Topic1\", \"Topic1\", \"Topic1\", \"Topic1\", \"Topic1\", \"Topic1\", \"Topic1\", \"Topic1\", \"Topic2\", \"Topic2\", \"Topic2\", \"Topic2\", \"Topic2\", \"Topic2\", \"Topic2\", \"Topic2\", \"Topic2\", \"Topic2\", \"Topic2\", \"Topic2\", \"Topic2\", \"Topic2\", \"Topic2\", \"Topic2\", \"Topic2\", \"Topic2\", \"Topic2\", \"Topic2\", \"Topic2\", \"Topic2\", \"Topic2\", \"Topic2\", \"Topic2\", \"Topic2\", \"Topic2\", \"Topic2\", \"Topic2\", \"Topic2\", \"Topic2\", \"Topic2\", \"Topic3\", \"Topic3\", \"Topic3\", \"Topic3\", \"Topic3\", \"Topic3\", \"Topic3\", \"Topic3\", \"Topic3\", \"Topic3\", \"Topic3\", \"Topic3\", \"Topic3\", \"Topic3\", \"Topic3\", \"Topic3\", \"Topic3\", \"Topic3\", \"Topic3\", \"Topic3\", \"Topic3\", \"Topic3\", \"Topic3\", \"Topic3\", \"Topic3\", \"Topic3\", \"Topic3\", \"Topic3\", \"Topic3\", \"Topic3\", \"Topic3\", \"Topic3\", \"Topic3\", \"Topic4\", \"Topic4\", \"Topic4\", \"Topic4\", \"Topic4\", \"Topic4\", \"Topic4\", \"Topic4\", \"Topic4\", \"Topic4\", \"Topic4\", \"Topic4\", \"Topic4\", \"Topic4\", \"Topic4\", \"Topic4\", \"Topic4\", \"Topic4\", \"Topic4\", \"Topic4\", \"Topic4\", \"Topic4\", \"Topic4\", \"Topic4\", \"Topic4\", \"Topic4\", \"Topic4\", \"Topic4\", \"Topic4\", \"Topic4\"], \"logprob\": [30.0, 29.0, 28.0, 27.0, 26.0, 25.0, 24.0, 23.0, 22.0, 21.0, 20.0, 19.0, 18.0, 17.0, 16.0, 15.0, 14.0, 13.0, 12.0, 11.0, 10.0, 9.0, 8.0, 7.0, 6.0, 5.0, 4.0, 3.0, 2.0, 1.0, -1.8737, -3.3257, -3.5453, -3.9539, -4.0626, -4.1563, -4.3005, -4.3689, -4.3737, -4.5451, -4.5691, -4.6391, -4.659, -4.6464, -4.6476, -4.6959, -4.9741, -4.98, -5.0215, -5.0506, -5.0607, -5.0832, -5.1208, -5.1118, -5.126, -5.1456, -5.1473, -5.1624, -5.1675, -5.194, -5.0948, -3.0166, -3.7754, -3.8265, -3.923, -4.005, -4.1317, -4.1926, -4.2135, -4.37, -4.4509, -4.4731, -4.4777, -4.4992, -4.4597, -4.5376, -4.5697, -4.5884, -4.7198, -4.74, -4.7956, -4.9056, -4.9385, -4.9351, -4.9517, -4.9446, -5.0226, -5.0255, -5.0556, -5.0661, -5.0613, -5.0169, -5.0561, -2.6901, -3.1113, -4.0282, -4.1157, -4.1524, -4.2316, -4.334, -4.3573, -4.3937, -4.4499, -4.5046, -4.5402, -4.5285, -4.6363, -4.6477, -4.668, -4.738, -4.8651, -4.8473, -4.8584, -4.9228, -4.9546, -4.965, -5.0391, -5.038, -5.1419, -5.1649, -5.2299, -5.2353, -5.227, -5.1666, -5.2132, -5.2228, -2.9801, -3.3433, -3.4614, -3.5019, -3.6277, -3.7224, -3.7071, -3.9746, -4.0476, -4.1228, -4.13, -4.2448, -4.2358, -4.3668, -4.3845, -4.3431, -4.4106, -4.4458, -4.5648, -4.5915, -4.5779, -4.7149, -4.7113, -4.8962, -4.9189, -4.9301, -4.9719, -5.0073, -4.9304, -5.0784], \"loglift\": [30.0, 29.0, 28.0, 27.0, 26.0, 25.0, 24.0, 23.0, 22.0, 21.0, 20.0, 19.0, 18.0, 17.0, 16.0, 15.0, 14.0, 13.0, 12.0, 11.0, 10.0, 9.0, 8.0, 7.0, 6.0, 5.0, 4.0, 3.0, 2.0, 1.0, 1.1039, 1.1032, 1.103, 1.1024, 1.1023, 1.102, 1.1017, 1.1016, 1.1015, 1.1011, 1.1009, 1.1007, 1.1007, 1.1007, 1.1006, 1.1004, 1.0994, 1.0993, 1.0991, 1.0991, 1.099, 1.0989, 1.0987, 1.0986, 1.0985, 1.0985, 1.0984, 1.0984, 1.0983, 1.0983, 1.098, 1.2344, 1.2336, 1.2335, 1.2333, 1.2331, 1.2328, 1.2327, 1.2327, 1.2323, 1.232, 1.2319, 1.2319, 1.2319, 1.2319, 1.2317, 1.2316, 1.2316, 1.231, 1.2309, 1.2307, 1.2302, 1.2301, 1.23, 1.2299, 1.2299, 1.2296, 1.2295, 1.2295, 1.2294, 1.2294, 1.2294, 1.2293, 1.5211, 1.5207, 1.519, 1.5187, 1.5186, 1.5183, 1.518, 1.5178, 1.5177, 1.5175, 1.5173, 1.5172, 1.5171, 1.5167, 1.5166, 1.5166, 1.5161, 1.5154, 1.5153, 1.5151, 1.515, 1.5147, 1.5146, 1.5142, 1.514, 1.5132, 1.5131, 1.5126, 1.5126, 1.5126, 1.5124, 1.5125, 1.5123, 1.835, 1.8344, 1.8342, 1.8341, 1.8338, 1.8336, 1.8336, 1.8327, 1.8325, 1.8322, 1.8321, 1.8317, 1.8317, 1.8311, 1.831, 1.831, 1.8307, 1.8306, 1.83, 1.8297, 1.8295, 1.829, 1.8288, 1.8274, 1.8271, 1.8269, 1.8267, 1.8264, 1.8263, 1.8258]}, \"token.table\": {\"Topic\": [3, 3, 1, 3, 3, 2, 4, 1, 1, 2, 4, 1, 2, 1, 3, 4, 3, 1, 1, 1, 4, 2, 4, 4, 2, 2, 2, 2, 1, 3, 4, 2, 3, 3, 3, 1, 1, 4, 1, 4, 2, 3, 3, 1, 2, 1, 3, 2, 4, 3, 3, 4, 1, 1, 1, 1, 3, 2, 3, 3, 2, 4, 3, 1, 1, 1, 3, 4, 1, 3, 3, 2, 2, 4, 4, 4, 2, 4, 3, 1, 4, 2, 3, 3, 3, 2, 1, 2, 4, 2, 1, 2, 2, 2, 2, 1, 4, 4, 4, 3, 4, 2, 4, 2, 2, 1, 3, 2, 2, 3, 1, 4, 4, 4, 4, 3, 2, 4, 2, 3, 4, 2, 3, 1, 1, 1, 3], \"Freq\": [0.9987417939870594, 0.9940931201932424, 0.9958921697551325, 0.9966884597719624, 0.998204122189136, 0.9922702569809492, 0.9946131687240336, 0.9987999495989566, 0.995582312375268, 0.9969279675655465, 0.9908420140548806, 0.9993085448754582, 0.9980914851733524, 0.9949181842564966, 0.9903643222654812, 0.9942718672901018, 0.9944104823572644, 0.998229387424729, 0.9979905963642622, 0.9960564820172114, 0.9946170581994885, 0.9951204827371569, 0.9947916563601602, 0.9941646038487105, 0.9948027692247086, 0.9963851234906791, 0.9934737767286732, 0.9942091724965677, 0.9967254836267482, 0.9946706537460297, 0.9975637814341156, 0.9967981989577555, 0.9940536653965804, 0.9926757974702648, 0.9893373058506166, 0.9982750169739785, 0.9943315690904967, 0.9930234042067871, 0.9949265554170473, 0.997059747098469, 0.993458488615425, 0.9901998491369984, 0.9951196557566967, 0.996729675394319, 0.9969653207968573, 0.995059765189212, 0.9957770369961886, 0.9974296221349068, 0.9860348545316397, 0.989726068223192, 0.9888949569919414, 0.9966974730068856, 0.9947754842471757, 0.9962439754994122, 0.9960379393175383, 0.9984058415903102, 0.9886919508017774, 0.9941912370889896, 0.9927245734948229, 0.9888327813344809, 0.997153320830513, 0.992474113606289, 0.9941603454864014, 0.9965700806978911, 0.9955550060078598, 0.9988330005849981, 0.9942289604010021, 0.9958615331960653, 0.9966454706985148, 0.9943135470976339, 0.9953004686739706, 0.9952889554355436, 0.9994307790942942, 0.9988070254764776, 0.9864684403049384, 0.9921660926121263, 0.9964562244368671, 0.9968535363059783, 0.9897977409989757, 0.9957430445313812, 0.9941045491946046, 0.9977266364378213, 0.9960104028549145, 0.9953552332001451, 0.9939382818576469, 0.9964312873132811, 0.9925827784540727, 0.004795085886251558, 0.9957448609856369, 0.9946507677677837, 0.9957606234805192, 0.997615809705549, 0.9978886957359148, 0.9965534839260555, 0.9938777408448383, 0.9968809231403416, 0.996598521565461, 0.9922112713632462, 0.9946641664699233, 0.9924123317289998, 0.9970981203399838, 0.9952848582329737, 0.9974930889733818, 0.9983087867104832, 0.9972845155338923, 0.9931358983431915, 0.9902202209537458, 0.9937061809057259, 0.9986161027482978, 0.9994375063554072, 0.9978245776644524, 0.9931250962433974, 0.9918182167556947, 0.9962248515734785, 0.9979685721177869, 0.9933083059344384, 0.996280448642417, 0.9973862387454164, 0.9958570919002159, 0.9950134105520061, 0.9928193938505816, 0.9981456397257003, 0.9977352941818802, 0.9927846110433313, 0.9997703843342197, 0.9966163946374945, 0.9958865935341576], \"Term\": [\"\", \"aftercreditssting\", \"alcohol\", \"alien\", \"anim\", \"assassin\", \"base comic\", \"base novel\", \"base play music\", \"base true stori\", \"beach\", \"biographi\", \"blood\", \"brazilian\", \"car accid\", \"centuri\", \"christian\", \"christma\", \"come age\", \"comedi\", \"comic\", \"crime\", \"crimin\", \"danc\", \"dark comedi\", \"death\", \"demon\", \"desert\", \"documentari\", \"dog\", \"drama\", \"drug\", \"duringcreditssting\", \"dystopia\", \"fairi tale\", \"famili\", \"famili relationship\", \"father daughter relationship\", \"father son relationship\", \"femal nuditi\", \"fight\", \"forest\", \"found footag\", \"friendship\", \"gangster\", \"gay\", \"ghost\", \"gore\", \"grief\", \"haunt\", \"haunt hous\", \"high school\", \"holiday\", \"homosexu\", \"hospit\", \"independ film\", \"interview\", \"investig\", \"island\", \"japan\", \"kidnap\", \"korean movi\", \"lawyer\", \"lgbt\", \"london england\", \"love\", \"magic\", \"male nuditi\", \"marriag\", \"martial art\", \"monster\", \"movi\", \"murder\", \"music\", \"musician\", \"nativ american\", \"new york citi\", \"nuditi\", \"orphan\", \"pari\", \"parti\", \"polic\", \"polit\", \"post apocalypt\", \"pregnanc\", \"prison\", \"prostitut\", \"prostitut\", \"racism\", \"rape\", \"relationship\", \"remak\", \"reveng\", \"road trip\", \"robberi\", \"romanc\", \"romant comedi\", \"rural set\", \"satir\", \"school\", \"sequel\", \"serial killer\", \"sex\", \"short\", \"silent film\", \"small town\", \"soldier\", \"spi\", \"sport\", \"stand comedi\", \"suicid\", \"summer\", \"super power\", \"superhero\", \"supernatur\", \"surviv\", \"suspens\", \"teenag\", \"terror\", \"time travel\", \"vampir\", \"violenc\", \"war\", \"wed\", \"woman director\", \"world war\", \"zombi\"]}, \"R\": 30, \"lambda.step\": 0.01, \"plot.opts\": {\"xlab\": \"PC1\", \"ylab\": \"PC2\"}, \"topic.order\": [4, 1, 2, 3]};\n",
       "\n",
       "function LDAvis_load_lib(url, callback){\n",
       "  var s = document.createElement('script');\n",
       "  s.src = url;\n",
       "  s.async = true;\n",
       "  s.onreadystatechange = s.onload = callback;\n",
       "  s.onerror = function(){console.warn(\"failed to load library \" + url);};\n",
       "  document.getElementsByTagName(\"head\")[0].appendChild(s);\n",
       "}\n",
       "\n",
       "if(typeof(LDAvis) !== \"undefined\"){\n",
       "   // already loaded: just create the visualization\n",
       "   !function(LDAvis){\n",
       "       new LDAvis(\"#\" + \"ldavis_el316882211099738736547999327\", ldavis_el316882211099738736547999327_data);\n",
       "   }(LDAvis);\n",
       "}else if(typeof define === \"function\" && define.amd){\n",
       "   // require.js is available: use it to load d3/LDAvis\n",
       "   require.config({paths: {d3: \"https://d3js.org/d3.v5\"}});\n",
       "   require([\"d3\"], function(d3){\n",
       "      window.d3 = d3;\n",
       "      LDAvis_load_lib(\"https://cdn.jsdelivr.net/gh/bmabey/pyLDAvis@3.4.0/pyLDAvis/js/ldavis.v3.0.0.js\", function(){\n",
       "        new LDAvis(\"#\" + \"ldavis_el316882211099738736547999327\", ldavis_el316882211099738736547999327_data);\n",
       "      });\n",
       "    });\n",
       "}else{\n",
       "    // require.js not available: dynamically load d3 & LDAvis\n",
       "    LDAvis_load_lib(\"https://d3js.org/d3.v5.js\", function(){\n",
       "         LDAvis_load_lib(\"https://cdn.jsdelivr.net/gh/bmabey/pyLDAvis@3.4.0/pyLDAvis/js/ldavis.v3.0.0.js\", function(){\n",
       "                 new LDAvis(\"#\" + \"ldavis_el316882211099738736547999327\", ldavis_el316882211099738736547999327_data);\n",
       "            })\n",
       "         });\n",
       "}\n",
       "</script>"
      ],
      "text/plain": [
       "PreparedData(topic_coordinates=              x         y  topics  cluster       Freq\n",
       "topic                                                \n",
       "3     -0.378784  0.094613       1        1  33.149570\n",
       "0      0.250555  0.291733       2        1  29.078808\n",
       "1      0.105868 -0.342707       3        1  21.831208\n",
       "2      0.022361 -0.043638       4        1  15.940415, topic_info=                Term         Freq        Total Category  logprob  loglift\n",
       "11    woman director  5194.000000  5194.000000  Default  30.0000  30.0000\n",
       "1493    stand comedi  1512.000000  1512.000000  Default  29.0000  29.0000\n",
       "68            murder  1453.000000  1453.000000  Default  28.0000  28.0000\n",
       "441            music   826.000000   826.000000  Default  27.0000  27.0000\n",
       "218                    993.000000   993.000000  Default  26.0000  26.0000\n",
       "...              ...          ...          ...      ...      ...      ...\n",
       "716           crimin   117.511663   118.617802   Topic4  -4.9301   1.8269\n",
       "791           summer   112.696618   113.782242   Topic4  -4.9719   1.8267\n",
       "581   nativ american   108.780410   109.860638   Topic4  -5.0073   1.8264\n",
       "1357           grief   117.472739   118.657063   Topic4  -4.9304   1.8263\n",
       "450         musician   101.311990   102.385435   Topic4  -5.0784   1.8258\n",
       "\n",
       "[156 rows x 6 columns], token_table=      Topic      Freq               Term\n",
       "term                                    \n",
       "218       3  0.998742                   \n",
       "20        3  0.994093  aftercreditssting\n",
       "109       1  0.995892            alcohol\n",
       "84        3  0.996688              alien\n",
       "264       3  0.998204               anim\n",
       "...     ...       ...                ...\n",
       "266       3  0.997735                war\n",
       "125       1  0.992785                wed\n",
       "11        1  0.999770     woman director\n",
       "478       1  0.996616          world war\n",
       "541       3  0.995887              zombi\n",
       "\n",
       "[127 rows x 3 columns], R=30, lambda_step=0.01, plot_opts={'xlab': 'PC1', 'ylab': 'PC2'}, topic_order=[4, 1, 2, 3])"
      ]
     },
     "execution_count": 68,
     "metadata": {},
     "output_type": "execute_result"
    }
   ],
   "source": [
    "import pyLDAvis\n",
    "import pyLDAvis.gensim_models as gensimvis\n",
    "\n",
    "pyLDAvis.enable_notebook()\n",
    "LDA_visualization = gensimvis.prepare(Estimacion, corpus, dictionary)\n",
    "LDA_visualization"
   ]
  },
  {
   "cell_type": "code",
   "execution_count": 69,
   "metadata": {},
   "outputs": [
    {
     "data": {
      "text/plain": [
       "0.40906015431155235"
      ]
     },
     "execution_count": 69,
     "metadata": {},
     "output_type": "execute_result"
    }
   ],
   "source": [
    "from gensim.models import CoherenceModel\n",
    "\n",
    "coherencemodel = CoherenceModel(model=Estimacion, texts=clean_keywords, dictionary=dictionary)\n",
    "coherencemodel.get_coherence() "
   ]
  },
  {
   "cell_type": "code",
   "execution_count": 70,
   "metadata": {},
   "outputs": [],
   "source": [
    "from gensim.models.ldamulticore import LdaMulticore\n",
    "\n",
    "def calcular_coherencia(dictionary, corpus, texts, start=1, limit=10, step=1):\n",
    " \n",
    "    coherence_values = []\n",
    "    model_list = []\n",
    "    \n",
    "    for num_topics in range(start, limit, step):\n",
    "        model = LdaMulticore(corpus=corpus,\n",
    "                        id2word=dictionary,\n",
    "                        num_topics=num_topics, \n",
    "                        random_state=123,\n",
    "                        passes=20)\n",
    "        model_list.append(model)\n",
    "        coherencemodel = CoherenceModel(model=model, texts=texts, dictionary=dictionary, coherence='c_v')\n",
    "        coherence_values.append(coherencemodel.get_coherence())\n",
    "\n",
    "    return model_list, coherence_values"
   ]
  },
  {
   "cell_type": "code",
   "execution_count": 71,
   "metadata": {},
   "outputs": [],
   "source": [
    "modelos, valores_c = calcular_coherencia(dictionary=dictionary, corpus=corpus, texts=clean_keywords, start=1, limit=10, step=1)\n"
   ]
  },
  {
   "cell_type": "code",
   "execution_count": 72,
   "metadata": {},
   "outputs": [
    {
     "data": {
      "image/png": "[encoded data removed]",
      "text/plain": [
       "<Figure size 640x480 with 1 Axes>"
      ]
     },
     "metadata": {},
     "output_type": "display_data"
    }
   ],
   "source": [
    "\n",
    "# Show graph\n",
    "limit=10; start=1; step=1;\n",
    "x = range(start, limit, step)\n",
    "plt.plot(x, valores_c)\n",
    "plt.xlabel(\"Número de Temas\")\n",
    "plt.ylabel(\"Medida de Coherencia\")\n",
    "plt.show()"
   ]
  },
  {
   "cell_type": "code",
   "execution_count": 73,
   "metadata": {},
   "outputs": [
    {
     "data": {
      "text/html": [
       "\n",
       "<link rel=\"stylesheet\" type=\"text/css\" href=\"https://cdn.jsdelivr.net/gh/bmabey/pyLDAvis@3.4.0/pyLDAvis/js/ldavis.v1.0.0.css\">\n",
       "\n",
       "\n",
       "<div id=\"ldavis_el3168822110997448967128984857\" style=\"background-color:white;\"></div>\n",
       "<script type=\"text/javascript\">\n",
       "\n",
       "var ldavis_el3168822110997448967128984857_data = {\"mdsDat\": {\"x\": [0.019564710599564595, -0.019564710599564595], \"y\": [0.0, 0.0], \"topics\": [1, 2], \"cluster\": [1, 1], \"Freq\": [52.67858516894732, 47.321414831052685]}, \"tinfo\": {\"Term\": [\"murder\", \"base novel\", \"nuditi\", \"serial killer\", \"war\", \"gangster\", \"aftercreditssting\", \"blood\", \"gay\", \"soldier\", \"bollywood\", \"femal nuditi\", \"robberi\", \"prison\", \"die and death\", \"polit\", \"woman director\", \"friend\", \"zombi\", \"surreal\", \"nativ american\", \"spi\", \"lawyer\", \"lesbian\", \"famili\", \"psychopath\", \"kidnap\", \"reveng\", \"detect\", \"widow\", \"psycho\", \"gangster\", \"serial killer\", \"trainer\", \"marvel comic\", \"radiat\", \"american footbal\", \"psychopath\", \"wall street\", \"financi crisi\", \"sexploit\", \"blood\", \"ozploit\", \"fascism\", \"econom\", \"mobster\", \"sadism\", \"curs\", \"sword and sorceri\", \"surf\", \"maniac\", \"gambl\", \"surreal\", \"frame\", \"volcano\", \"argentina\", \"job\", \"marvel cinemat univers\", \"flashback\", \"murder investig\", \"base novel\", \"marijuana\", \"nuditi\", \"murder\", \"detect\", \"kidnap\", \"report\", \"femal nuditi\", \"short\", \"best friend\", \"death\", \"tortur\", \"doctor\", \"alcohol\", \"supernatur\", \"gore\", \"film noir\", \"polic\", \"independ film\", \"remak\", \"violenc\", \"biographi\", \"woman director\", \"sequel\", \"drug\", \"love\", \"music\", \"sex\", \"suspens\", \"sport\", \"alien\", \"\", \"world war\", \"duringcreditssting\", \"reveng\", \"teenag\", \"martial art\", \"anim\", \"friendship\", \"reunion\", \"transgend\", \"grow\", \"planet\", \"dragon\", \"transsexu\", \"weapon\", \"war\", \"smoke\", \"worker\", \"sing\", \"board school\", \"unsoci\", \"prejudic\", \"korean movi\", \"bollywood\", \"nativ american\", \"die and death\", \"twin\", \"irish\", \"gold\", \"soccer\", \"uncl\", \"movi serial\", \"mediev\", \"sabotag\", \"cavalri\", \"famili secret\", \"new england\", \"base young adult novel\", \"ireland\", \"aftercreditssting\", \"soldier\", \"shakespear\", \"court case\", \"lesbian\", \"polit\", \"gay\", \"robberi\", \"friend\", \"lawyer\", \"spi\", \"zombi\", \"widow\", \"armi\", \"prison\", \"airplan\", \"woman director\", \"famili\", \"hors\", \"reveng\", \"dystopia\", \"new york\", \"independ film\", \"movi\", \"escap\", \"music\", \"\", \"high school\", \"magic\", \"sex\", \"suspens\", \"teenag\", \"sport\", \"duringcreditssting\", \"world war\", \"violenc\", \"love\", \"friendship\", \"murder\", \"prostitut\", \"biographi\", \"suicid\", \"sequel\", \"base novel\", \"femal nuditi\", \"nuditi\"], \"Freq\": [1300.0, 771.0, 680.0, 296.0, 198.0, 256.0, 244.0, 265.0, 263.0, 190.0, 139.0, 584.0, 231.0, 413.0, 132.0, 199.0, 2638.0, 203.0, 238.0, 204.0, 118.0, 194.0, 181.0, 156.0, 266.0, 138.0, 284.0, 636.0, 222.0, 147.0, 22.209937733560167, 214.67650318225728, 247.09961513160883, 19.068287917043993, 45.65829697093924, 17.472956164403584, 55.08817656942146, 112.94435647760659, 14.504007024986281, 13.422893560050369, 37.31587809131835, 214.95536942371982, 21.184169569978867, 24.13241114539454, 27.691601719335225, 46.941615364032465, 58.7907872404995, 69.63467484628993, 34.23842657202122, 30.780158586801523, 36.85852857104125, 77.69054446047546, 162.372040108925, 17.071508777023094, 26.716577176219282, 22.440159421774677, 23.888725395625077, 10.819753025191808, 118.05733385310019, 14.790169949436027, 594.5489832277707, 76.99473652473613, 514.3556811950847, 960.9502942955023, 168.59710392181165, 211.19148851341888, 106.81006246260063, 415.24504733791156, 152.44106843144752, 105.267263699201, 167.09347106237766, 131.4211782435615, 133.10010667764547, 213.17410911659087, 114.57052981548638, 171.24201620712174, 245.2625965918694, 300.8298047007681, 1284.156943856279, 138.40281970867602, 397.70335219660797, 318.0829735118356, 1268.1776554564944, 278.9828132073794, 234.75890177557204, 335.8889696830311, 501.4616649823221, 393.54823769097504, 365.8984609026319, 324.5622903607214, 196.74228559958064, 293.905623245561, 248.75869783927442, 246.82755599933392, 267.81725215326816, 223.35051211687397, 191.19835814978165, 185.46054070575033, 196.91674279865052, 25.958117746543156, 18.745154449760097, 17.15207110257298, 20.4309891683514, 54.42066302783339, 17.31547914570051, 46.1068118241299, 159.9914564655879, 27.646366372546325, 25.930030430382917, 36.29684103953333, 42.90318575053569, 16.08670613347961, 17.038534555182885, 19.076213842408556, 109.25990153507645, 92.63191249372765, 102.99285834761778, 61.33994456000674, 18.7489916914026, 64.34933679611426, 62.77929656973894, 39.168426982776225, 10.405381842745841, 17.466477625229885, 21.41543063134508, 23.055502274031486, 18.343810728498966, 26.407236601575196, 44.85032102872275, 39.263662515009386, 183.296223483796, 142.57769138428336, 48.344669792998026, 37.7696842582698, 113.63887008704337, 143.05839336551097, 185.73573686113423, 163.086304958267, 143.86906159621685, 128.55768341450053, 136.83531195634254, 164.04924887562527, 105.00764766648096, 111.16692773236755, 263.88658225927514, 96.56940295230733, 1370.7211880257003, 174.30097595714085, 76.84252444172732, 368.2418847958474, 167.9013505209138, 173.95618342651588, 1092.6868040207842, 182.22773083257295, 152.10387489553585, 468.76456555462715, 305.4954218631286, 196.76718694818743, 135.83072181332196, 335.5983928643275, 300.3746109481293, 215.3189449811928, 258.4975494180265, 222.28399239940774, 217.6004837146827, 267.31652269074476, 244.64346315863537, 191.48817657840507, 339.65034019006134, 177.41394421116073, 197.74484474122505, 166.04736846367678, 171.19828156283901, 176.62962382200746, 169.61661299086379, 166.50995068356363], \"Total\": [1300.0, 771.0, 680.0, 296.0, 198.0, 256.0, 244.0, 265.0, 263.0, 190.0, 139.0, 584.0, 231.0, 413.0, 132.0, 199.0, 2638.0, 203.0, 238.0, 204.0, 118.0, 194.0, 181.0, 156.0, 266.0, 138.0, 284.0, 636.0, 222.0, 147.0, 25.424715483319194, 256.54108208520813, 296.64873760889293, 22.942395391440705, 55.402037751624505, 21.359067840181737, 67.40655685244685, 138.28989814859818, 17.816761595314066, 16.51202974738431, 45.904627403499084, 265.58359562834715, 26.250721312075168, 29.92377617348305, 34.61787206144259, 58.691630046893096, 73.60507050863995, 87.26746900611566, 42.93014983032968, 38.6307952898642, 46.51587310443403, 98.0574751580384, 204.97630881020802, 21.61681212947431, 33.9900947033454, 28.558432568094666, 30.441958523292925, 13.818412646767564, 151.26508999029406, 19.022319397657395, 771.1786070497782, 99.87980541392916, 680.8656318786483, 1300.6006344855637, 222.8112106627974, 284.8695629970687, 141.23647090474665, 584.8616603287753, 206.49278299371716, 140.46508838284566, 230.17286212864002, 179.34143309311975, 183.09626007840512, 302.3506775432222, 156.17703419575514, 243.0739432946106, 363.7813701962348, 463.65585728042254, 2376.843747877063, 196.95293925227148, 665.0198748873527, 515.8278182530606, 2638.898843482195, 450.18109477021846, 372.6907740283411, 580.5324328416665, 970.2262305369493, 729.1466305553025, 666.2730718507612, 583.0598397787479, 313.54485252807007, 599.4010451086897, 466.3591815539571, 469.11154839874166, 636.0591369491156, 438.6694570980668, 332.6074710546916, 311.0581947451409, 388.4049193770556, 31.478648886776746, 22.84004824977875, 21.01235230048305, 25.049953733274204, 67.00593570222452, 21.394423866994664, 57.02800360211253, 198.26910150409518, 34.358118158612776, 32.44831453827416, 45.529384857583665, 53.91750995011867, 20.2663986515711, 21.486119353785533, 24.26980509667548, 139.83084787543928, 118.64603103837446, 132.13812511615996, 78.71383789047428, 24.062225084656507, 82.83486765764746, 80.82745346049764, 50.43560275470209, 13.401103669502023, 22.508973970087755, 27.77966439949408, 29.985388906343825, 23.890229843035065, 34.57463128371619, 58.81933025185984, 51.53344867131676, 244.78937676297878, 190.83687653777642, 63.86503828242626, 49.775637842681945, 156.7145573400351, 199.28368250904472, 263.81327298676774, 231.59240739960006, 203.05800215885117, 181.60337686171758, 194.54401909737533, 238.26824898535148, 147.79517772475313, 158.87297269902353, 413.63805423830036, 137.30735185034808, 2638.898843482195, 266.17904378938397, 107.36608066394516, 636.0591369491156, 265.8234430930165, 277.0702734008032, 2376.843747877063, 294.9594402264761, 239.14739363635528, 970.2262305369493, 599.4010451086897, 343.8516735893162, 215.37894388939858, 729.1466305553025, 666.2730718507612, 438.6694570980668, 583.0598397787479, 469.11154839874166, 466.3591815539571, 665.0198748873527, 580.5324328416665, 388.4049193770556, 1300.6006344855637, 347.1112471554238, 515.8278182530606, 317.6584575838989, 450.18109477021846, 771.1786070497782, 584.8616603287753, 680.8656318786483], \"Category\": [\"Default\", \"Default\", \"Default\", \"Default\", \"Default\", \"Default\", \"Default\", \"Default\", \"Default\", \"Default\", \"Default\", \"Default\", \"Default\", \"Default\", \"Default\", \"Default\", \"Default\", \"Default\", \"Default\", \"Default\", \"Default\", \"Default\", \"Default\", \"Default\", \"Default\", \"Default\", \"Default\", \"Default\", \"Default\", \"Default\", \"Topic1\", \"Topic1\", \"Topic1\", \"Topic1\", \"Topic1\", \"Topic1\", \"Topic1\", \"Topic1\", \"Topic1\", \"Topic1\", \"Topic1\", \"Topic1\", \"Topic1\", \"Topic1\", \"Topic1\", \"Topic1\", \"Topic1\", \"Topic1\", \"Topic1\", \"Topic1\", \"Topic1\", \"Topic1\", \"Topic1\", \"Topic1\", \"Topic1\", \"Topic1\", \"Topic1\", \"Topic1\", \"Topic1\", \"Topic1\", \"Topic1\", \"Topic1\", \"Topic1\", \"Topic1\", \"Topic1\", \"Topic1\", \"Topic1\", \"Topic1\", \"Topic1\", \"Topic1\", \"Topic1\", \"Topic1\", \"Topic1\", \"Topic1\", \"Topic1\", \"Topic1\", \"Topic1\", \"Topic1\", \"Topic1\", \"Topic1\", \"Topic1\", \"Topic1\", \"Topic1\", \"Topic1\", \"Topic1\", \"Topic1\", \"Topic1\", \"Topic1\", \"Topic1\", \"Topic1\", \"Topic1\", \"Topic1\", \"Topic1\", \"Topic1\", \"Topic1\", \"Topic1\", \"Topic1\", \"Topic1\", \"Topic1\", \"Topic2\", \"Topic2\", \"Topic2\", \"Topic2\", \"Topic2\", \"Topic2\", \"Topic2\", \"Topic2\", \"Topic2\", \"Topic2\", \"Topic2\", \"Topic2\", \"Topic2\", \"Topic2\", \"Topic2\", \"Topic2\", \"Topic2\", \"Topic2\", \"Topic2\", \"Topic2\", \"Topic2\", \"Topic2\", \"Topic2\", \"Topic2\", \"Topic2\", \"Topic2\", \"Topic2\", \"Topic2\", \"Topic2\", \"Topic2\", \"Topic2\", \"Topic2\", \"Topic2\", \"Topic2\", \"Topic2\", \"Topic2\", \"Topic2\", \"Topic2\", \"Topic2\", \"Topic2\", \"Topic2\", \"Topic2\", \"Topic2\", \"Topic2\", \"Topic2\", \"Topic2\", \"Topic2\", \"Topic2\", \"Topic2\", \"Topic2\", \"Topic2\", \"Topic2\", \"Topic2\", \"Topic2\", \"Topic2\", \"Topic2\", \"Topic2\", \"Topic2\", \"Topic2\", \"Topic2\", \"Topic2\", \"Topic2\", \"Topic2\", \"Topic2\", \"Topic2\", \"Topic2\", \"Topic2\", \"Topic2\", \"Topic2\", \"Topic2\", \"Topic2\", \"Topic2\", \"Topic2\", \"Topic2\", \"Topic2\", \"Topic2\", \"Topic2\"], \"logprob\": [30.0, 29.0, 28.0, 27.0, 26.0, 25.0, 24.0, 23.0, 22.0, 21.0, 20.0, 19.0, 18.0, 17.0, 16.0, 15.0, 14.0, 13.0, 12.0, 11.0, 10.0, 9.0, 8.0, 7.0, 6.0, 5.0, 4.0, 3.0, 2.0, 1.0, -7.7914, -5.5228, -5.3822, -7.9439, -7.0708, -8.0313, -6.883, -6.1651, -8.2175, -8.295, -7.2726, -5.5215, -7.8387, -7.7084, -7.5708, -7.0431, -6.818, -6.6487, -7.3586, -7.4651, -7.2849, -6.5392, -5.8021, -8.0546, -7.6067, -7.7811, -7.7186, -8.5106, -6.1208, -8.198, -4.5042, -6.5482, -4.6491, -4.0241, -5.7645, -5.5392, -6.2209, -4.8631, -5.8652, -6.2355, -5.7734, -6.0136, -6.0009, -5.5299, -6.1508, -5.7489, -5.3896, -5.1854, -3.7341, -5.9618, -4.9063, -5.1297, -3.7466, -5.2608, -5.4334, -5.0752, -4.6744, -4.9168, -4.9896, -5.1095, -5.6101, -5.2087, -5.3755, -5.3833, -5.3017, -5.4832, -5.6387, -5.6691, -5.6092, -7.5282, -7.8538, -7.9426, -7.7677, -6.788, -7.9331, -6.9538, -5.7096, -7.4652, -7.5293, -7.193, -7.0258, -8.0067, -7.9492, -7.8363, -6.091, -6.2561, -6.1501, -6.6683, -7.8536, -6.6204, -6.6451, -7.1169, -8.4424, -7.9244, -7.7206, -7.6468, -7.8754, -7.5111, -6.9814, -7.1144, -5.5736, -5.8248, -6.9064, -7.1532, -6.0517, -5.8215, -5.5604, -5.6904, -5.8158, -5.9283, -5.8659, -5.6846, -6.1307, -6.0737, -5.2092, -6.2145, -3.5616, -5.6239, -6.443, -4.876, -5.6614, -5.6259, -3.7883, -5.5795, -5.7602, -4.6346, -5.0628, -5.5027, -5.8733, -4.9688, -5.0797, -5.4126, -5.2298, -5.3808, -5.4021, -5.1963, -5.2849, -5.5299, -4.9568, -5.6062, -5.4977, -5.6725, -5.6419, -5.6107, -5.6512, -5.6697], \"loglift\": [30.0, 29.0, 28.0, 27.0, 26.0, 25.0, 24.0, 23.0, 22.0, 21.0, 20.0, 19.0, 18.0, 17.0, 16.0, 15.0, 14.0, 13.0, 12.0, 11.0, 10.0, 9.0, 8.0, 7.0, 6.0, 5.0, 4.0, 3.0, 2.0, 1.0, 0.5058, 0.4628, 0.4582, 0.456, 0.4475, 0.4401, 0.4392, 0.4385, 0.4352, 0.4338, 0.4338, 0.4295, 0.4265, 0.4259, 0.4177, 0.4176, 0.4162, 0.4152, 0.4147, 0.4138, 0.4083, 0.4081, 0.408, 0.4049, 0.4002, 0.3999, 0.3985, 0.3963, 0.3931, 0.3893, 0.3808, 0.3807, 0.3605, 0.3383, 0.3621, 0.3417, 0.3616, 0.2985, 0.3375, 0.3525, 0.3207, 0.3301, 0.3221, 0.2915, 0.3312, 0.2907, 0.2467, 0.2084, 0.0253, 0.2882, 0.1269, 0.1575, -0.0918, 0.1625, 0.1788, 0.0938, -0.019, 0.0243, 0.0416, 0.0551, 0.1749, -0.0717, 0.0125, -0.0012, -0.224, -0.034, 0.0873, 0.1238, -0.0383, 0.5554, 0.5506, 0.5452, 0.5444, 0.5402, 0.5367, 0.5356, 0.5337, 0.5309, 0.524, 0.5216, 0.5197, 0.5172, 0.5163, 0.5074, 0.5015, 0.5007, 0.499, 0.4988, 0.4987, 0.4957, 0.4955, 0.4954, 0.4952, 0.4946, 0.488, 0.4854, 0.484, 0.4787, 0.4771, 0.4763, 0.4589, 0.4567, 0.4698, 0.4722, 0.4268, 0.4167, 0.3973, 0.3975, 0.4036, 0.4028, 0.3963, 0.375, 0.4064, 0.3911, 0.2987, 0.3962, 0.0932, 0.3248, 0.4137, 0.2017, 0.2888, 0.2827, -0.0289, 0.2666, 0.2957, 0.0208, 0.0742, 0.19, 0.2872, -0.0278, -0.0485, 0.0366, -0.0652, 0.0013, -0.0141, -0.1632, -0.1159, 0.041, -0.5945, 0.077, -0.2106, 0.0995, -0.2186, -0.7257, -0.4896, -0.6601]}, \"token.table\": {\"Topic\": [1, 2, 1, 2, 1, 2, 1, 2, 1, 2, 1, 2, 1, 2, 1, 2, 1, 2, 1, 2, 1, 2, 1, 2, 1, 2, 1, 2, 1, 2, 1, 2, 1, 2, 1, 2, 1, 2, 1, 2, 1, 2, 1, 2, 1, 2, 1, 2, 1, 2, 1, 2, 1, 2, 1, 2, 1, 2, 1, 2, 1, 2, 1, 2, 1, 2, 1, 2, 1, 2, 1, 2, 1, 2, 1, 2, 1, 2, 1, 2, 1, 2, 1, 2, 1, 2, 1, 2, 1, 2, 1, 2, 1, 2, 1, 2, 1, 2, 1, 2, 1, 2, 1, 2, 1, 2, 1, 2, 1, 2, 1, 2, 1, 2, 1, 2, 1, 2, 1, 2, 1, 2, 1, 2, 1, 2, 1, 2, 1, 2, 1, 2, 1, 2, 1, 2, 1, 2, 1, 2, 1, 2, 1, 2, 1, 2, 1, 2, 1, 2, 1, 2, 1, 2, 1, 2, 1, 2, 1, 2, 1, 2, 1, 2, 1, 2, 1, 2, 1, 2, 1, 2, 1, 2, 1, 2, 1, 2, 1, 2, 1, 2, 1, 2, 1, 2, 1, 2, 1, 2, 1, 2, 1, 2, 1, 2, 1, 2, 1, 2, 1, 2, 1, 2, 1, 2, 1, 2, 1, 2, 1, 2, 1, 2, 1, 2, 1, 2, 1, 2, 1, 2, 1, 2, 1, 2, 1, 2, 1, 2, 1, 2, 1, 2, 1, 2, 1, 2, 1, 2, 1, 2, 1, 2, 1, 2, 1, 2, 1, 2, 1, 2], \"Freq\": [0.4904896352769769, 0.508841288297544, 0.2491938204453383, 0.7475814613360149, 0.29860018016140966, 0.7064443286745545, 0.7044799824189275, 0.2943601804473453, 0.6282992637627932, 0.3731523546205422, 0.8159443616204156, 0.17802422435354523, 0.5947440161529128, 0.40506889748792985, 0.7703504016735949, 0.21009556409279861, 0.3021281668275539, 0.6986713857887185, 0.7715462988220494, 0.2295188149437021, 0.23801699101389082, 0.7650546139732205, 0.7475167047474207, 0.24917223491580692, 0.6164847818346857, 0.38384901510461567, 0.809537951661996, 0.19202993271982233, 0.20401535623912448, 0.7975145743893048, 0.2216964315886482, 0.7795132594568599, 0.23344703054756955, 0.7670402432277286, 0.24108179262165397, 0.7634256766352375, 0.8021316625453458, 0.20626242751166038, 0.7255416579330117, 0.27370733203460923, 0.7584896626039372, 0.24235764367226398, 0.21946731856916152, 0.7794873728490909, 0.7263938648612867, 0.27308040032379194, 0.1940126626657706, 0.8058987526116624, 0.6305495503951744, 0.3702801615086556, 0.5265272211760851, 0.47323499231210886, 0.36866575370370175, 0.6319984349206316, 0.8088307666717164, 0.2022076916679291, 0.363792382083374, 0.6355912882376189, 0.34563201779624564, 0.6536953380059428, 0.25114869297706793, 0.7534460789312039, 0.8020378130373665, 0.20050945325934164, 0.7095695070295958, 0.290667026975979, 0.6734814371275789, 0.32711955517625263, 0.7873047831723622, 0.18168571919362206, 0.7800874610762568, 0.21816005267386843, 0.7864249315846469, 0.23130145046607262, 0.2905573746059248, 0.7091569820890368, 0.507202638720331, 0.49175484261717367, 0.7954518497879745, 0.2039620127661473, 0.8380723985899047, 0.16371646856174882, 0.2956636681578652, 0.7050441317610632, 0.21729979788696152, 0.7726215035980855, 0.7034896364549634, 0.29620616271787936, 0.19036421733268027, 0.8090479236638912, 0.4275099157306165, 0.5729214516934111, 0.2887317838957884, 0.7171724954830874, 0.5402122041664861, 0.4598535351666428, 0.23285846977827307, 0.7567900267793874, 0.20779458185636768, 0.7896194110541971, 0.7883855429878532, 0.22994578337145719, 0.7406898714629304, 0.2597680117926865, 0.20601731163819312, 0.7828657842251339, 0.29184479339476715, 0.7103392141117917, 0.27438420992824386, 0.7274372077167395, 0.578779032818723, 0.4220263780969855, 0.37143835212174503, 0.6314451986069666, 0.7954273999529217, 0.2149803783656545, 0.7709266120502637, 0.23027678022280607, 0.5742504802863954, 0.42392312942608246, 0.7960393339804588, 0.2171016365401251, 0.8302943694277957, 0.18049877596256428, 0.22213362575497733, 0.755254327566923, 0.8007956153619897, 0.20445845498603993, 0.3831035206509621, 0.617033989013054, 0.22386215896735007, 0.7462071965578335, 0.7388893827351634, 0.2614176796357498, 0.7885473735577826, 0.2102792996154087, 0.5163744127209724, 0.4833924143036648, 0.2191392309751234, 0.7838441723340952, 0.23138352320673355, 0.751996450421884, 0.37174684507205386, 0.6279995246848289, 0.7549213470824901, 0.24527600187310478, 0.7999780177598446, 0.19047095660948682, 0.19960116706157544, 0.7984046682463017, 0.6491883910741861, 0.35155384632921044, 0.28100644917306955, 0.7175700398526597, 0.18616670298330348, 0.7912084876790398, 0.362635880483046, 0.638239149650161, 0.489756530199323, 0.5099229755604716, 0.8652997519061284, 0.11799542071447205, 0.8171240380738212, 0.18077965444111088, 0.7959148838892097, 0.18727409032687287, 0.7006749963921061, 0.29956394773285694, 0.757594687226102, 0.24073102210922867, 0.19060538530675067, 0.8259566696625863, 0.42134447008413917, 0.5785625559364299, 0.29793722849015625, 0.7038227281723981, 0.21598533062585418, 0.7559486571904896, 0.8015752120375244, 0.2037903081451333, 0.6197505920198787, 0.3798471370444418, 0.8326345899561833, 0.16854951213687921, 0.5403577051435292, 0.4608126622543803, 0.8060189591513746, 0.19605866573952355, 0.2505283082935647, 0.7515849248806942, 0.7361032080458949, 0.26151035022683106, 0.19767453542700134, 0.7906981417080053, 0.20373642024527655, 0.8149456809811062, 0.2226966114773991, 0.7794381401708969, 0.2515237142361127, 0.7493310653284191, 0.29813304088762144, 0.7042108034759333, 0.5574041939217197, 0.44249317548247286, 0.47850134750419565, 0.5225738400374769, 0.7363438586998451, 0.2689255831773347, 0.8024685944825386, 0.20708866954388094, 0.7903352389372924, 0.20978034119940478, 0.5493243168050179, 0.450265833446736, 0.7919841913987304, 0.2096428741937816, 0.5083554288808104, 0.490118462822306, 0.7304502798970088, 0.2676459040844002, 0.8281611259776508, 0.174349710732137, 0.175130978545054, 0.8318721480890064, 0.18696460464966433, 0.7945995697610734, 0.21597219060331563, 0.7749590368707209, 0.2180999016408994, 0.773263287635916, 0.1973710311718313, 0.7894841246873252, 0.598478353849826, 0.40149175999473247, 0.7943490665632827, 0.20594235059048072, 0.8419038398058324, 0.16838076796116647, 0.19165870885441585, 0.8069840372817509, 0.19288769210206966, 0.8066212578813822, 0.29094318679382897, 0.7104426654267917, 0.480503450570615, 0.5195348822810041, 0.21572769185725205, 0.8012742840412219, 0.5339232288089755, 0.4674508589572557, 0.310574322492081, 0.6882998498473146], \"Term\": [\"\", \"\", \"aftercreditssting\", \"aftercreditssting\", \"airplan\", \"airplan\", \"alcohol\", \"alcohol\", \"alien\", \"alien\", \"american footbal\", \"american footbal\", \"anim\", \"anim\", \"argentina\", \"argentina\", \"armi\", \"armi\", \"base novel\", \"base novel\", \"base young adult novel\", \"base young adult novel\", \"best friend\", \"best friend\", \"biographi\", \"biographi\", \"blood\", \"blood\", \"board school\", \"board school\", \"bollywood\", \"bollywood\", \"cavalri\", \"cavalri\", \"court case\", \"court case\", \"curs\", \"curs\", \"death\", \"death\", \"detect\", \"detect\", \"die and death\", \"die and death\", \"doctor\", \"doctor\", \"dragon\", \"dragon\", \"drug\", \"drug\", \"duringcreditssting\", \"duringcreditssting\", \"dystopia\", \"dystopia\", \"econom\", \"econom\", \"escap\", \"escap\", \"famili\", \"famili\", \"famili secret\", \"famili secret\", \"fascism\", \"fascism\", \"femal nuditi\", \"femal nuditi\", \"film noir\", \"film noir\", \"financi crisi\", \"financi crisi\", \"flashback\", \"flashback\", \"frame\", \"frame\", \"friend\", \"friend\", \"friendship\", \"friendship\", \"gambl\", \"gambl\", \"gangster\", \"gangster\", \"gay\", \"gay\", \"gold\", \"gold\", \"gore\", \"gore\", \"grow\", \"grow\", \"high school\", \"high school\", \"hors\", \"hors\", \"independ film\", \"independ film\", \"ireland\", \"ireland\", \"irish\", \"irish\", \"job\", \"job\", \"kidnap\", \"kidnap\", \"korean movi\", \"korean movi\", \"lawyer\", \"lawyer\", \"lesbian\", \"lesbian\", \"love\", \"love\", \"magic\", \"magic\", \"maniac\", \"maniac\", \"marijuana\", \"marijuana\", \"martial art\", \"martial art\", \"marvel cinemat univers\", \"marvel cinemat univers\", \"marvel comic\", \"marvel comic\", \"mediev\", \"mediev\", \"mobster\", \"mobster\", \"movi\", \"movi\", \"movi serial\", \"movi serial\", \"murder\", \"murder\", \"murder investig\", \"murder investig\", \"music\", \"music\", \"nativ american\", \"nativ american\", \"new england\", \"new england\", \"new york\", \"new york\", \"nuditi\", \"nuditi\", \"ozploit\", \"ozploit\", \"planet\", \"planet\", \"polic\", \"polic\", \"polit\", \"polit\", \"prejudic\", \"prejudic\", \"prison\", \"prison\", \"prostitut\", \"prostitut\", \"psycho\", \"psycho\", \"psychopath\", \"psychopath\", \"radiat\", \"radiat\", \"remak\", \"remak\", \"report\", \"report\", \"reunion\", \"reunion\", \"reveng\", \"reveng\", \"robberi\", \"robberi\", \"sabotag\", \"sabotag\", \"sadism\", \"sadism\", \"sequel\", \"sequel\", \"serial killer\", \"serial killer\", \"sex\", \"sex\", \"sexploit\", \"sexploit\", \"shakespear\", \"shakespear\", \"short\", \"short\", \"sing\", \"sing\", \"smoke\", \"smoke\", \"soccer\", \"soccer\", \"soldier\", \"soldier\", \"spi\", \"spi\", \"sport\", \"sport\", \"suicid\", \"suicid\", \"supernatur\", \"supernatur\", \"surf\", \"surf\", \"surreal\", \"surreal\", \"suspens\", \"suspens\", \"sword and sorceri\", \"sword and sorceri\", \"teenag\", \"teenag\", \"tortur\", \"tortur\", \"trainer\", \"trainer\", \"transgend\", \"transgend\", \"transsexu\", \"transsexu\", \"twin\", \"twin\", \"uncl\", \"uncl\", \"unsoci\", \"unsoci\", \"violenc\", \"violenc\", \"volcano\", \"volcano\", \"wall street\", \"wall street\", \"war\", \"war\", \"weapon\", \"weapon\", \"widow\", \"widow\", \"woman director\", \"woman director\", \"worker\", \"worker\", \"world war\", \"world war\", \"zombi\", \"zombi\"]}, \"R\": 30, \"lambda.step\": 0.01, \"plot.opts\": {\"xlab\": \"PC1\", \"ylab\": \"PC2\"}, \"topic.order\": [1, 2]};\n",
       "\n",
       "function LDAvis_load_lib(url, callback){\n",
       "  var s = document.createElement('script');\n",
       "  s.src = url;\n",
       "  s.async = true;\n",
       "  s.onreadystatechange = s.onload = callback;\n",
       "  s.onerror = function(){console.warn(\"failed to load library \" + url);};\n",
       "  document.getElementsByTagName(\"head\")[0].appendChild(s);\n",
       "}\n",
       "\n",
       "if(typeof(LDAvis) !== \"undefined\"){\n",
       "   // already loaded: just create the visualization\n",
       "   !function(LDAvis){\n",
       "       new LDAvis(\"#\" + \"ldavis_el3168822110997448967128984857\", ldavis_el3168822110997448967128984857_data);\n",
       "   }(LDAvis);\n",
       "}else if(typeof define === \"function\" && define.amd){\n",
       "   // require.js is available: use it to load d3/LDAvis\n",
       "   require.config({paths: {d3: \"https://d3js.org/d3.v5\"}});\n",
       "   require([\"d3\"], function(d3){\n",
       "      window.d3 = d3;\n",
       "      LDAvis_load_lib(\"https://cdn.jsdelivr.net/gh/bmabey/pyLDAvis@3.4.0/pyLDAvis/js/ldavis.v3.0.0.js\", function(){\n",
       "        new LDAvis(\"#\" + \"ldavis_el3168822110997448967128984857\", ldavis_el3168822110997448967128984857_data);\n",
       "      });\n",
       "    });\n",
       "}else{\n",
       "    // require.js not available: dynamically load d3 & LDAvis\n",
       "    LDAvis_load_lib(\"https://d3js.org/d3.v5.js\", function(){\n",
       "         LDAvis_load_lib(\"https://cdn.jsdelivr.net/gh/bmabey/pyLDAvis@3.4.0/pyLDAvis/js/ldavis.v3.0.0.js\", function(){\n",
       "                 new LDAvis(\"#\" + \"ldavis_el3168822110997448967128984857\", ldavis_el3168822110997448967128984857_data);\n",
       "            })\n",
       "         });\n",
       "}\n",
       "</script>"
      ],
      "text/plain": [
       "PreparedData(topic_coordinates=              x    y  topics  cluster       Freq\n",
       "topic                                           \n",
       "0      0.019565  0.0       1        1  52.678585\n",
       "1     -0.019565  0.0       2        1  47.321415, topic_info=              Term         Freq        Total Category  logprob  loglift\n",
       "68          murder  1300.000000  1300.000000  Default  30.0000  30.0000\n",
       "24      base novel   771.000000   771.000000  Default  29.0000  29.0000\n",
       "48          nuditi   680.000000   680.000000  Default  28.0000  28.0000\n",
       "606  serial killer   296.000000   296.000000  Default  27.0000  27.0000\n",
       "266            war   198.000000   198.000000  Default  26.0000  26.0000\n",
       "..             ...          ...          ...      ...      ...      ...\n",
       "82          suicid   166.047368   317.658458   Topic2  -5.6725   0.0995\n",
       "323         sequel   171.198282   450.181095   Topic2  -5.6419  -0.2186\n",
       "24      base novel   176.629624   771.178607   Topic2  -5.6107  -0.7257\n",
       "42    femal nuditi   169.616613   584.861660   Topic2  -5.6512  -0.4896\n",
       "48          nuditi   166.509951   680.865632   Topic2  -5.6697  -0.6601\n",
       "\n",
       "[176 rows x 6 columns], token_table=      Topic      Freq               Term\n",
       "term                                    \n",
       "218       1  0.490490                   \n",
       "218       2  0.508841                   \n",
       "20        1  0.249194  aftercreditssting\n",
       "20        2  0.747581  aftercreditssting\n",
       "241       1  0.298600            airplan\n",
       "...     ...       ...                ...\n",
       "105       2  0.801274             worker\n",
       "478       1  0.533923          world war\n",
       "478       2  0.467451          world war\n",
       "541       1  0.310574              zombi\n",
       "541       2  0.688300              zombi\n",
       "\n",
       "[252 rows x 3 columns], R=30, lambda_step=0.01, plot_opts={'xlab': 'PC1', 'ylab': 'PC2'}, topic_order=[1, 2])"
      ]
     },
     "execution_count": 73,
     "metadata": {},
     "output_type": "execute_result"
    }
   ],
   "source": [
    "lda_model_opt = LdaMulticore(corpus = corpus,\n",
    "    id2word = dictionary,\n",
    "    num_topics = 2,\n",
    "    random_state=123)\n",
    "pyLDAvis.enable_notebook()\n",
    "LDA_visualization = gensimvis.prepare(lda_model_opt, corpus, dictionary)\n",
    "LDA_visualization"
   ]
  },
  {
   "cell_type": "code",
   "execution_count": 74,
   "metadata": {},
   "outputs": [],
   "source": [
    "def perplejidad_ntemas(dictionary, corpus, texts, start=1, limit=10, step=1):\n",
    " \n",
    "    perplejidad_values = []\n",
    "    model_list = []\n",
    "    \n",
    "    for num_topics in range(start, limit, step):\n",
    "        model = LdaMulticore(corpus=corpus,\n",
    "                        id2word=dictionary,\n",
    "                        num_topics=num_topics, \n",
    "                        random_state=123,\n",
    "                        passes=20)\n",
    "        model_list.append(model)\n",
    "        perplejidad_values.append(np.exp2(-model.log_perplexity(corpus)))\n",
    "\n",
    "    return model_list, perplejidad_values"
   ]
  },
  {
   "cell_type": "code",
   "execution_count": 75,
   "metadata": {},
   "outputs": [],
   "source": [
    "modelos, valores_p = perplejidad_ntemas(dictionary=dictionary, corpus=corpus, texts=clean_keywords, start=1, limit=10, step=1)\n"
   ]
  },
  {
   "cell_type": "code",
   "execution_count": 76,
   "metadata": {},
   "outputs": [
    {
     "data": {
      "image/png": "[encoded data removed]",
      "text/plain": [
       "<Figure size 640x480 with 1 Axes>"
      ]
     },
     "metadata": {},
     "output_type": "display_data"
    }
   ],
   "source": [
    "import matplotlib.pyplot as plt\n",
    "# Show graph\n",
    "limit=10; start=1; step=1;\n",
    "x = range(start, limit, step)\n",
    "plt.plot(x, valores_p)\n",
    "plt.xlabel(\"Número de Temas\")\n",
    "plt.ylabel(\"Medida de Perplejidad\")\n",
    "\n",
    "plt.show()"
   ]
  },
  {
   "cell_type": "code",
   "execution_count": 77,
   "metadata": {},
   "outputs": [
    {
     "name": "stdout",
     "output_type": "stream",
     "text": [
      "[(0,\n",
      "  '0.032*\"murder\" + 0.028*\"biographi\" + 0.023*\"base novel\" + 0.015*\"violenc\" + '\n",
      "  '0.014*\"reveng\" + 0.014*\"independ film\" + 0.013*\"short\" + 0.012*\"sport\" + '\n",
      "  '0.011*\"sex\" + 0.010*\"base true stori\"'),\n",
      " (1,\n",
      "  '0.038*\"\" + 0.018*\"sequel\" + 0.016*\"world war\" + 0.015*\"anim\" + '\n",
      "  '0.014*\"zombi\" + 0.014*\"lgbt\" + 0.013*\"polit\" + 0.012*\"war\" + 0.012*\"come '\n",
      "  'age\" + 0.012*\"comedi\"'),\n",
      " (2,\n",
      "  '0.174*\"woman director\" + 0.051*\"stand comedi\" + 0.026*\"music\" + '\n",
      "  '0.022*\"love\" + 0.018*\"teenag\" + 0.018*\"christma\" + 0.015*\"famili\" + '\n",
      "  '0.014*\"friendship\" + 0.012*\"high school\" + 0.010*\"documentari\"')]\n"
     ]
    }
   ],
   "source": [
    "Estimacion = LdaModel(\n",
    "    corpus=corpus,\n",
    "    id2word=dictionary,\n",
    "    num_topics=3,\n",
    "    chunksize=1000,\n",
    "    passes=20,\n",
    "    iterations=400,\n",
    "    alpha='auto',\n",
    "    eta='auto',\n",
    "    random_state=123,\n",
    "    eval_every=None\n",
    ")\n",
    "\n",
    "\n",
    "pprint(Estimacion.print_topics())"
   ]
  },
  {
   "cell_type": "markdown",
   "metadata": {},
   "source": [
    "### Guardar LDA"
   ]
  },
  {
   "cell_type": "code",
   "execution_count": 20,
   "metadata": {},
   "outputs": [],
   "source": [
    "# Estimacion.save('ModelosNLP/lda_model_estimacion.pkl')"
   ]
  },
  {
   "cell_type": "markdown",
   "metadata": {},
   "source": [
    "### Cargar LDA"
   ]
  },
  {
   "cell_type": "code",
   "execution_count": 23,
   "metadata": {},
   "outputs": [],
   "source": [
    "# Estimacion_Pickle = LdaModel.load('ModelosNLP/lda_model_estimacion.pkl')"
   ]
  },
  {
   "cell_type": "code",
   "execution_count": 21,
   "metadata": {},
   "outputs": [
    {
     "data": {
      "text/plain": [
       "682"
      ]
     },
     "execution_count": 21,
     "metadata": {},
     "output_type": "execute_result"
    }
   ],
   "source": [
    "df_keywords_title[df_keywords_title['id']=='862'].index[0]"
   ]
  },
  {
   "cell_type": "code",
   "execution_count": 78,
   "metadata": {},
   "outputs": [
    {
     "data": {
      "text/plain": [
       "[(0, 0.29471806), (1, 0.3061052), (2, 0.39917675)]"
      ]
     },
     "execution_count": 78,
     "metadata": {},
     "output_type": "execute_result"
    }
   ],
   "source": [
    "l=[Estimacion.get_document_topics(item) for item in corpus]\n",
    "#'La venganza del metegol'\n",
    "l[682]"
   ]
  },
  {
   "cell_type": "code",
   "execution_count": 79,
   "metadata": {},
   "outputs": [],
   "source": [
    "def recomendador_LDA(id_movie, l, num_recomendaciones=5, df=df_keywords_title):\n",
    "    # Crear una Serie que contiene como índice el 'id' y el valor correspondiente al índice de la película\n",
    "    indices = pd.Series(df.index, index=df['id'])\n",
    "    \n",
    "    # Verificar si el id_movie está en los índices\n",
    "    if id_movie not in indices.index:\n",
    "        print(f\"ID de película {id_movie} no encontrado.\")\n",
    "        return\n",
    "\n",
    "    # Obtener el índice de la película a partir del id_movie\n",
    "    idx = indices[id_movie]\n",
    "    \n",
    "    original_title = df.loc[idx, 'original_title']\n",
    "\n",
    "    # Obtener las probabilidades de temas para la película\n",
    "    topics_for_movie = l[idx]\n",
    "    \n",
    "    # Encontrar el tema con la mayor probabilidad (el tema dominante)\n",
    "    tema_dominante, prob_dominante = max(topics_for_movie, key=lambda x: x[1])\n",
    "\n",
    "    # Verificar los temas y probabilidades de la película original\n",
    "    print(f\"Tema dominante de la película '{original_title}' (ID: {id_movie}): {tema_dominante}\")\n",
    "    print(f\"Probabilidades de temas para la película original: {topics_for_movie}\")\n",
    "\n",
    "    # Obtener todas las películas que comparten el mismo tema dominante\n",
    "    peliculas_similares = [i for i, temas in enumerate(l) if any(tema == tema_dominante for tema, prob in temas)]\n",
    "    \n",
    "    # Excluir la película original (id_movie)\n",
    "    peliculas_similares = [i for i in peliculas_similares if i != idx]\n",
    "\n",
    "    # Obtener la probabilidad del tema dominante para las películas recomendadas\n",
    "    probabilidad_tema_dominante = []\n",
    "    for i in peliculas_similares:\n",
    "        for tema, prob in l[i]:\n",
    "            if tema == tema_dominante:\n",
    "                probabilidad_tema_dominante.append((i, prob))\n",
    "                break\n",
    "\n",
    "    # Ordenar las películas recomendadas por la probabilidad del tema dominante en orden descendente\n",
    "    probabilidad_tema_dominante = sorted(probabilidad_tema_dominante, key=lambda x: x[1], reverse=True)\n",
    "    \n",
    "    # Limitar el número de recomendaciones al parámetro num_recomendaciones\n",
    "    probabilidad_tema_dominante = probabilidad_tema_dominante[:num_recomendaciones]\n",
    "\n",
    "    # Obtener los índices y probabilidades\n",
    "    peliculas_similares_indices = [i[0] for i in probabilidad_tema_dominante]\n",
    "    peliculas_similares_probs = [i[1] for i in probabilidad_tema_dominante]\n",
    "\n",
    "    # Crear un DataFrame para mostrar los resultados\n",
    "    result_df = pd.DataFrame({\n",
    "        'Índice': peliculas_similares_indices,\n",
    "        'Título': df['original_title'].iloc[peliculas_similares_indices].values,\n",
    "        'Probabilidad Tema Dominante': peliculas_similares_probs\n",
    "    })\n",
    "\n",
    "    # Imprimir el tema dominante de la película original y el título\n",
    "    print(f\"Tema dominante de la película original (ID: {id_movie}): {tema_dominante}\")\n",
    "    print(f\"Título de la película original: {original_title}\")\n",
    "    \n",
    "    # Imprimir las películas recomendadas con la probabilidad del tema dominante\n",
    "    print(\"\\nPelículas recomendadas:\")\n",
    "    #for i, row in result_df.iterrows():\n",
    "     #   print(f\"Índice: {row['Índice']}, Título: {row['Título']}, Probabilidad Tema Dominante: {row['Probabilidad Tema Dominante']:.4f}\")\n",
    "    \n",
    "    # Retornar el DataFrame con los resultados\n",
    "    return result_df"
   ]
  },
  {
   "cell_type": "code",
   "execution_count": 80,
   "metadata": {},
   "outputs": [
    {
     "name": "stdout",
     "output_type": "stream",
     "text": [
      "Tema dominante de la película 'Toy Story' (ID: 862): 2\n",
      "Probabilidades de temas para la película original: [(0, 0.29471806), (1, 0.3061052), (2, 0.39917675)]\n",
      "Tema dominante de la película original (ID: 862): 2\n",
      "Título de la película original: Toy Story\n",
      "\n",
      "Películas recomendadas:\n"
     ]
    },
    {
     "data": {
      "text/html": [
       "<div>\n",
       "<style scoped>\n",
       "    .dataframe tbody tr th:only-of-type {\n",
       "        vertical-align: middle;\n",
       "    }\n",
       "\n",
       "    .dataframe tbody tr th {\n",
       "        vertical-align: top;\n",
       "    }\n",
       "\n",
       "    .dataframe thead th {\n",
       "        text-align: right;\n",
       "    }\n",
       "</style>\n",
       "<table border=\"1\" class=\"dataframe\">\n",
       "  <thead>\n",
       "    <tr style=\"text-align: right;\">\n",
       "      <th></th>\n",
       "      <th>Índice</th>\n",
       "      <th>Título</th>\n",
       "      <th>Probabilidad Tema Dominante</th>\n",
       "    </tr>\n",
       "  </thead>\n",
       "  <tbody>\n",
       "    <tr>\n",
       "      <th>0</th>\n",
       "      <td>34093</td>\n",
       "      <td>एबीसीडी</td>\n",
       "      <td>0.755740</td>\n",
       "    </tr>\n",
       "    <tr>\n",
       "      <th>1</th>\n",
       "      <td>1902</td>\n",
       "      <td>Blindsight</td>\n",
       "      <td>0.755366</td>\n",
       "    </tr>\n",
       "    <tr>\n",
       "      <th>2</th>\n",
       "      <td>35474</td>\n",
       "      <td>In Old Santa Fe</td>\n",
       "      <td>0.718472</td>\n",
       "    </tr>\n",
       "    <tr>\n",
       "      <th>3</th>\n",
       "      <td>1815</td>\n",
       "      <td>Efter brylluppet</td>\n",
       "      <td>0.718376</td>\n",
       "    </tr>\n",
       "    <tr>\n",
       "      <th>4</th>\n",
       "      <td>24347</td>\n",
       "      <td>Cougar Hunting</td>\n",
       "      <td>0.718363</td>\n",
       "    </tr>\n",
       "    <tr>\n",
       "      <th>5</th>\n",
       "      <td>3275</td>\n",
       "      <td>Crazy</td>\n",
       "      <td>0.717189</td>\n",
       "    </tr>\n",
       "    <tr>\n",
       "      <th>6</th>\n",
       "      <td>521</td>\n",
       "      <td>Central do Brasil</td>\n",
       "      <td>0.695193</td>\n",
       "    </tr>\n",
       "    <tr>\n",
       "      <th>7</th>\n",
       "      <td>41810</td>\n",
       "      <td>Krisha</td>\n",
       "      <td>0.668519</td>\n",
       "    </tr>\n",
       "    <tr>\n",
       "      <th>8</th>\n",
       "      <td>43787</td>\n",
       "      <td>Fitoor</td>\n",
       "      <td>0.668089</td>\n",
       "    </tr>\n",
       "    <tr>\n",
       "      <th>9</th>\n",
       "      <td>42124</td>\n",
       "      <td>Top Spin</td>\n",
       "      <td>0.668084</td>\n",
       "    </tr>\n",
       "  </tbody>\n",
       "</table>\n",
       "</div>"
      ],
      "text/plain": [
       "   Índice             Título  Probabilidad Tema Dominante\n",
       "0   34093            एबीसीडी                     0.755740\n",
       "1    1902         Blindsight                     0.755366\n",
       "2   35474    In Old Santa Fe                     0.718472\n",
       "3    1815   Efter brylluppet                     0.718376\n",
       "4   24347     Cougar Hunting                     0.718363\n",
       "5    3275              Crazy                     0.717189\n",
       "6     521  Central do Brasil                     0.695193\n",
       "7   41810             Krisha                     0.668519\n",
       "8   43787             Fitoor                     0.668089\n",
       "9   42124           Top Spin                     0.668084"
      ]
     },
     "execution_count": 80,
     "metadata": {},
     "output_type": "execute_result"
    }
   ],
   "source": [
    "recomendador_LDA('862', l,num_recomendaciones=10)"
   ]
  }
 ],
 "metadata": {
  "kernelspec": {
   "display_name": "VSCEnv",
   "language": "python",
   "name": "python3"
  },
  "language_info": {
   "codemirror_mode": {
    "name": "ipython",
    "version": 3
   },
   "file_extension": ".py",
   "mimetype": "text/x-python",
   "name": "python",
   "nbconvert_exporter": "python",
   "pygments_lexer": "ipython3",
   "version": "3.10.13"
  }
 },
 "nbformat": 4,
 "nbformat_minor": 2
}
