{
 "cells": [
  {
   "cell_type": "markdown",
   "metadata": {},
   "source": [
    "## Carga datos y limpieza"
   ]
  },
  {
   "cell_type": "code",
   "execution_count": 2,
   "metadata": {},
   "outputs": [],
   "source": [
    "#Python\n",
    "import pandas as pd\n",
    "import numpy as np\n",
    "import matplotlib.pyplot as plt\n",
    "import seaborn as sns\n",
    "\n",
    "\n",
    "from sklearn.metrics.pairwise import cosine_similarity\n",
    "from sklearn.feature_extraction.text import TfidfVectorizer\n",
    "\n",
    "#Guardar modelos\n",
    "from scipy.sparse import csr_matrix\n",
    "from scipy import sparse\n",
    "\n",
    "\n",
    "#LDA\n",
    "from gensim.corpora import Dictionary\n",
    "from gensim.models import LdaModel\n",
    "from gensim.models.ldamulticore import LdaMulticore\n",
    "from gensim.models import CoherenceModel\n",
    "import pyLDAvis\n",
    "import pyLDAvis.gensim_models as gensimvis\n",
    "from pprint import pprint\n"
   ]
  },
  {
   "cell_type": "code",
   "execution_count": 3,
   "metadata": {},
   "outputs": [
    {
     "name": "stderr",
     "output_type": "stream",
     "text": [
      "C:\\Users\\WD\\AppData\\Local\\Temp\\ipykernel_2200\\3950954798.py:3: DtypeWarning: Columns (10) have mixed types. Specify dtype option on import or set low_memory=False.\n",
      "  metadata = pd.read_csv(file_path)\n"
     ]
    },
    {
     "data": {
      "text/html": [
       "<div>\n",
       "<style scoped>\n",
       "    .dataframe tbody tr th:only-of-type {\n",
       "        vertical-align: middle;\n",
       "    }\n",
       "\n",
       "    .dataframe tbody tr th {\n",
       "        vertical-align: top;\n",
       "    }\n",
       "\n",
       "    .dataframe thead th {\n",
       "        text-align: right;\n",
       "    }\n",
       "</style>\n",
       "<table border=\"1\" class=\"dataframe\">\n",
       "  <thead>\n",
       "    <tr style=\"text-align: right;\">\n",
       "      <th></th>\n",
       "      <th>adult</th>\n",
       "      <th>belongs_to_collection</th>\n",
       "      <th>budget</th>\n",
       "      <th>genres</th>\n",
       "      <th>homepage</th>\n",
       "      <th>id</th>\n",
       "      <th>imdb_id</th>\n",
       "      <th>original_language</th>\n",
       "      <th>original_title</th>\n",
       "      <th>overview</th>\n",
       "      <th>...</th>\n",
       "      <th>release_date</th>\n",
       "      <th>revenue</th>\n",
       "      <th>runtime</th>\n",
       "      <th>spoken_languages</th>\n",
       "      <th>status</th>\n",
       "      <th>tagline</th>\n",
       "      <th>title</th>\n",
       "      <th>video</th>\n",
       "      <th>vote_average</th>\n",
       "      <th>vote_count</th>\n",
       "    </tr>\n",
       "  </thead>\n",
       "  <tbody>\n",
       "    <tr>\n",
       "      <th>0</th>\n",
       "      <td>False</td>\n",
       "      <td>{'id': 10194, 'name': 'Toy Story Collection', ...</td>\n",
       "      <td>30000000</td>\n",
       "      <td>[{'id': 16, 'name': 'Animation'}, {'id': 35, '...</td>\n",
       "      <td>http://toystory.disney.com/toy-story</td>\n",
       "      <td>862</td>\n",
       "      <td>tt0114709</td>\n",
       "      <td>en</td>\n",
       "      <td>Toy Story</td>\n",
       "      <td>Led by Woody, Andy's toys live happily in his ...</td>\n",
       "      <td>...</td>\n",
       "      <td>1995-10-30</td>\n",
       "      <td>373554033.0</td>\n",
       "      <td>81.0</td>\n",
       "      <td>[{'iso_639_1': 'en', 'name': 'English'}]</td>\n",
       "      <td>Released</td>\n",
       "      <td>NaN</td>\n",
       "      <td>Toy Story</td>\n",
       "      <td>False</td>\n",
       "      <td>7.7</td>\n",
       "      <td>5415.0</td>\n",
       "    </tr>\n",
       "  </tbody>\n",
       "</table>\n",
       "<p>1 rows × 24 columns</p>\n",
       "</div>"
      ],
      "text/plain": [
       "   adult                              belongs_to_collection    budget  \\\n",
       "0  False  {'id': 10194, 'name': 'Toy Story Collection', ...  30000000   \n",
       "\n",
       "                                              genres  \\\n",
       "0  [{'id': 16, 'name': 'Animation'}, {'id': 35, '...   \n",
       "\n",
       "                               homepage   id    imdb_id original_language  \\\n",
       "0  http://toystory.disney.com/toy-story  862  tt0114709                en   \n",
       "\n",
       "  original_title                                           overview  ...  \\\n",
       "0      Toy Story  Led by Woody, Andy's toys live happily in his ...  ...   \n",
       "\n",
       "  release_date      revenue runtime                          spoken_languages  \\\n",
       "0   1995-10-30  373554033.0    81.0  [{'iso_639_1': 'en', 'name': 'English'}]   \n",
       "\n",
       "     status  tagline      title  video vote_average vote_count  \n",
       "0  Released      NaN  Toy Story  False          7.7     5415.0  \n",
       "\n",
       "[1 rows x 24 columns]"
      ]
     },
     "execution_count": 3,
     "metadata": {},
     "output_type": "execute_result"
    }
   ],
   "source": [
    "\n",
    "file_path = \"https://raw.githubusercontent.com/juankquintana/aprendizaje-no-supervisado/main/Proyecto/data/movies_metadata.csv\"\n",
    "\n",
    "metadata = pd.read_csv(file_path)\n",
    "\n",
    "metadata.head(1)"
   ]
  },
  {
   "cell_type": "code",
   "execution_count": 4,
   "metadata": {},
   "outputs": [
    {
     "name": "stdout",
     "output_type": "stream",
     "text": [
      "0     [Animation, Comedy, Family]\n",
      "1    [Adventure, Fantasy, Family]\n",
      "2               [Romance, Comedy]\n",
      "3        [Comedy, Drama, Romance]\n",
      "4                        [Comedy]\n",
      "Name: genre_names, dtype: object\n"
     ]
    }
   ],
   "source": [
    "import ast\n",
    "def columnas_transformadas(metadata, columna, indicador, nuevo_nombre):\n",
    "    # Crear una nueva columna temporal con los datos convertidos\n",
    "    metadata['col_p'] = metadata[columna].apply(lambda x: ast.literal_eval(x) if isinstance(x, str) else x)\n",
    "    # Extraer el valor deseado\n",
    "    metadata[nuevo_nombre] = metadata['col_p'].apply(lambda x: [genre_p[indicador] for genre_p in x] if isinstance(x, list) else [])\n",
    "    # Eliminar la columna temporal\n",
    "    metadata = metadata.drop(columns=['col_p'])\n",
    "    # Mostrar las primeras filas del nuevo nombre de columna\n",
    "    print(metadata[nuevo_nombre].head(5))\n",
    "    return metadata\n",
    "\n",
    "\n",
    "metadata = columnas_transformadas(metadata, 'genres', 'name', 'genre_names')"
   ]
  },
  {
   "cell_type": "code",
   "execution_count": 5,
   "metadata": {},
   "outputs": [
    {
     "data": {
      "text/html": [
       "<div>\n",
       "<style scoped>\n",
       "    .dataframe tbody tr th:only-of-type {\n",
       "        vertical-align: middle;\n",
       "    }\n",
       "\n",
       "    .dataframe tbody tr th {\n",
       "        vertical-align: top;\n",
       "    }\n",
       "\n",
       "    .dataframe thead th {\n",
       "        text-align: right;\n",
       "    }\n",
       "</style>\n",
       "<table border=\"1\" class=\"dataframe\">\n",
       "  <thead>\n",
       "    <tr style=\"text-align: right;\">\n",
       "      <th></th>\n",
       "      <th>id</th>\n",
       "      <th>keywords</th>\n",
       "    </tr>\n",
       "  </thead>\n",
       "  <tbody>\n",
       "    <tr>\n",
       "      <th>0</th>\n",
       "      <td>862</td>\n",
       "      <td>[{'id': 931, 'name': 'jealousy'}, {'id': 4290,...</td>\n",
       "    </tr>\n",
       "    <tr>\n",
       "      <th>1</th>\n",
       "      <td>8844</td>\n",
       "      <td>[{'id': 10090, 'name': 'board game'}, {'id': 1...</td>\n",
       "    </tr>\n",
       "    <tr>\n",
       "      <th>2</th>\n",
       "      <td>15602</td>\n",
       "      <td>[{'id': 1495, 'name': 'fishing'}, {'id': 12392...</td>\n",
       "    </tr>\n",
       "    <tr>\n",
       "      <th>3</th>\n",
       "      <td>31357</td>\n",
       "      <td>[{'id': 818, 'name': 'based on novel'}, {'id':...</td>\n",
       "    </tr>\n",
       "    <tr>\n",
       "      <th>4</th>\n",
       "      <td>11862</td>\n",
       "      <td>[{'id': 1009, 'name': 'baby'}, {'id': 1599, 'n...</td>\n",
       "    </tr>\n",
       "  </tbody>\n",
       "</table>\n",
       "</div>"
      ],
      "text/plain": [
       "      id                                           keywords\n",
       "0    862  [{'id': 931, 'name': 'jealousy'}, {'id': 4290,...\n",
       "1   8844  [{'id': 10090, 'name': 'board game'}, {'id': 1...\n",
       "2  15602  [{'id': 1495, 'name': 'fishing'}, {'id': 12392...\n",
       "3  31357  [{'id': 818, 'name': 'based on novel'}, {'id':...\n",
       "4  11862  [{'id': 1009, 'name': 'baby'}, {'id': 1599, 'n..."
      ]
     },
     "execution_count": 5,
     "metadata": {},
     "output_type": "execute_result"
    }
   ],
   "source": [
    "file_path_keywords = \"https://raw.githubusercontent.com/juankquintana/aprendizaje-no-supervisado/main/Proyecto/data/keywords.csv\"\n",
    "\n",
    "df_keywords = pd.read_csv(file_path_keywords)\n",
    "\n",
    "df_keywords.head(5)\n"
   ]
  },
  {
   "cell_type": "code",
   "execution_count": 6,
   "metadata": {},
   "outputs": [
    {
     "name": "stdout",
     "output_type": "stream",
     "text": [
      "     id  keyword_id       keyword_name\n",
      "0   862       931.0           jealousy\n",
      "0   862      4290.0                toy\n",
      "0   862      5202.0                boy\n",
      "0   862      6054.0         friendship\n",
      "0   862      9713.0            friends\n",
      "0   862      9823.0            rivalry\n",
      "0   862    165503.0      boy next door\n",
      "0   862    170722.0            new toy\n",
      "0   862    187065.0  toy comes to life\n",
      "1  8844     10090.0         board game\n"
     ]
    }
   ],
   "source": [
    "import ast\n",
    "\n",
    "# Convertir la columna 'keywords' de string a una lista de diccionarios\n",
    "df_keywords['keywords'] = df_keywords['keywords'].apply(ast.literal_eval)\n",
    "df_keywords_exploded = df_keywords.explode('keywords')\n",
    "\n",
    "df_keywords_exploded['keyword_id'] = df_keywords_exploded['keywords'].apply(lambda x: x['id'] if isinstance(x, dict) else None)\n",
    "df_keywords_exploded['keyword_name'] = df_keywords_exploded['keywords'].apply(lambda x: x['name'] if isinstance(x, dict) else None)\n",
    "\n",
    "# Eliminar la columna original 'keywords'\n",
    "df_keywords_exploded = df_keywords_exploded.drop(columns=['keywords'])\n",
    "\n",
    "print(df_keywords_exploded.head(10))"
   ]
  },
  {
   "cell_type": "code",
   "execution_count": 7,
   "metadata": {},
   "outputs": [
    {
     "name": "stderr",
     "output_type": "stream",
     "text": [
      "C:\\Users\\WD\\AppData\\Local\\Temp\\ipykernel_2200\\3305871799.py:10: FutureWarning: \n",
      "\n",
      "Passing `palette` without assigning `hue` is deprecated and will be removed in v0.14.0. Assign the `y` variable to `hue` and set `legend=False` for the same effect.\n",
      "\n",
      "  ax = sns.barplot(x='movie_count', y='keyword_name', data=top_25_keywords, palette='viridis')\n"
     ]
    },
    {
     "data": {
      "image/png": "[encoded data removed]",
      "text/plain": [
       "<Figure size 1000x800 with 1 Axes>"
      ]
     },
     "metadata": {},
     "output_type": "display_data"
    }
   ],
   "source": [
    "keyword_counts = df_keywords_exploded.groupby('keyword_name')['id'].count().reset_index(name='movie_count')\n",
    "\n",
    "# Ordenar los datos por el número de películas para una mejor visualización\n",
    "keyword_counts = keyword_counts.sort_values('movie_count', ascending=False)\n",
    "\n",
    "top_25_keywords = keyword_counts.head(25)\n",
    "\n",
    "# Graficar los datos\n",
    "plt.figure(figsize=(10, 8))\n",
    "ax = sns.barplot(x='movie_count', y='keyword_name', data=top_25_keywords, palette='viridis')\n",
    "\n",
    "# Agregar etiquetas de datos\n",
    "for i in ax.containers:\n",
    "    ax.bar_label(i, fmt='%d', label_type='edge', padding=3)\n",
    "\n",
    "plt.xlabel('Número de películas')\n",
    "plt.ylabel('Palabras clave (Keywords)')\n",
    "plt.title('Top 25 Keywords')\n",
    "plt.show()"
   ]
  },
  {
   "cell_type": "code",
   "execution_count": 8,
   "metadata": {},
   "outputs": [
    {
     "data": {
      "text/html": [
       "<div>\n",
       "<style scoped>\n",
       "    .dataframe tbody tr th:only-of-type {\n",
       "        vertical-align: middle;\n",
       "    }\n",
       "\n",
       "    .dataframe tbody tr th {\n",
       "        vertical-align: top;\n",
       "    }\n",
       "\n",
       "    .dataframe thead th {\n",
       "        text-align: right;\n",
       "    }\n",
       "</style>\n",
       "<table border=\"1\" class=\"dataframe\">\n",
       "  <thead>\n",
       "    <tr style=\"text-align: right;\">\n",
       "      <th></th>\n",
       "      <th>id</th>\n",
       "      <th>keyword_name</th>\n",
       "    </tr>\n",
       "  </thead>\n",
       "  <tbody>\n",
       "    <tr>\n",
       "      <th>0</th>\n",
       "      <td>2</td>\n",
       "      <td>[underdog, prison, factory worker, prisoner, h...</td>\n",
       "    </tr>\n",
       "    <tr>\n",
       "      <th>1</th>\n",
       "      <td>3</td>\n",
       "      <td>[salesclerk, helsinki, garbage, independent film]</td>\n",
       "    </tr>\n",
       "    <tr>\n",
       "      <th>2</th>\n",
       "      <td>5</td>\n",
       "      <td>[hotel, new year's eve, witch, bet, hotel room...</td>\n",
       "    </tr>\n",
       "    <tr>\n",
       "      <th>3</th>\n",
       "      <td>6</td>\n",
       "      <td>[chicago, drug dealer, boxing match, escape, o...</td>\n",
       "    </tr>\n",
       "    <tr>\n",
       "      <th>4</th>\n",
       "      <td>11</td>\n",
       "      <td>[android, galaxy, hermit, death star, lightsab...</td>\n",
       "    </tr>\n",
       "  </tbody>\n",
       "</table>\n",
       "</div>"
      ],
      "text/plain": [
       "   id                                       keyword_name\n",
       "0   2  [underdog, prison, factory worker, prisoner, h...\n",
       "1   3  [salesclerk, helsinki, garbage, independent film]\n",
       "2   5  [hotel, new year's eve, witch, bet, hotel room...\n",
       "3   6  [chicago, drug dealer, boxing match, escape, o...\n",
       "4  11  [android, galaxy, hermit, death star, lightsab..."
      ]
     },
     "execution_count": 8,
     "metadata": {},
     "output_type": "execute_result"
    }
   ],
   "source": [
    "df_grouped_keywords = df_keywords_exploded.groupby('id')['keyword_name'].apply(list).reset_index()\n",
    "\n",
    "df_grouped_keywords.head()"
   ]
  },
  {
   "cell_type": "code",
   "execution_count": 9,
   "metadata": {},
   "outputs": [],
   "source": [
    "#!python -m spacy download en_core_web_sm"
   ]
  },
  {
   "cell_type": "markdown",
   "metadata": {},
   "source": [
    "### Cruzar titulo original y generos a la lista"
   ]
  },
  {
   "cell_type": "code",
   "execution_count": 10,
   "metadata": {},
   "outputs": [
    {
     "data": {
      "text/html": [
       "<div>\n",
       "<style scoped>\n",
       "    .dataframe tbody tr th:only-of-type {\n",
       "        vertical-align: middle;\n",
       "    }\n",
       "\n",
       "    .dataframe tbody tr th {\n",
       "        vertical-align: top;\n",
       "    }\n",
       "\n",
       "    .dataframe thead th {\n",
       "        text-align: right;\n",
       "    }\n",
       "</style>\n",
       "<table border=\"1\" class=\"dataframe\">\n",
       "  <thead>\n",
       "    <tr style=\"text-align: right;\">\n",
       "      <th></th>\n",
       "      <th>id</th>\n",
       "      <th>original_title</th>\n",
       "      <th>keyword_name</th>\n",
       "      <th>genre_names</th>\n",
       "    </tr>\n",
       "  </thead>\n",
       "  <tbody>\n",
       "    <tr>\n",
       "      <th>0</th>\n",
       "      <td>2</td>\n",
       "      <td>Ariel</td>\n",
       "      <td>[underdog, prison, factory worker, prisoner, h...</td>\n",
       "      <td>[Drama, Crime]</td>\n",
       "    </tr>\n",
       "    <tr>\n",
       "      <th>1</th>\n",
       "      <td>3</td>\n",
       "      <td>Varjoja paratiisissa</td>\n",
       "      <td>[salesclerk, helsinki, garbage, independent film]</td>\n",
       "      <td>[Drama, Comedy]</td>\n",
       "    </tr>\n",
       "    <tr>\n",
       "      <th>2</th>\n",
       "      <td>5</td>\n",
       "      <td>Four Rooms</td>\n",
       "      <td>[hotel, new year's eve, witch, bet, hotel room...</td>\n",
       "      <td>[Crime, Comedy]</td>\n",
       "    </tr>\n",
       "    <tr>\n",
       "      <th>3</th>\n",
       "      <td>6</td>\n",
       "      <td>Judgment Night</td>\n",
       "      <td>[chicago, drug dealer, boxing match, escape, o...</td>\n",
       "      <td>[Action, Thriller, Crime]</td>\n",
       "    </tr>\n",
       "    <tr>\n",
       "      <th>4</th>\n",
       "      <td>11</td>\n",
       "      <td>Star Wars</td>\n",
       "      <td>[android, galaxy, hermit, death star, lightsab...</td>\n",
       "      <td>[Adventure, Action, Science Fiction]</td>\n",
       "    </tr>\n",
       "  </tbody>\n",
       "</table>\n",
       "</div>"
      ],
      "text/plain": [
       "   id        original_title  \\\n",
       "0   2                 Ariel   \n",
       "1   3  Varjoja paratiisissa   \n",
       "2   5            Four Rooms   \n",
       "3   6        Judgment Night   \n",
       "4  11             Star Wars   \n",
       "\n",
       "                                        keyword_name  \\\n",
       "0  [underdog, prison, factory worker, prisoner, h...   \n",
       "1  [salesclerk, helsinki, garbage, independent film]   \n",
       "2  [hotel, new year's eve, witch, bet, hotel room...   \n",
       "3  [chicago, drug dealer, boxing match, escape, o...   \n",
       "4  [android, galaxy, hermit, death star, lightsab...   \n",
       "\n",
       "                            genre_names  \n",
       "0                        [Drama, Crime]  \n",
       "1                       [Drama, Comedy]  \n",
       "2                       [Crime, Comedy]  \n",
       "3             [Action, Thriller, Crime]  \n",
       "4  [Adventure, Action, Science Fiction]  "
      ]
     },
     "execution_count": 10,
     "metadata": {},
     "output_type": "execute_result"
    }
   ],
   "source": [
    "# Convert 'movieId' column in df_ratings to object type\n",
    "df_grouped_keywords['id'] = df_grouped_keywords['id'].astype(str)\n",
    "\n",
    "# Now perform the merge operation\n",
    "df_keywords_title = pd.merge(df_grouped_keywords, metadata[['id', 'original_title','genre_names']],\n",
    "                     left_on='id', right_on='id', how='left')\n",
    "\n",
    "# Seleccionar solo las columnas que necesitas\n",
    "df_keywords_title = df_keywords_title[['id','original_title', 'keyword_name','genre_names']]\n",
    "\n",
    "# Mostrar el DataFrame final\n",
    "df_keywords_title.head()"
   ]
  },
  {
   "cell_type": "code",
   "execution_count": 11,
   "metadata": {},
   "outputs": [
    {
     "data": {
      "text/html": [
       "<div>\n",
       "<style scoped>\n",
       "    .dataframe tbody tr th:only-of-type {\n",
       "        vertical-align: middle;\n",
       "    }\n",
       "\n",
       "    .dataframe tbody tr th {\n",
       "        vertical-align: top;\n",
       "    }\n",
       "\n",
       "    .dataframe thead th {\n",
       "        text-align: right;\n",
       "    }\n",
       "</style>\n",
       "<table border=\"1\" class=\"dataframe\">\n",
       "  <thead>\n",
       "    <tr style=\"text-align: right;\">\n",
       "      <th></th>\n",
       "      <th>id</th>\n",
       "      <th>original_title</th>\n",
       "      <th>keyword_name</th>\n",
       "    </tr>\n",
       "  </thead>\n",
       "  <tbody>\n",
       "    <tr>\n",
       "      <th>0</th>\n",
       "      <td>2</td>\n",
       "      <td>Ariel</td>\n",
       "      <td>[Drama, Crime, underdog, prison, factory worke...</td>\n",
       "    </tr>\n",
       "    <tr>\n",
       "      <th>1</th>\n",
       "      <td>3</td>\n",
       "      <td>Varjoja paratiisissa</td>\n",
       "      <td>[Drama, Comedy, salesclerk, helsinki, garbage,...</td>\n",
       "    </tr>\n",
       "    <tr>\n",
       "      <th>2</th>\n",
       "      <td>5</td>\n",
       "      <td>Four Rooms</td>\n",
       "      <td>[Crime, Comedy, hotel, new year's eve, witch, ...</td>\n",
       "    </tr>\n",
       "    <tr>\n",
       "      <th>3</th>\n",
       "      <td>6</td>\n",
       "      <td>Judgment Night</td>\n",
       "      <td>[Action, Thriller, Crime, chicago, drug dealer...</td>\n",
       "    </tr>\n",
       "    <tr>\n",
       "      <th>4</th>\n",
       "      <td>11</td>\n",
       "      <td>Star Wars</td>\n",
       "      <td>[Adventure, Action, Science Fiction, android, ...</td>\n",
       "    </tr>\n",
       "  </tbody>\n",
       "</table>\n",
       "</div>"
      ],
      "text/plain": [
       "   id        original_title                                       keyword_name\n",
       "0   2                 Ariel  [Drama, Crime, underdog, prison, factory worke...\n",
       "1   3  Varjoja paratiisissa  [Drama, Comedy, salesclerk, helsinki, garbage,...\n",
       "2   5            Four Rooms  [Crime, Comedy, hotel, new year's eve, witch, ...\n",
       "3   6        Judgment Night  [Action, Thriller, Crime, chicago, drug dealer...\n",
       "4  11             Star Wars  [Adventure, Action, Science Fiction, android, ..."
      ]
     },
     "execution_count": 11,
     "metadata": {},
     "output_type": "execute_result"
    }
   ],
   "source": [
    "df_keywords_title['keyword_name'] = df_keywords_title.apply(lambda row: row['genre_names'] + row['keyword_name'], axis=1)\n",
    "df_keywords_title = df_keywords_title.drop(columns=['genre_names'])\n",
    "df_keywords_title.head()"
   ]
  },
  {
   "cell_type": "markdown",
   "metadata": {},
   "source": [
    "### Text cleaning keywords"
   ]
  },
  {
   "cell_type": "code",
   "execution_count": 12,
   "metadata": {},
   "outputs": [
    {
     "name": "stderr",
     "output_type": "stream",
     "text": [
      "<>:17: DeprecationWarning: invalid escape sequence '\\d'\n",
      "<>:18: DeprecationWarning: invalid escape sequence '\\s'\n",
      "<>:17: DeprecationWarning: invalid escape sequence '\\d'\n",
      "<>:18: DeprecationWarning: invalid escape sequence '\\s'\n",
      "C:\\Users\\WD\\AppData\\Local\\Temp\\ipykernel_2200\\2306704377.py:17: DeprecationWarning: invalid escape sequence '\\d'\n",
      "  out = re.sub(\"\\d+\", \"\", out)  # Eliminar números\n",
      "C:\\Users\\WD\\AppData\\Local\\Temp\\ipykernel_2200\\2306704377.py:18: DeprecationWarning: invalid escape sequence '\\s'\n",
      "  out = re.sub('\\s+', ' ', out).strip()  # Remover espacios extra\n"
     ]
    }
   ],
   "source": [
    "import re\n",
    "import spacy\n",
    "import unidecode\n",
    "from nltk.stem import SnowballStemmer\n",
    "\n",
    "nlp = spacy.load('en_core_web_sm')\n",
    "\n",
    "stemmer = SnowballStemmer('english')\n",
    "\n",
    "def text_cleaning(txt, apply_lemma=True, apply_stemming=True):\n",
    "    if not txt or pd.isna(txt):  # Verifica si el texto es None o NaN\n",
    "        return \"\"\n",
    "    \n",
    "    # Eliminar caracteres especiales, tildes y convertir a minúsculas\n",
    "    out = unidecode.unidecode(txt) \n",
    "    out = re.sub('[^A-Za-z0-9 ]+', ' ', out)  # Mantener solo letras y números\n",
    "    out = re.sub(\"\\d+\", \"\", out)  # Eliminar números\n",
    "    out = re.sub('\\s+', ' ', out).strip()  # Remover espacios extra\n",
    "    out = out.lower()  # Convertir a minúsculas\n",
    "\n",
    "    # Tokenización en palabras\n",
    "    lemmas = out.split()\n",
    "\n",
    "    # Stemming\n",
    "    if apply_stemming:\n",
    "        stemmed = [stemmer.stem(lemma) for lemma in lemmas]\n",
    "    else:\n",
    "        stemmed = lemmas\n",
    "\n",
    "    # Filtrar palabras cortas (menores de 3 caracteres) y eliminar posibles vacíos\n",
    "    cleaned = [word for word in stemmed if len(word) > 2]\n",
    "\n",
    "    return \" \".join(cleaned) if cleaned else \"\"\n",
    "\n"
   ]
  },
  {
   "cell_type": "code",
   "execution_count": 13,
   "metadata": {},
   "outputs": [
    {
     "name": "stdout",
     "output_type": "stream",
     "text": [
      "   id                                   cleaned_keywords\n",
      "0   2  [drama, crime, underdog, prison, factori worke...\n",
      "1   3  [drama, comedi, salesclerk, helsinki, garbag, ...\n",
      "2   5  [crime, comedi, hotel, new year eve, witch, be...\n",
      "3   6  [action, thriller, crime, chicago, drug dealer...\n",
      "4  11  [adventur, action, scienc fiction, android, ga...\n"
     ]
    }
   ],
   "source": [
    "# Aplicar la limpieza a cada palabra clave en las listas de 'keyword_name'\n",
    "df_keywords_title['cleaned_keywords'] = df_keywords_title['keyword_name'].apply(\n",
    "    lambda keywords: [text_cleaning(kw) for kw in keywords if kw]  # Verificar si cada keyword no es None\n",
    ")\n",
    "\n",
    "# Mostrar las primeras filas con las palabras clave limpias\n",
    "print(df_keywords_title[['id', 'cleaned_keywords']].head())"
   ]
  },
  {
   "cell_type": "code",
   "execution_count": 14,
   "metadata": {},
   "outputs": [
    {
     "data": {
      "text/plain": [
       "682    [anim, comedi, famili, jealousi, toy, boy, fri...\n",
       "Name: cleaned_keywords, dtype: object"
      ]
     },
     "execution_count": 14,
     "metadata": {},
     "output_type": "execute_result"
    }
   ],
   "source": [
    "df_keywords_title[df_keywords_title['id']=='862'][\"cleaned_keywords\"]"
   ]
  },
  {
   "cell_type": "code",
   "execution_count": 15,
   "metadata": {},
   "outputs": [
    {
     "data": {
      "text/html": [
       "<div>\n",
       "<style scoped>\n",
       "    .dataframe tbody tr th:only-of-type {\n",
       "        vertical-align: middle;\n",
       "    }\n",
       "\n",
       "    .dataframe tbody tr th {\n",
       "        vertical-align: top;\n",
       "    }\n",
       "\n",
       "    .dataframe thead th {\n",
       "        text-align: right;\n",
       "    }\n",
       "</style>\n",
       "<table border=\"1\" class=\"dataframe\">\n",
       "  <thead>\n",
       "    <tr style=\"text-align: right;\">\n",
       "      <th></th>\n",
       "      <th>id</th>\n",
       "      <th>original_title</th>\n",
       "      <th>keyword_name</th>\n",
       "      <th>cleaned_keywords</th>\n",
       "    </tr>\n",
       "  </thead>\n",
       "  <tbody>\n",
       "    <tr>\n",
       "      <th>0</th>\n",
       "      <td>2</td>\n",
       "      <td>Ariel</td>\n",
       "      <td>[Drama, Crime, underdog, prison, factory worke...</td>\n",
       "      <td>[drama, crime, underdog, prison, factori worke...</td>\n",
       "    </tr>\n",
       "    <tr>\n",
       "      <th>1</th>\n",
       "      <td>3</td>\n",
       "      <td>Varjoja paratiisissa</td>\n",
       "      <td>[Drama, Comedy, salesclerk, helsinki, garbage,...</td>\n",
       "      <td>[drama, comedi, salesclerk, helsinki, garbag, ...</td>\n",
       "    </tr>\n",
       "    <tr>\n",
       "      <th>2</th>\n",
       "      <td>5</td>\n",
       "      <td>Four Rooms</td>\n",
       "      <td>[Crime, Comedy, hotel, new year's eve, witch, ...</td>\n",
       "      <td>[crime, comedi, hotel, new year eve, witch, be...</td>\n",
       "    </tr>\n",
       "    <tr>\n",
       "      <th>3</th>\n",
       "      <td>6</td>\n",
       "      <td>Judgment Night</td>\n",
       "      <td>[Action, Thriller, Crime, chicago, drug dealer...</td>\n",
       "      <td>[action, thriller, crime, chicago, drug dealer...</td>\n",
       "    </tr>\n",
       "    <tr>\n",
       "      <th>4</th>\n",
       "      <td>11</td>\n",
       "      <td>Star Wars</td>\n",
       "      <td>[Adventure, Action, Science Fiction, android, ...</td>\n",
       "      <td>[adventur, action, scienc fiction, android, ga...</td>\n",
       "    </tr>\n",
       "  </tbody>\n",
       "</table>\n",
       "</div>"
      ],
      "text/plain": [
       "   id        original_title  \\\n",
       "0   2                 Ariel   \n",
       "1   3  Varjoja paratiisissa   \n",
       "2   5            Four Rooms   \n",
       "3   6        Judgment Night   \n",
       "4  11             Star Wars   \n",
       "\n",
       "                                        keyword_name  \\\n",
       "0  [Drama, Crime, underdog, prison, factory worke...   \n",
       "1  [Drama, Comedy, salesclerk, helsinki, garbage,...   \n",
       "2  [Crime, Comedy, hotel, new year's eve, witch, ...   \n",
       "3  [Action, Thriller, Crime, chicago, drug dealer...   \n",
       "4  [Adventure, Action, Science Fiction, android, ...   \n",
       "\n",
       "                                    cleaned_keywords  \n",
       "0  [drama, crime, underdog, prison, factori worke...  \n",
       "1  [drama, comedi, salesclerk, helsinki, garbag, ...  \n",
       "2  [crime, comedi, hotel, new year eve, witch, be...  \n",
       "3  [action, thriller, crime, chicago, drug dealer...  \n",
       "4  [adventur, action, scienc fiction, android, ga...  "
      ]
     },
     "execution_count": 15,
     "metadata": {},
     "output_type": "execute_result"
    }
   ],
   "source": [
    "df_keywords_title.head()"
   ]
  },
  {
   "cell_type": "code",
   "execution_count": 16,
   "metadata": {},
   "outputs": [
    {
     "data": {
      "text/plain": [
       "list"
      ]
     },
     "execution_count": 16,
     "metadata": {},
     "output_type": "execute_result"
    }
   ],
   "source": [
    "clean_keywords=df_keywords_title[\"cleaned_keywords\"]\n",
    "\n",
    "clean_sentences= [\" \".join(i) for i in clean_keywords]\n",
    "\n",
    "type(clean_sentences)"
   ]
  },
  {
   "cell_type": "markdown",
   "metadata": {},
   "source": [
    "## Count Vectorizer"
   ]
  },
  {
   "cell_type": "code",
   "execution_count": 17,
   "metadata": {},
   "outputs": [
    {
     "data": {
      "text/plain": [
       "<45462x10689 sparse matrix of type '<class 'numpy.int64'>'\n",
       "\twith 301811 stored elements in Compressed Sparse Row format>"
      ]
     },
     "execution_count": 17,
     "metadata": {},
     "output_type": "execute_result"
    }
   ],
   "source": [
    "from sklearn.feature_extraction.text import CountVectorizer\n",
    "\n",
    "count=CountVectorizer()\n",
    "count_matrix=count.fit_transform(clean_sentences)\n",
    "count_matrix"
   ]
  },
  {
   "cell_type": "code",
   "execution_count": 18,
   "metadata": {},
   "outputs": [
    {
     "name": "stdout",
     "output_type": "stream",
     "text": [
      "(45462, 10689)\n",
      "45462\n"
     ]
    }
   ],
   "source": [
    "print(count_matrix.shape)\n",
    "print(len(df_keywords_title))\n"
   ]
  },
  {
   "cell_type": "code",
   "execution_count": 19,
   "metadata": {},
   "outputs": [
    {
     "data": {
      "text/plain": [
       "array([[1.        , 0.40406102, 0.11952286, ..., 0.18898224, 0.        ,\n",
       "        0.18898224],\n",
       "       [0.40406102, 1.        , 0.16903085, ..., 0.26726124, 0.16903085,\n",
       "        0.26726124],\n",
       "       [0.11952286, 0.16903085, 1.        , ..., 0.        , 0.1       ,\n",
       "        0.        ],\n",
       "       ...,\n",
       "       [0.18898224, 0.26726124, 0.        , ..., 1.        , 0.31622777,\n",
       "        0.5       ],\n",
       "       [0.        , 0.16903085, 0.1       , ..., 0.31622777, 1.        ,\n",
       "        0.31622777],\n",
       "       [0.18898224, 0.26726124, 0.        , ..., 0.5       , 0.31622777,\n",
       "        1.        ]])"
      ]
     },
     "execution_count": 19,
     "metadata": {},
     "output_type": "execute_result"
    }
   ],
   "source": [
    "\n",
    "\n",
    "#Dependiente de la RAM\n",
    "\n",
    "#Calculamos la matriz de similitud de coseno\n",
    "cosine_sim_count = cosine_similarity(count_matrix, count_matrix)\n",
    "cosine_sim_count"
   ]
  },
  {
   "cell_type": "code",
   "execution_count": 17,
   "metadata": {},
   "outputs": [],
   "source": [
    "def recomendador_coseno(movie_id, cosine_sim, num_recomendaciones=5, df=df_keywords_title):\n",
    "    # Crear una Serie que contiene como índice el 'id' y el valor correspondiente al índice de la película\n",
    "    indices = pd.Series(df.index, index=df['id'])\n",
    "\n",
    "    # Verificar si el movie_id está en los índices\n",
    "    if movie_id not in indices.index:\n",
    "        print(f'ID de película {movie_id} no encontrado.')\n",
    "        return\n",
    "\n",
    "    # Obtener el índice de la película a partir del movie_id\n",
    "    idx = indices[movie_id]\n",
    "\n",
    "    # Obtener el título de la película original\n",
    "    original_title = df.loc[idx, 'original_title']\n",
    "    print(f'Título de la película original: {original_title}')\n",
    "    print(f'Índice de la película: {movie_id}')\n",
    "\n",
    "    # Obtener la similitud de coseno para esa película en particular con todas las películas\n",
    "    sim_scores = list(enumerate(cosine_sim[idx]))\n",
    "\n",
    "    # Ordenar la lista de tuplas por la similitud de coseno en orden descendente\n",
    "    sim_scores = sorted(sim_scores, key=lambda x: x[1], reverse=True)\n",
    "\n",
    "    # Obtener las películas más similares ignorando el primero (que es la misma película)\n",
    "    sim_scores = sim_scores[1:num_recomendaciones+1]\n",
    "\n",
    "    # Obtener los índices y las similitudes\n",
    "    movie_indices = [i[0] for i in sim_scores]\n",
    "    sim_scores_values = [i[1] for i in sim_scores]\n",
    "\n",
    "    # Verificar que los índices obtenidos están dentro del rango del DataFrame\n",
    "    valid_indices = [idx for idx in movie_indices if idx in df.index]\n",
    "\n",
    "    # Crear un DataFrame para mostrar los resultados\n",
    "    result_df = pd.DataFrame({\n",
    "        'Índice': valid_indices,\n",
    "        'Título': df['original_title'].iloc[valid_indices].values,\n",
    "        'Similitud Coseno': [sim_scores_values[movie_indices.index(idx)] for idx in valid_indices]\n",
    "    })\n",
    "\n",
    "    # Imprimir las películas recomendadas con sus índices y similitudes\n",
    "    print('\\nPelículas recomendadas:')\n",
    "    \n",
    "\n",
    "    # Retornar el DataFrame con los resultados\n",
    "    return result_df"
   ]
  },
  {
   "cell_type": "code",
   "execution_count": 46,
   "metadata": {},
   "outputs": [
    {
     "name": "stdout",
     "output_type": "stream",
     "text": [
      "Título de la película original: Toy Story\n",
      "Índice de la película: 862\n",
      "\n",
      "Películas recomendadas:\n"
     ]
    },
    {
     "data": {
      "text/html": [
       "<div>\n",
       "<style scoped>\n",
       "    .dataframe tbody tr th:only-of-type {\n",
       "        vertical-align: middle;\n",
       "    }\n",
       "\n",
       "    .dataframe tbody tr th {\n",
       "        vertical-align: top;\n",
       "    }\n",
       "\n",
       "    .dataframe thead th {\n",
       "        text-align: right;\n",
       "    }\n",
       "</style>\n",
       "<table border=\"1\" class=\"dataframe\">\n",
       "  <thead>\n",
       "    <tr style=\"text-align: right;\">\n",
       "      <th></th>\n",
       "      <th>Índice</th>\n",
       "      <th>Título</th>\n",
       "      <th>Similitud Coseno</th>\n",
       "    </tr>\n",
       "  </thead>\n",
       "  <tbody>\n",
       "    <tr>\n",
       "      <th>0</th>\n",
       "      <td>3946</td>\n",
       "      <td>Toy Story 3</td>\n",
       "      <td>0.566667</td>\n",
       "    </tr>\n",
       "    <tr>\n",
       "      <th>1</th>\n",
       "      <td>38815</td>\n",
       "      <td>Toy Story That Time Forgot</td>\n",
       "      <td>0.565685</td>\n",
       "    </tr>\n",
       "    <tr>\n",
       "      <th>2</th>\n",
       "      <td>5005</td>\n",
       "      <td>Small Soldiers</td>\n",
       "      <td>0.538816</td>\n",
       "    </tr>\n",
       "    <tr>\n",
       "      <th>3</th>\n",
       "      <td>10264</td>\n",
       "      <td>Barbie and the Three Musketeers</td>\n",
       "      <td>0.500000</td>\n",
       "    </tr>\n",
       "    <tr>\n",
       "      <th>4</th>\n",
       "      <td>36950</td>\n",
       "      <td>Toy Story of Terror!</td>\n",
       "      <td>0.489898</td>\n",
       "    </tr>\n",
       "    <tr>\n",
       "      <th>5</th>\n",
       "      <td>4722</td>\n",
       "      <td>Child's Play 2</td>\n",
       "      <td>0.482418</td>\n",
       "    </tr>\n",
       "    <tr>\n",
       "      <th>6</th>\n",
       "      <td>11130</td>\n",
       "      <td>Babes in Toyland</td>\n",
       "      <td>0.461880</td>\n",
       "    </tr>\n",
       "    <tr>\n",
       "      <th>7</th>\n",
       "      <td>44051</td>\n",
       "      <td>Monster High: Great Scarrier Reef</td>\n",
       "      <td>0.447214</td>\n",
       "    </tr>\n",
       "    <tr>\n",
       "      <th>8</th>\n",
       "      <td>25018</td>\n",
       "      <td>Ted</td>\n",
       "      <td>0.427618</td>\n",
       "    </tr>\n",
       "    <tr>\n",
       "      <th>9</th>\n",
       "      <td>14868</td>\n",
       "      <td>The Tangerine Bear: Home in Time for Christmas!</td>\n",
       "      <td>0.424264</td>\n",
       "    </tr>\n",
       "  </tbody>\n",
       "</table>\n",
       "</div>"
      ],
      "text/plain": [
       "   Índice                                           Título  Similitud Coseno\n",
       "0    3946                                      Toy Story 3          0.566667\n",
       "1   38815                       Toy Story That Time Forgot          0.565685\n",
       "2    5005                                   Small Soldiers          0.538816\n",
       "3   10264                  Barbie and the Three Musketeers          0.500000\n",
       "4   36950                             Toy Story of Terror!          0.489898\n",
       "5    4722                                   Child's Play 2          0.482418\n",
       "6   11130                                 Babes in Toyland          0.461880\n",
       "7   44051                Monster High: Great Scarrier Reef          0.447214\n",
       "8   25018                                              Ted          0.427618\n",
       "9   14868  The Tangerine Bear: Home in Time for Christmas!          0.424264"
      ]
     },
     "execution_count": 46,
     "metadata": {},
     "output_type": "execute_result"
    }
   ],
   "source": [
    "recomendador_coseno('862', cosine_sim_count, num_recomendaciones=10)"
   ]
  },
  {
   "cell_type": "markdown",
   "metadata": {},
   "source": [
    "### Guardar Count Vectorizer"
   ]
  },
  {
   "cell_type": "code",
   "execution_count": 20,
   "metadata": {},
   "outputs": [],
   "source": [
    "# from scipy.sparse import csr_matrix\n",
    "# from scipy import sparse\n",
    "# cosine_sim_sparse = csr_matrix(cosine_sim_count)\n",
    "\n",
    "# # Guardar la matriz dispersa en un archivo \n",
    "# sparse.save_npz('ModelosNLP/cosine_sim_sparse_matrixCOUNT.npz', cosine_sim_sparse)"
   ]
  },
  {
   "cell_type": "markdown",
   "metadata": {},
   "source": [
    "### Cargar Count Vectorizer"
   ]
  },
  {
   "cell_type": "code",
   "execution_count": 18,
   "metadata": {},
   "outputs": [],
   "source": [
    "cosine_sim_sparseCOUNT = sparse.load_npz('ModelosNLP/cosine_sim_sparse_matrixCOUNT.npz')\n",
    "\n",
    "# Convertirla de nuevo a densa (si es necesario, aunque puedes seguir usándola como dispersa)\n",
    "cosine_sim_sparseCOUNT = cosine_sim_sparseCOUNT.toarray()\n"
   ]
  },
  {
   "cell_type": "code",
   "execution_count": 19,
   "metadata": {},
   "outputs": [
    {
     "name": "stdout",
     "output_type": "stream",
     "text": [
      "Título de la película original: Toy Story\n",
      "Índice de la película: 862\n",
      "\n",
      "Películas recomendadas:\n"
     ]
    },
    {
     "data": {
      "text/html": [
       "<div>\n",
       "<style scoped>\n",
       "    .dataframe tbody tr th:only-of-type {\n",
       "        vertical-align: middle;\n",
       "    }\n",
       "\n",
       "    .dataframe tbody tr th {\n",
       "        vertical-align: top;\n",
       "    }\n",
       "\n",
       "    .dataframe thead th {\n",
       "        text-align: right;\n",
       "    }\n",
       "</style>\n",
       "<table border=\"1\" class=\"dataframe\">\n",
       "  <thead>\n",
       "    <tr style=\"text-align: right;\">\n",
       "      <th></th>\n",
       "      <th>Índice</th>\n",
       "      <th>Título</th>\n",
       "      <th>Similitud Coseno</th>\n",
       "    </tr>\n",
       "  </thead>\n",
       "  <tbody>\n",
       "    <tr>\n",
       "      <th>0</th>\n",
       "      <td>3946</td>\n",
       "      <td>Toy Story 3</td>\n",
       "      <td>0.566667</td>\n",
       "    </tr>\n",
       "    <tr>\n",
       "      <th>1</th>\n",
       "      <td>38815</td>\n",
       "      <td>Toy Story That Time Forgot</td>\n",
       "      <td>0.565685</td>\n",
       "    </tr>\n",
       "    <tr>\n",
       "      <th>2</th>\n",
       "      <td>5005</td>\n",
       "      <td>Small Soldiers</td>\n",
       "      <td>0.538816</td>\n",
       "    </tr>\n",
       "    <tr>\n",
       "      <th>3</th>\n",
       "      <td>10264</td>\n",
       "      <td>Barbie and the Three Musketeers</td>\n",
       "      <td>0.500000</td>\n",
       "    </tr>\n",
       "    <tr>\n",
       "      <th>4</th>\n",
       "      <td>36950</td>\n",
       "      <td>Toy Story of Terror!</td>\n",
       "      <td>0.489898</td>\n",
       "    </tr>\n",
       "    <tr>\n",
       "      <th>5</th>\n",
       "      <td>4722</td>\n",
       "      <td>Child's Play 2</td>\n",
       "      <td>0.482418</td>\n",
       "    </tr>\n",
       "    <tr>\n",
       "      <th>6</th>\n",
       "      <td>11130</td>\n",
       "      <td>Babes in Toyland</td>\n",
       "      <td>0.461880</td>\n",
       "    </tr>\n",
       "    <tr>\n",
       "      <th>7</th>\n",
       "      <td>44051</td>\n",
       "      <td>Monster High: Great Scarrier Reef</td>\n",
       "      <td>0.447214</td>\n",
       "    </tr>\n",
       "    <tr>\n",
       "      <th>8</th>\n",
       "      <td>25018</td>\n",
       "      <td>Ted</td>\n",
       "      <td>0.427618</td>\n",
       "    </tr>\n",
       "    <tr>\n",
       "      <th>9</th>\n",
       "      <td>14868</td>\n",
       "      <td>The Tangerine Bear: Home in Time for Christmas!</td>\n",
       "      <td>0.424264</td>\n",
       "    </tr>\n",
       "  </tbody>\n",
       "</table>\n",
       "</div>"
      ],
      "text/plain": [
       "   Índice                                           Título  Similitud Coseno\n",
       "0    3946                                      Toy Story 3          0.566667\n",
       "1   38815                       Toy Story That Time Forgot          0.565685\n",
       "2    5005                                   Small Soldiers          0.538816\n",
       "3   10264                  Barbie and the Three Musketeers          0.500000\n",
       "4   36950                             Toy Story of Terror!          0.489898\n",
       "5    4722                                   Child's Play 2          0.482418\n",
       "6   11130                                 Babes in Toyland          0.461880\n",
       "7   44051                Monster High: Great Scarrier Reef          0.447214\n",
       "8   25018                                              Ted          0.427618\n",
       "9   14868  The Tangerine Bear: Home in Time for Christmas!          0.424264"
      ]
     },
     "execution_count": 19,
     "metadata": {},
     "output_type": "execute_result"
    }
   ],
   "source": [
    "recomendador_coseno('862', cosine_sim_sparseCOUNT,num_recomendaciones=10)"
   ]
  },
  {
   "cell_type": "markdown",
   "metadata": {},
   "source": [
    "## TF-IDF Vectorizer"
   ]
  },
  {
   "cell_type": "code",
   "execution_count": 16,
   "metadata": {},
   "outputs": [
    {
     "name": "stdout",
     "output_type": "stream",
     "text": [
      "Shape de la matriz:  (45462, 10689)\n"
     ]
    }
   ],
   "source": [
    "from sklearn.feature_extraction.text import TfidfVectorizer\n",
    "\n",
    "#Definimos el objeto TF-IDF Vectorizer Object\n",
    "tfidf = TfidfVectorizer()\n",
    "\n",
    "tfidf_matrix = tfidf.fit_transform(clean_sentences)\n",
    "\n",
    "#Dimensiones de la matriz\n",
    "print('Shape de la matriz: ',tfidf_matrix.shape)"
   ]
  },
  {
   "cell_type": "code",
   "execution_count": 20,
   "metadata": {},
   "outputs": [
    {
     "data": {
      "text/plain": [
       "array([[1.        , 0.32212725, 0.03916419, ..., 0.04361084, 0.        ,\n",
       "        0.03425333],\n",
       "       [0.32212725, 1.        , 0.0384641 , ..., 0.05658173, 0.0222974 ,\n",
       "        0.04444107],\n",
       "       [0.03916419, 0.0384641 , 1.        , ..., 0.        , 0.01314303,\n",
       "        0.        ],\n",
       "       ...,\n",
       "       [0.04361084, 0.05658173, 0.        , ..., 1.        , 0.18521712,\n",
       "        0.22073739],\n",
       "       [0.        , 0.0222974 , 0.01314303, ..., 0.18521712, 1.        ,\n",
       "        0.27112961],\n",
       "       [0.03425333, 0.04444107, 0.        , ..., 0.22073739, 0.27112961,\n",
       "        1.        ]])"
      ]
     },
     "execution_count": 20,
     "metadata": {},
     "output_type": "execute_result"
    }
   ],
   "source": [
    "#Calculamos la matriz de similitud de coseno para el TF-IDF\n",
    "cosine_sim_TFIDF = cosine_similarity(tfidf_matrix, tfidf_matrix)\n",
    "cosine_sim_TFIDF"
   ]
  },
  {
   "cell_type": "code",
   "execution_count": 24,
   "metadata": {},
   "outputs": [
    {
     "name": "stdout",
     "output_type": "stream",
     "text": [
      "Título de la película original: Toy Story\n",
      "Índice de la película: 862\n",
      "\n",
      "Películas recomendadas:\n"
     ]
    },
    {
     "data": {
      "text/html": [
       "<div>\n",
       "<style scoped>\n",
       "    .dataframe tbody tr th:only-of-type {\n",
       "        vertical-align: middle;\n",
       "    }\n",
       "\n",
       "    .dataframe tbody tr th {\n",
       "        vertical-align: top;\n",
       "    }\n",
       "\n",
       "    .dataframe thead th {\n",
       "        text-align: right;\n",
       "    }\n",
       "</style>\n",
       "<table border=\"1\" class=\"dataframe\">\n",
       "  <thead>\n",
       "    <tr style=\"text-align: right;\">\n",
       "      <th></th>\n",
       "      <th>Índice</th>\n",
       "      <th>Título</th>\n",
       "      <th>Similitud Coseno</th>\n",
       "    </tr>\n",
       "  </thead>\n",
       "  <tbody>\n",
       "    <tr>\n",
       "      <th>0</th>\n",
       "      <td>38815</td>\n",
       "      <td>Toy Story That Time Forgot</td>\n",
       "      <td>0.610571</td>\n",
       "    </tr>\n",
       "    <tr>\n",
       "      <th>1</th>\n",
       "      <td>10264</td>\n",
       "      <td>Barbie and the Three Musketeers</td>\n",
       "      <td>0.584379</td>\n",
       "    </tr>\n",
       "    <tr>\n",
       "      <th>2</th>\n",
       "      <td>5005</td>\n",
       "      <td>Small Soldiers</td>\n",
       "      <td>0.581319</td>\n",
       "    </tr>\n",
       "    <tr>\n",
       "      <th>3</th>\n",
       "      <td>4722</td>\n",
       "      <td>Child's Play 2</td>\n",
       "      <td>0.539494</td>\n",
       "    </tr>\n",
       "    <tr>\n",
       "      <th>4</th>\n",
       "      <td>11130</td>\n",
       "      <td>Babes in Toyland</td>\n",
       "      <td>0.521613</td>\n",
       "    </tr>\n",
       "    <tr>\n",
       "      <th>5</th>\n",
       "      <td>3946</td>\n",
       "      <td>Toy Story 3</td>\n",
       "      <td>0.505161</td>\n",
       "    </tr>\n",
       "    <tr>\n",
       "      <th>6</th>\n",
       "      <td>44051</td>\n",
       "      <td>Monster High: Great Scarrier Reef</td>\n",
       "      <td>0.481568</td>\n",
       "    </tr>\n",
       "    <tr>\n",
       "      <th>7</th>\n",
       "      <td>10521</td>\n",
       "      <td>Dolls</td>\n",
       "      <td>0.462427</td>\n",
       "    </tr>\n",
       "    <tr>\n",
       "      <th>8</th>\n",
       "      <td>36950</td>\n",
       "      <td>Toy Story of Terror!</td>\n",
       "      <td>0.453366</td>\n",
       "    </tr>\n",
       "    <tr>\n",
       "      <th>9</th>\n",
       "      <td>5044</td>\n",
       "      <td>Toys</td>\n",
       "      <td>0.416538</td>\n",
       "    </tr>\n",
       "  </tbody>\n",
       "</table>\n",
       "</div>"
      ],
      "text/plain": [
       "   Índice                             Título  Similitud Coseno\n",
       "0   38815         Toy Story That Time Forgot          0.610571\n",
       "1   10264    Barbie and the Three Musketeers          0.584379\n",
       "2    5005                     Small Soldiers          0.581319\n",
       "3    4722                     Child's Play 2          0.539494\n",
       "4   11130                   Babes in Toyland          0.521613\n",
       "5    3946                        Toy Story 3          0.505161\n",
       "6   44051  Monster High: Great Scarrier Reef          0.481568\n",
       "7   10521                              Dolls          0.462427\n",
       "8   36950               Toy Story of Terror!          0.453366\n",
       "9    5044                               Toys          0.416538"
      ]
     },
     "execution_count": 24,
     "metadata": {},
     "output_type": "execute_result"
    }
   ],
   "source": [
    "recomendador_coseno('862', cosine_sim_TFIDF,num_recomendaciones=10)"
   ]
  },
  {
   "cell_type": "markdown",
   "metadata": {},
   "source": [
    "No me gusta tanto porque quita peso a los generos"
   ]
  },
  {
   "cell_type": "markdown",
   "metadata": {},
   "source": [
    "### Guardar TFIDF Vectorizer"
   ]
  },
  {
   "cell_type": "code",
   "execution_count": 1,
   "metadata": {},
   "outputs": [],
   "source": [
    "# from scipy.sparse import csr_matrix\n",
    "# from scipy import sparse\n",
    "# cosine_sim_sparseTFIDF = csr_matrix(cosine_sim_TFIDF)\n",
    "\n",
    "# # Guardar la matriz dispersa en un archivo\n",
    "# sparse.save_npz('ModelosNLP/cosine_sim_sparse_matrixTFIDF.npz', cosine_sim_sparseTFIDF)"
   ]
  },
  {
   "cell_type": "markdown",
   "metadata": {},
   "source": [
    "### Cargar Count Vectorizer"
   ]
  },
  {
   "cell_type": "code",
   "execution_count": 1,
   "metadata": {},
   "outputs": [
    {
     "ename": "NameError",
     "evalue": "name 'sparse' is not defined",
     "output_type": "error",
     "traceback": [
      "\u001b[1;31m---------------------------------------------------------------------------\u001b[0m",
      "\u001b[1;31mNameError\u001b[0m                                 Traceback (most recent call last)",
      "Cell \u001b[1;32mIn[1], line 1\u001b[0m\n\u001b[1;32m----> 1\u001b[0m cosine_sim_sparseTFIDF \u001b[38;5;241m=\u001b[39m \u001b[43msparse\u001b[49m\u001b[38;5;241m.\u001b[39mload_npz(\u001b[38;5;124m'\u001b[39m\u001b[38;5;124mModelosNLP/cosine_sim_sparse_matrixTFIDF.npz\u001b[39m\u001b[38;5;124m'\u001b[39m)\n\u001b[0;32m      3\u001b[0m \u001b[38;5;66;03m# Convertirla de nuevo a densa (si es necesario, aunque puedes seguir usándola como dispersa)\u001b[39;00m\n\u001b[0;32m      4\u001b[0m cosine_sim_sparseTFIDF \u001b[38;5;241m=\u001b[39m cosine_sim_sparseTFIDF\u001b[38;5;241m.\u001b[39mtoarray()\n",
      "\u001b[1;31mNameError\u001b[0m: name 'sparse' is not defined"
     ]
    }
   ],
   "source": [
    "cosine_sim_sparseTFIDF = sparse.load_npz('ModelosNLP/cosine_sim_sparse_matrixTFIDF.npz')\n",
    "\n",
    "# Convertirla de nuevo a densa (si es necesario, aunque puedes seguir usándola como dispersa)\n",
    "cosine_sim_sparseTFIDF = cosine_sim_sparseTFIDF.toarray()\n"
   ]
  },
  {
   "cell_type": "code",
   "execution_count": 27,
   "metadata": {},
   "outputs": [
    {
     "name": "stdout",
     "output_type": "stream",
     "text": [
      "Título de la película original: Toy Story\n",
      "Índice de la película: 862\n",
      "\n",
      "Películas recomendadas:\n"
     ]
    },
    {
     "data": {
      "text/html": [
       "<div>\n",
       "<style scoped>\n",
       "    .dataframe tbody tr th:only-of-type {\n",
       "        vertical-align: middle;\n",
       "    }\n",
       "\n",
       "    .dataframe tbody tr th {\n",
       "        vertical-align: top;\n",
       "    }\n",
       "\n",
       "    .dataframe thead th {\n",
       "        text-align: right;\n",
       "    }\n",
       "</style>\n",
       "<table border=\"1\" class=\"dataframe\">\n",
       "  <thead>\n",
       "    <tr style=\"text-align: right;\">\n",
       "      <th></th>\n",
       "      <th>Índice</th>\n",
       "      <th>Título</th>\n",
       "      <th>Similitud Coseno</th>\n",
       "    </tr>\n",
       "  </thead>\n",
       "  <tbody>\n",
       "    <tr>\n",
       "      <th>0</th>\n",
       "      <td>38815</td>\n",
       "      <td>Toy Story That Time Forgot</td>\n",
       "      <td>0.610571</td>\n",
       "    </tr>\n",
       "    <tr>\n",
       "      <th>1</th>\n",
       "      <td>10264</td>\n",
       "      <td>Barbie and the Three Musketeers</td>\n",
       "      <td>0.584379</td>\n",
       "    </tr>\n",
       "    <tr>\n",
       "      <th>2</th>\n",
       "      <td>5005</td>\n",
       "      <td>Small Soldiers</td>\n",
       "      <td>0.581319</td>\n",
       "    </tr>\n",
       "    <tr>\n",
       "      <th>3</th>\n",
       "      <td>4722</td>\n",
       "      <td>Child's Play 2</td>\n",
       "      <td>0.539494</td>\n",
       "    </tr>\n",
       "    <tr>\n",
       "      <th>4</th>\n",
       "      <td>11130</td>\n",
       "      <td>Babes in Toyland</td>\n",
       "      <td>0.521613</td>\n",
       "    </tr>\n",
       "    <tr>\n",
       "      <th>5</th>\n",
       "      <td>3946</td>\n",
       "      <td>Toy Story 3</td>\n",
       "      <td>0.505161</td>\n",
       "    </tr>\n",
       "    <tr>\n",
       "      <th>6</th>\n",
       "      <td>44051</td>\n",
       "      <td>Monster High: Great Scarrier Reef</td>\n",
       "      <td>0.481568</td>\n",
       "    </tr>\n",
       "    <tr>\n",
       "      <th>7</th>\n",
       "      <td>10521</td>\n",
       "      <td>Dolls</td>\n",
       "      <td>0.462427</td>\n",
       "    </tr>\n",
       "    <tr>\n",
       "      <th>8</th>\n",
       "      <td>36950</td>\n",
       "      <td>Toy Story of Terror!</td>\n",
       "      <td>0.453366</td>\n",
       "    </tr>\n",
       "    <tr>\n",
       "      <th>9</th>\n",
       "      <td>5044</td>\n",
       "      <td>Toys</td>\n",
       "      <td>0.416538</td>\n",
       "    </tr>\n",
       "  </tbody>\n",
       "</table>\n",
       "</div>"
      ],
      "text/plain": [
       "   Índice                             Título  Similitud Coseno\n",
       "0   38815         Toy Story That Time Forgot          0.610571\n",
       "1   10264    Barbie and the Three Musketeers          0.584379\n",
       "2    5005                     Small Soldiers          0.581319\n",
       "3    4722                     Child's Play 2          0.539494\n",
       "4   11130                   Babes in Toyland          0.521613\n",
       "5    3946                        Toy Story 3          0.505161\n",
       "6   44051  Monster High: Great Scarrier Reef          0.481568\n",
       "7   10521                              Dolls          0.462427\n",
       "8   36950               Toy Story of Terror!          0.453366\n",
       "9    5044                               Toys          0.416538"
      ]
     },
     "execution_count": 27,
     "metadata": {},
     "output_type": "execute_result"
    }
   ],
   "source": [
    "recomendador_coseno('862', cosine_sim_sparseTFIDF,num_recomendaciones=10)"
   ]
  },
  {
   "cell_type": "markdown",
   "metadata": {},
   "source": [
    "## LDA (sirve mejor para textos mas largos)"
   ]
  },
  {
   "cell_type": "code",
   "execution_count": 14,
   "metadata": {},
   "outputs": [
    {
     "data": {
      "text/plain": [
       "<gensim.corpora.dictionary.Dictionary at 0x245a98d62c0>"
      ]
     },
     "execution_count": 14,
     "metadata": {},
     "output_type": "execute_result"
    }
   ],
   "source": [
    "from gensim.corpora import Dictionary\n",
    "\n",
    "dictionary = Dictionary(clean_keywords)\n",
    "dictionary"
   ]
  },
  {
   "cell_type": "code",
   "execution_count": 15,
   "metadata": {},
   "outputs": [
    {
     "name": "stdout",
     "output_type": "stream",
     "text": [
      "Numero de palabras únicas: 1510\n"
     ]
    }
   ],
   "source": [
    "dictionary.filter_extremes(no_below=20, no_above=0.5)\n",
    "corpus = [dictionary.doc2bow(doc) for doc in clean_keywords]\n",
    "\n",
    "print('Numero de palabras únicas: %d' % len(dictionary))"
   ]
  },
  {
   "cell_type": "code",
   "execution_count": 16,
   "metadata": {},
   "outputs": [],
   "source": [
    "from gensim.models import LdaModel\n",
    "\n",
    "Estimacion = LdaModel(\n",
    "    corpus=corpus,\n",
    "    id2word=dictionary,\n",
    "    num_topics=4,\n",
    "    chunksize=1000,\n",
    "    passes=20,\n",
    "    iterations=400,\n",
    "    alpha='auto',\n",
    "    eta='auto',\n",
    "    random_state=123,\n",
    "    eval_every=None\n",
    ")"
   ]
  },
  {
   "cell_type": "code",
   "execution_count": 17,
   "metadata": {},
   "outputs": [
    {
     "name": "stdout",
     "output_type": "stream",
     "text": [
      "[(0,\n",
      "  '0.049*\"murder\" + 0.023*\"violenc\" + 0.022*\"reveng\" + 0.020*\"short\" + '\n",
      "  '0.018*\"sport\" + 0.016*\"base true stori\" + 0.015*\"kidnap\" + 0.015*\"polic\" + '\n",
      "  '0.013*\"suspens\" + 0.012*\"prison\"'),\n",
      " (1,\n",
      "  '0.068*\"stand comedi\" + 0.045*\"\" + 0.018*\"anim\" + 0.016*\"zombi\" + '\n",
      "  '0.016*\"polit\" + 0.015*\"war\" + 0.013*\"ghost\" + 0.013*\"dog\" + 0.012*\"monster\" '\n",
      "  '+ 0.012*\"found footag\"'),\n",
      " (2,\n",
      "  '0.051*\"music\" + 0.035*\"teenag\" + 0.031*\"sequel\" + 0.030*\"sex\" + '\n",
      "  '0.027*\"femal nuditi\" + 0.025*\"high school\" + 0.024*\"nuditi\" + '\n",
      "  '0.019*\"supernatur\" + 0.017*\"superhero\" + 0.016*\"danc\"'),\n",
      " (3,\n",
      "  '0.154*\"woman director\" + 0.036*\"biographi\" + 0.029*\"base novel\" + '\n",
      "  '0.019*\"love\" + 0.017*\"independ film\" + 0.016*\"christma\" + 0.014*\"famili\" + '\n",
      "  '0.013*\"world war\" + 0.013*\"friendship\" + 0.011*\"lgbt\"')]\n"
     ]
    }
   ],
   "source": [
    "from pprint import pprint\n",
    "\n",
    "pprint(Estimacion.print_topics())"
   ]
  },
  {
   "cell_type": "code",
   "execution_count": 18,
   "metadata": {},
   "outputs": [
    {
     "data": {
      "text/html": [
       "\n",
       "<link rel=\"stylesheet\" type=\"text/css\" href=\"https://cdn.jsdelivr.net/gh/bmabey/pyLDAvis@3.4.0/pyLDAvis/js/ldavis.v1.0.0.css\">\n",
       "\n",
       "\n",
       "<div id=\"ldavis_el2508424983291566725770322489\" style=\"background-color:white;\"></div>\n",
       "<script type=\"text/javascript\">\n",
       "\n",
       "var ldavis_el2508424983291566725770322489_data = {\"mdsDat\": {\"x\": [-0.37878363699013223, 0.25055496045346815, 0.10586790705689654, 0.022360769479767544], \"y\": [0.09461250066147306, 0.29173296778355684, -0.34270715020994397, -0.043638318235085745], \"topics\": [1, 2, 3, 4], \"cluster\": [1, 1, 1, 1], \"Freq\": [33.149569646080565, 29.078807759358693, 21.831207698495163, 15.940414896065585]}, \"tinfo\": {\"Term\": [\"woman director\", \"stand comedi\", \"murder\", \"music\", \"\", \"biographi\", \"base novel\", \"teenag\", \"sequel\", \"sex\", \"violenc\", \"femal nuditi\", \"reveng\", \"high school\", \"nuditi\", \"short\", \"love\", \"sport\", \"independ film\", \"anim\", \"base true stori\", \"christma\", \"supernatur\", \"zombi\", \"kidnap\", \"polic\", \"polit\", \"superhero\", \"famili\", \"war\", \"woman director\", \"biographi\", \"base novel\", \"love\", \"independ film\", \"christma\", \"famili\", \"world war\", \"friendship\", \"lgbt\", \"suicid\", \"romanc\", \"gay\", \"come age\", \"comedi\", \"documentari\", \"alcohol\", \"small town\", \"brazilian\", \"marriag\", \"wed\", \"homosexu\", \"holiday\", \"london england\", \"father son relationship\", \"famili relationship\", \"hospit\", \"relationship\", \"base play music\", \"pari\", \"prostitut\", \"murder\", \"violenc\", \"reveng\", \"short\", \"sport\", \"base true stori\", \"kidnap\", \"polic\", \"suspens\", \"prison\", \"blood\", \"drug\", \"silent film\", \"death\", \"serial killer\", \"movi\", \"gore\", \"remak\", \"dark comedi\", \"rape\", \"new york citi\", \"gangster\", \"fight\", \"terror\", \"demon\", \"assassin\", \"crime\", \"robberi\", \"spi\", \"investig\", \"road trip\", \"desert\", \"stand comedi\", \"\", \"anim\", \"zombi\", \"polit\", \"war\", \"ghost\", \"dog\", \"monster\", \"found footag\", \"martial art\", \"alien\", \"surviv\", \"post apocalypt\", \"dystopia\", \"duringcreditssting\", \"magic\", \"time travel\", \"christian\", \"pregnanc\", \"school\", \"island\", \"forest\", \"soldier\", \"haunt hous\", \"orphan\", \"fairi tale\", \"japan\", \"aftercreditssting\", \"lawyer\", \"car accid\", \"interview\", \"haunt\", \"music\", \"teenag\", \"sequel\", \"sex\", \"femal nuditi\", \"nuditi\", \"high school\", \"supernatur\", \"superhero\", \"danc\", \"drama\", \"base comic\", \"parti\", \"vampir\", \"male nuditi\", \"father daughter relationship\", \"romant comedi\", \"racism\", \"super power\", \"centuri\", \"korean movi\", \"comic\", \"beach\", \"satir\", \"rural set\", \"crimin\", \"summer\", \"nativ american\", \"grief\", \"musician\"], \"Freq\": [5194.0, 1512.0, 1453.0, 826.0, 993.0, 1216.0, 977.0, 575.0, 511.0, 491.0, 681.0, 433.0, 647.0, 400.0, 394.0, 587.0, 649.0, 541.0, 582.0, 397.0, 477.0, 530.0, 306.0, 364.0, 449.0, 440.0, 351.0, 285.0, 459.0, 324.0, 5193.079358320903, 1215.708567496247, 976.0468817966959, 648.6387808618958, 581.8381089388378, 529.8033655570271, 458.66396626596315, 428.34503353102957, 426.2794678306439, 359.1242039793311, 350.6317304473201, 326.9044027542485, 320.4789437793205, 324.5211279776233, 324.13743292788104, 308.860782400788, 233.84288822134667, 232.48431734398187, 223.01807037531367, 216.63486447124671, 214.44657115952296, 209.68983288586492, 201.94993016907438, 203.77728493027104, 200.89714679708, 197.0066988409488, 196.65643773434402, 193.70733717204362, 192.73587875641394, 187.6963614516784, 207.27295093323616, 1452.7417045295558, 680.1701806864241, 646.28135526743, 586.8791261439735, 540.6611587663688, 476.3259245607406, 448.18762084377875, 438.9163817185288, 375.3128206051695, 346.16030890274544, 338.5537213827068, 336.987677936483, 329.822381958991, 343.1224924049366, 317.4129499163184, 307.3633169375644, 301.6931129486665, 264.5279216217491, 259.2459613566094, 245.23086577805537, 219.6826494425131, 212.57027695298427, 213.29439349398314, 209.77533381510258, 211.26987322225105, 195.43055433149985, 194.84939061050702, 189.08325848263334, 187.10288946841376, 188.01054593660626, 196.54294222532914, 188.99397513554223, 1511.6789833834616, 992.1111496192218, 396.603619296738, 363.3693324725982, 350.2590090233938, 323.6018712963033, 292.10620483420496, 285.37338099167005, 275.1724225160939, 260.13855660544687, 246.29655148105752, 237.68310203896007, 240.4731336600528, 215.89210171926126, 213.46065095429265, 209.1557930856215, 195.01950979811343, 171.7472139738179, 174.83632571720054, 172.89055734106273, 162.121308258948, 157.03338878910017, 155.4122038130104, 144.31644225005746, 144.4790347207423, 130.21601289960097, 127.25380563228518, 119.24330802253667, 118.60713658926898, 119.59183899002817, 127.0362032448744, 121.25070326993871, 120.09701961480255, 825.9110924168475, 574.4144550494234, 510.3911006350446, 490.15568921847057, 432.20082268547674, 393.1683566139837, 399.22457647901643, 305.51425822770386, 284.00097387820125, 263.4462305396879, 261.5438701373322, 233.18624431920955, 235.30106858994722, 206.40958716641208, 202.77096924483044, 211.3605647780014, 197.55801647417337, 190.7159014233358, 169.32195003783247, 164.8619202658212, 167.12562675969792, 145.7216943584216, 146.24996120082918, 121.56490238904571, 118.82886969275772, 117.51166337900598, 112.69661841773946, 108.78041012121453, 117.47273893206118, 101.31199011704572], \"Total\": [5194.0, 1512.0, 1453.0, 826.0, 993.0, 1216.0, 977.0, 575.0, 511.0, 491.0, 681.0, 433.0, 647.0, 400.0, 394.0, 587.0, 649.0, 541.0, 582.0, 397.0, 477.0, 530.0, 306.0, 364.0, 449.0, 440.0, 351.0, 285.0, 459.0, 324.0, 5194.192668007656, 1216.8413912157107, 977.1726564382474, 649.7582675180862, 582.9292816165434, 530.9400891986506, 459.7931353539668, 429.4530998114667, 427.39772931057655, 360.2355789656005, 351.76523795551765, 328.02312935219516, 321.58872380811374, 325.6543710772365, 325.28275840727014, 310.01514968359504, 234.96519714331657, 233.60347802051686, 224.13903326799493, 217.73038294942745, 215.55531544259574, 210.791738935965, 203.06089484389454, 204.9108273967028, 202.02496245137013, 198.12304680237958, 197.7836307470173, 194.82594051761615, 193.8563970060287, 188.80372906694717, 208.546838100897, 1453.8275490342012, 681.2633076139774, 647.3667882604815, 587.9944239840036, 541.7497259568621, 477.4667934759326, 449.27895303689905, 440.00028060527643, 376.4000392770874, 347.2391969274009, 339.6482236707201, 338.0824728138199, 330.89854987203506, 344.24440099863523, 318.50178105070444, 308.45313647196576, 302.77825452345866, 265.63332038434316, 260.35311522287935, 246.31761009930568, 220.78240328553304, 213.648354217329, 214.40251650258318, 210.87363007004808, 212.38607897108696, 196.51904169061862, 195.95617152170078, 190.16423472704196, 188.1843985609071, 189.09842793471756, 197.6813118187016, 190.10084117952803, 1512.8509690553096, 993.2497127609473, 397.71424618979677, 364.4993339169291, 351.40195222537585, 324.7354302181647, 293.23833463847757, 286.52700160265243, 276.29847333075196, 261.2751124911647, 247.40686749975933, 238.79076522512688, 241.61682587988022, 217.0079513276311, 214.57156560360315, 210.2502181475473, 196.1318848742353, 172.86199178419025, 175.98366379360763, 174.05507279251498, 163.23860034846655, 158.15061316281475, 156.53405737749722, 145.4221969546372, 145.61708398030942, 131.33996433331376, 128.36875679200978, 120.34390672142094, 119.70709542468971, 120.70487476674498, 128.2356372748612, 122.38392342718613, 121.24566973913325, 826.9865739139744, 575.5042306599479, 511.4842657873065, 491.23147359778415, 433.27393494437797, 394.24046330450193, 400.32207445683326, 306.62288227237264, 285.0762049866942, 264.5437173903072, 262.63984807401897, 234.26192948853708, 236.39364711728797, 207.4899032754016, 203.84359997167732, 212.48240384479536, 198.67579141998002, 191.81620461584797, 170.39412781992507, 165.95058698553868, 168.26635346002416, 146.79016290379874, 147.3494239535884, 122.6544638005606, 119.93413442733849, 118.61780227605627, 113.78224196270406, 109.8606380641674, 118.65706314770613, 102.38543462047174], \"Category\": [\"Default\", \"Default\", \"Default\", \"Default\", \"Default\", \"Default\", \"Default\", \"Default\", \"Default\", \"Default\", \"Default\", \"Default\", \"Default\", \"Default\", \"Default\", \"Default\", \"Default\", \"Default\", \"Default\", \"Default\", \"Default\", \"Default\", \"Default\", \"Default\", \"Default\", \"Default\", \"Default\", \"Default\", \"Default\", \"Default\", \"Topic1\", \"Topic1\", \"Topic1\", \"Topic1\", \"Topic1\", \"Topic1\", \"Topic1\", \"Topic1\", \"Topic1\", \"Topic1\", \"Topic1\", \"Topic1\", \"Topic1\", \"Topic1\", \"Topic1\", \"Topic1\", \"Topic1\", \"Topic1\", \"Topic1\", \"Topic1\", \"Topic1\", \"Topic1\", \"Topic1\", \"Topic1\", \"Topic1\", \"Topic1\", \"Topic1\", \"Topic1\", \"Topic1\", \"Topic1\", \"Topic1\", \"Topic2\", \"Topic2\", \"Topic2\", \"Topic2\", \"Topic2\", \"Topic2\", \"Topic2\", \"Topic2\", \"Topic2\", \"Topic2\", \"Topic2\", \"Topic2\", \"Topic2\", \"Topic2\", \"Topic2\", \"Topic2\", \"Topic2\", \"Topic2\", \"Topic2\", \"Topic2\", \"Topic2\", \"Topic2\", \"Topic2\", \"Topic2\", \"Topic2\", \"Topic2\", \"Topic2\", \"Topic2\", \"Topic2\", \"Topic2\", \"Topic2\", \"Topic2\", \"Topic3\", \"Topic3\", \"Topic3\", \"Topic3\", \"Topic3\", \"Topic3\", \"Topic3\", \"Topic3\", \"Topic3\", \"Topic3\", \"Topic3\", \"Topic3\", \"Topic3\", \"Topic3\", \"Topic3\", \"Topic3\", \"Topic3\", \"Topic3\", \"Topic3\", \"Topic3\", \"Topic3\", \"Topic3\", \"Topic3\", \"Topic3\", \"Topic3\", \"Topic3\", \"Topic3\", \"Topic3\", \"Topic3\", \"Topic3\", \"Topic3\", \"Topic3\", \"Topic3\", \"Topic4\", \"Topic4\", \"Topic4\", \"Topic4\", \"Topic4\", \"Topic4\", \"Topic4\", \"Topic4\", \"Topic4\", \"Topic4\", \"Topic4\", \"Topic4\", \"Topic4\", \"Topic4\", \"Topic4\", \"Topic4\", \"Topic4\", \"Topic4\", \"Topic4\", \"Topic4\", \"Topic4\", \"Topic4\", \"Topic4\", \"Topic4\", \"Topic4\", \"Topic4\", \"Topic4\", \"Topic4\", \"Topic4\", \"Topic4\"], \"logprob\": [30.0, 29.0, 28.0, 27.0, 26.0, 25.0, 24.0, 23.0, 22.0, 21.0, 20.0, 19.0, 18.0, 17.0, 16.0, 15.0, 14.0, 13.0, 12.0, 11.0, 10.0, 9.0, 8.0, 7.0, 6.0, 5.0, 4.0, 3.0, 2.0, 1.0, -1.8737, -3.3257, -3.5453, -3.9539, -4.0626, -4.1563, -4.3005, -4.3689, -4.3737, -4.5451, -4.5691, -4.6391, -4.659, -4.6464, -4.6476, -4.6959, -4.9741, -4.98, -5.0215, -5.0506, -5.0607, -5.0832, -5.1208, -5.1118, -5.126, -5.1456, -5.1473, -5.1624, -5.1675, -5.194, -5.0948, -3.0166, -3.7754, -3.8265, -3.923, -4.005, -4.1317, -4.1926, -4.2135, -4.37, -4.4509, -4.4731, -4.4777, -4.4992, -4.4597, -4.5376, -4.5697, -4.5884, -4.7198, -4.74, -4.7956, -4.9056, -4.9385, -4.9351, -4.9517, -4.9446, -5.0226, -5.0255, -5.0556, -5.0661, -5.0613, -5.0169, -5.0561, -2.6901, -3.1113, -4.0282, -4.1157, -4.1524, -4.2316, -4.334, -4.3573, -4.3937, -4.4499, -4.5046, -4.5402, -4.5285, -4.6363, -4.6477, -4.668, -4.738, -4.8651, -4.8473, -4.8584, -4.9228, -4.9546, -4.965, -5.0391, -5.038, -5.1419, -5.1649, -5.2299, -5.2353, -5.227, -5.1666, -5.2132, -5.2228, -2.9801, -3.3433, -3.4614, -3.5019, -3.6277, -3.7224, -3.7071, -3.9746, -4.0476, -4.1228, -4.13, -4.2448, -4.2358, -4.3668, -4.3845, -4.3431, -4.4106, -4.4458, -4.5648, -4.5915, -4.5779, -4.7149, -4.7113, -4.8962, -4.9189, -4.9301, -4.9719, -5.0073, -4.9304, -5.0784], \"loglift\": [30.0, 29.0, 28.0, 27.0, 26.0, 25.0, 24.0, 23.0, 22.0, 21.0, 20.0, 19.0, 18.0, 17.0, 16.0, 15.0, 14.0, 13.0, 12.0, 11.0, 10.0, 9.0, 8.0, 7.0, 6.0, 5.0, 4.0, 3.0, 2.0, 1.0, 1.1039, 1.1032, 1.103, 1.1024, 1.1023, 1.102, 1.1017, 1.1016, 1.1015, 1.1011, 1.1009, 1.1007, 1.1007, 1.1007, 1.1006, 1.1004, 1.0994, 1.0993, 1.0991, 1.0991, 1.099, 1.0989, 1.0987, 1.0986, 1.0985, 1.0985, 1.0984, 1.0984, 1.0983, 1.0983, 1.098, 1.2344, 1.2336, 1.2335, 1.2333, 1.2331, 1.2328, 1.2327, 1.2327, 1.2323, 1.232, 1.2319, 1.2319, 1.2319, 1.2319, 1.2317, 1.2316, 1.2316, 1.231, 1.2309, 1.2307, 1.2302, 1.2301, 1.23, 1.2299, 1.2299, 1.2296, 1.2295, 1.2295, 1.2294, 1.2294, 1.2294, 1.2293, 1.5211, 1.5207, 1.519, 1.5187, 1.5186, 1.5183, 1.518, 1.5178, 1.5177, 1.5175, 1.5173, 1.5172, 1.5171, 1.5167, 1.5166, 1.5166, 1.5161, 1.5154, 1.5153, 1.5151, 1.515, 1.5147, 1.5146, 1.5142, 1.514, 1.5132, 1.5131, 1.5126, 1.5126, 1.5126, 1.5124, 1.5125, 1.5123, 1.835, 1.8344, 1.8342, 1.8341, 1.8338, 1.8336, 1.8336, 1.8327, 1.8325, 1.8322, 1.8321, 1.8317, 1.8317, 1.8311, 1.831, 1.831, 1.8307, 1.8306, 1.83, 1.8297, 1.8295, 1.829, 1.8288, 1.8274, 1.8271, 1.8269, 1.8267, 1.8264, 1.8263, 1.8258]}, \"token.table\": {\"Topic\": [3, 3, 1, 3, 3, 2, 4, 1, 1, 2, 4, 1, 2, 1, 3, 4, 3, 1, 1, 1, 4, 2, 4, 4, 2, 2, 2, 2, 1, 3, 4, 2, 3, 3, 3, 1, 1, 4, 1, 4, 2, 3, 3, 1, 2, 1, 3, 2, 4, 3, 3, 4, 1, 1, 1, 1, 3, 2, 3, 3, 2, 4, 3, 1, 1, 1, 3, 4, 1, 3, 3, 2, 2, 4, 4, 4, 2, 4, 3, 1, 4, 2, 3, 3, 3, 2, 1, 2, 4, 2, 1, 2, 2, 2, 2, 1, 4, 4, 4, 3, 4, 2, 4, 2, 2, 1, 3, 2, 2, 3, 1, 4, 4, 4, 4, 3, 2, 4, 2, 3, 4, 2, 3, 1, 1, 1, 3], \"Freq\": [0.9987417939870594, 0.9940931201932424, 0.9958921697551325, 0.9966884597719624, 0.998204122189136, 0.9922702569809492, 0.9946131687240336, 0.9987999495989566, 0.995582312375268, 0.9969279675655465, 0.9908420140548806, 0.9993085448754582, 0.9980914851733524, 0.9949181842564966, 0.9903643222654812, 0.9942718672901018, 0.9944104823572644, 0.998229387424729, 0.9979905963642622, 0.9960564820172114, 0.9946170581994885, 0.9951204827371569, 0.9947916563601602, 0.9941646038487105, 0.9948027692247086, 0.9963851234906791, 0.9934737767286732, 0.9942091724965677, 0.9967254836267482, 0.9946706537460297, 0.9975637814341156, 0.9967981989577555, 0.9940536653965804, 0.9926757974702648, 0.9893373058506166, 0.9982750169739785, 0.9943315690904967, 0.9930234042067871, 0.9949265554170473, 0.997059747098469, 0.993458488615425, 0.9901998491369984, 0.9951196557566967, 0.996729675394319, 0.9969653207968573, 0.995059765189212, 0.9957770369961886, 0.9974296221349068, 0.9860348545316397, 0.989726068223192, 0.9888949569919414, 0.9966974730068856, 0.9947754842471757, 0.9962439754994122, 0.9960379393175383, 0.9984058415903102, 0.9886919508017774, 0.9941912370889896, 0.9927245734948229, 0.9888327813344809, 0.997153320830513, 0.992474113606289, 0.9941603454864014, 0.9965700806978911, 0.9955550060078598, 0.9988330005849981, 0.9942289604010021, 0.9958615331960653, 0.9966454706985148, 0.9943135470976339, 0.9953004686739706, 0.9952889554355436, 0.9994307790942942, 0.9988070254764776, 0.9864684403049384, 0.9921660926121263, 0.9964562244368671, 0.9968535363059783, 0.9897977409989757, 0.9957430445313812, 0.9941045491946046, 0.9977266364378213, 0.9960104028549145, 0.9953552332001451, 0.9939382818576469, 0.9964312873132811, 0.9925827784540727, 0.004795085886251558, 0.9957448609856369, 0.9946507677677837, 0.9957606234805192, 0.997615809705549, 0.9978886957359148, 0.9965534839260555, 0.9938777408448383, 0.9968809231403416, 0.996598521565461, 0.9922112713632462, 0.9946641664699233, 0.9924123317289998, 0.9970981203399838, 0.9952848582329737, 0.9974930889733818, 0.9983087867104832, 0.9972845155338923, 0.9931358983431915, 0.9902202209537458, 0.9937061809057259, 0.9986161027482978, 0.9994375063554072, 0.9978245776644524, 0.9931250962433974, 0.9918182167556947, 0.9962248515734785, 0.9979685721177869, 0.9933083059344384, 0.996280448642417, 0.9973862387454164, 0.9958570919002159, 0.9950134105520061, 0.9928193938505816, 0.9981456397257003, 0.9977352941818802, 0.9927846110433313, 0.9997703843342197, 0.9966163946374945, 0.9958865935341576], \"Term\": [\"\", \"aftercreditssting\", \"alcohol\", \"alien\", \"anim\", \"assassin\", \"base comic\", \"base novel\", \"base play music\", \"base true stori\", \"beach\", \"biographi\", \"blood\", \"brazilian\", \"car accid\", \"centuri\", \"christian\", \"christma\", \"come age\", \"comedi\", \"comic\", \"crime\", \"crimin\", \"danc\", \"dark comedi\", \"death\", \"demon\", \"desert\", \"documentari\", \"dog\", \"drama\", \"drug\", \"duringcreditssting\", \"dystopia\", \"fairi tale\", \"famili\", \"famili relationship\", \"father daughter relationship\", \"father son relationship\", \"femal nuditi\", \"fight\", \"forest\", \"found footag\", \"friendship\", \"gangster\", \"gay\", \"ghost\", \"gore\", \"grief\", \"haunt\", \"haunt hous\", \"high school\", \"holiday\", \"homosexu\", \"hospit\", \"independ film\", \"interview\", \"investig\", \"island\", \"japan\", \"kidnap\", \"korean movi\", \"lawyer\", \"lgbt\", \"london england\", \"love\", \"magic\", \"male nuditi\", \"marriag\", \"martial art\", \"monster\", \"movi\", \"murder\", \"music\", \"musician\", \"nativ american\", \"new york citi\", \"nuditi\", \"orphan\", \"pari\", \"parti\", \"polic\", \"polit\", \"post apocalypt\", \"pregnanc\", \"prison\", \"prostitut\", \"prostitut\", \"racism\", \"rape\", \"relationship\", \"remak\", \"reveng\", \"road trip\", \"robberi\", \"romanc\", \"romant comedi\", \"rural set\", \"satir\", \"school\", \"sequel\", \"serial killer\", \"sex\", \"short\", \"silent film\", \"small town\", \"soldier\", \"spi\", \"sport\", \"stand comedi\", \"suicid\", \"summer\", \"super power\", \"superhero\", \"supernatur\", \"surviv\", \"suspens\", \"teenag\", \"terror\", \"time travel\", \"vampir\", \"violenc\", \"war\", \"wed\", \"woman director\", \"world war\", \"zombi\"]}, \"R\": 30, \"lambda.step\": 0.01, \"plot.opts\": {\"xlab\": \"PC1\", \"ylab\": \"PC2\"}, \"topic.order\": [4, 1, 2, 3]};\n",
       "\n",
       "function LDAvis_load_lib(url, callback){\n",
       "  var s = document.createElement('script');\n",
       "  s.src = url;\n",
       "  s.async = true;\n",
       "  s.onreadystatechange = s.onload = callback;\n",
       "  s.onerror = function(){console.warn(\"failed to load library \" + url);};\n",
       "  document.getElementsByTagName(\"head\")[0].appendChild(s);\n",
       "}\n",
       "\n",
       "if(typeof(LDAvis) !== \"undefined\"){\n",
       "   // already loaded: just create the visualization\n",
       "   !function(LDAvis){\n",
       "       new LDAvis(\"#\" + \"ldavis_el2508424983291566725770322489\", ldavis_el2508424983291566725770322489_data);\n",
       "   }(LDAvis);\n",
       "}else if(typeof define === \"function\" && define.amd){\n",
       "   // require.js is available: use it to load d3/LDAvis\n",
       "   require.config({paths: {d3: \"https://d3js.org/d3.v5\"}});\n",
       "   require([\"d3\"], function(d3){\n",
       "      window.d3 = d3;\n",
       "      LDAvis_load_lib(\"https://cdn.jsdelivr.net/gh/bmabey/pyLDAvis@3.4.0/pyLDAvis/js/ldavis.v3.0.0.js\", function(){\n",
       "        new LDAvis(\"#\" + \"ldavis_el2508424983291566725770322489\", ldavis_el2508424983291566725770322489_data);\n",
       "      });\n",
       "    });\n",
       "}else{\n",
       "    // require.js not available: dynamically load d3 & LDAvis\n",
       "    LDAvis_load_lib(\"https://d3js.org/d3.v5.js\", function(){\n",
       "         LDAvis_load_lib(\"https://cdn.jsdelivr.net/gh/bmabey/pyLDAvis@3.4.0/pyLDAvis/js/ldavis.v3.0.0.js\", function(){\n",
       "                 new LDAvis(\"#\" + \"ldavis_el2508424983291566725770322489\", ldavis_el2508424983291566725770322489_data);\n",
       "            })\n",
       "         });\n",
       "}\n",
       "</script>"
      ],
      "text/plain": [
       "PreparedData(topic_coordinates=              x         y  topics  cluster       Freq\n",
       "topic                                                \n",
       "3     -0.378784  0.094613       1        1  33.149570\n",
       "0      0.250555  0.291733       2        1  29.078808\n",
       "1      0.105868 -0.342707       3        1  21.831208\n",
       "2      0.022361 -0.043638       4        1  15.940415, topic_info=                Term         Freq        Total Category  logprob  loglift\n",
       "11    woman director  5194.000000  5194.000000  Default  30.0000  30.0000\n",
       "1493    stand comedi  1512.000000  1512.000000  Default  29.0000  29.0000\n",
       "68            murder  1453.000000  1453.000000  Default  28.0000  28.0000\n",
       "441            music   826.000000   826.000000  Default  27.0000  27.0000\n",
       "218                    993.000000   993.000000  Default  26.0000  26.0000\n",
       "...              ...          ...          ...      ...      ...      ...\n",
       "716           crimin   117.511663   118.617802   Topic4  -4.9301   1.8269\n",
       "791           summer   112.696618   113.782242   Topic4  -4.9719   1.8267\n",
       "581   nativ american   108.780410   109.860638   Topic4  -5.0073   1.8264\n",
       "1357           grief   117.472739   118.657063   Topic4  -4.9304   1.8263\n",
       "450         musician   101.311990   102.385435   Topic4  -5.0784   1.8258\n",
       "\n",
       "[156 rows x 6 columns], token_table=      Topic      Freq               Term\n",
       "term                                    \n",
       "218       3  0.998742                   \n",
       "20        3  0.994093  aftercreditssting\n",
       "109       1  0.995892            alcohol\n",
       "84        3  0.996688              alien\n",
       "264       3  0.998204               anim\n",
       "...     ...       ...                ...\n",
       "266       3  0.997735                war\n",
       "125       1  0.992785                wed\n",
       "11        1  0.999770     woman director\n",
       "478       1  0.996616          world war\n",
       "541       3  0.995887              zombi\n",
       "\n",
       "[127 rows x 3 columns], R=30, lambda_step=0.01, plot_opts={'xlab': 'PC1', 'ylab': 'PC2'}, topic_order=[4, 1, 2, 3])"
      ]
     },
     "execution_count": 18,
     "metadata": {},
     "output_type": "execute_result"
    }
   ],
   "source": [
    "import pyLDAvis\n",
    "import pyLDAvis.gensim_models as gensimvis\n",
    "\n",
    "pyLDAvis.enable_notebook()\n",
    "LDA_visualization = gensimvis.prepare(Estimacion, corpus, dictionary)\n",
    "LDA_visualization"
   ]
  },
  {
   "cell_type": "code",
   "execution_count": 23,
   "metadata": {},
   "outputs": [
    {
     "data": {
      "text/plain": [
       "0.40906015431155235"
      ]
     },
     "execution_count": 23,
     "metadata": {},
     "output_type": "execute_result"
    }
   ],
   "source": [
    "from gensim.models import CoherenceModel\n",
    "\n",
    "coherencemodel = CoherenceModel(model=Estimacion, texts=clean_keywords, dictionary=dictionary)\n",
    "coherencemodel.get_coherence() "
   ]
  },
  {
   "cell_type": "code",
   "execution_count": 24,
   "metadata": {},
   "outputs": [],
   "source": [
    "from gensim.models.ldamulticore import LdaMulticore\n",
    "\n",
    "def calcular_coherencia(dictionary, corpus, texts, start=1, limit=10, step=1):\n",
    " \n",
    "    coherence_values = []\n",
    "    model_list = []\n",
    "    \n",
    "    for num_topics in range(start, limit, step):\n",
    "        model = LdaMulticore(corpus=corpus,\n",
    "                        id2word=dictionary,\n",
    "                        num_topics=num_topics, \n",
    "                        random_state=123,\n",
    "                        passes=20)\n",
    "        model_list.append(model)\n",
    "        coherencemodel = CoherenceModel(model=model, texts=texts, dictionary=dictionary, coherence='c_v')\n",
    "        coherence_values.append(coherencemodel.get_coherence())\n",
    "\n",
    "    return model_list, coherence_values"
   ]
  },
  {
   "cell_type": "code",
   "execution_count": 25,
   "metadata": {},
   "outputs": [],
   "source": [
    "modelos, valores_c = calcular_coherencia(dictionary=dictionary, corpus=corpus, texts=clean_keywords, start=1, limit=10, step=1)\n"
   ]
  },
  {
   "cell_type": "code",
   "execution_count": 26,
   "metadata": {},
   "outputs": [
    {
     "data": {
      "image/png": "[encoded data removed]",
      "text/plain": [
       "<Figure size 640x480 with 1 Axes>"
      ]
     },
     "metadata": {},
     "output_type": "display_data"
    }
   ],
   "source": [
    "\n",
    "# Show graph\n",
    "limit=10; start=1; step=1;\n",
    "x = range(start, limit, step)\n",
    "plt.plot(x, valores_c)\n",
    "plt.xlabel(\"Número de Temas\")\n",
    "plt.ylabel(\"Medida de Coherencia\")\n",
    "plt.show()"
   ]
  },
  {
   "cell_type": "code",
   "execution_count": 28,
   "metadata": {},
   "outputs": [
    {
     "data": {
      "text/html": [
       "\n",
       "<link rel=\"stylesheet\" type=\"text/css\" href=\"https://cdn.jsdelivr.net/gh/bmabey/pyLDAvis@3.4.0/pyLDAvis/js/ldavis.v1.0.0.css\">\n",
       "\n",
       "\n",
       "<div id=\"ldavis_el168923106011114720816918449\" style=\"background-color:white;\"></div>\n",
       "<script type=\"text/javascript\">\n",
       "\n",
       "var ldavis_el168923106011114720816918449_data = {\"mdsDat\": {\"x\": [0.019565335187667662, -0.019565335187667662], \"y\": [0.0, 0.0], \"topics\": [1, 2], \"cluster\": [1, 1], \"Freq\": [52.67918337794653, 47.32081662205347]}, \"tinfo\": {\"Term\": [\"murder\", \"base novel\", \"nuditi\", \"serial killer\", \"war\", \"gangster\", \"aftercreditssting\", \"blood\", \"gay\", \"soldier\", \"bollywood\", \"femal nuditi\", \"robberi\", \"prison\", \"die and death\", \"polit\", \"woman director\", \"friend\", \"zombi\", \"surreal\", \"nativ american\", \"spi\", \"lawyer\", \"lesbian\", \"famili\", \"psychopath\", \"reveng\", \"kidnap\", \"detect\", \"widow\", \"psycho\", \"gangster\", \"serial killer\", \"trainer\", \"marvel comic\", \"radiat\", \"american footbal\", \"psychopath\", \"wall street\", \"sexploit\", \"financi crisi\", \"blood\", \"ozploit\", \"fascism\", \"econom\", \"mobster\", \"sadism\", \"curs\", \"sword and sorceri\", \"surf\", \"maniac\", \"surreal\", \"gambl\", \"frame\", \"argentina\", \"volcano\", \"job\", \"marvel cinemat univers\", \"flashback\", \"murder investig\", \"base novel\", \"marijuana\", \"nuditi\", \"murder\", \"detect\", \"kidnap\", \"report\", \"femal nuditi\", \"short\", \"best friend\", \"death\", \"tortur\", \"doctor\", \"alcohol\", \"supernatur\", \"gore\", \"film noir\", \"polic\", \"independ film\", \"remak\", \"violenc\", \"biographi\", \"woman director\", \"sequel\", \"drug\", \"love\", \"music\", \"sex\", \"suspens\", \"sport\", \"alien\", \"\", \"world war\", \"duringcreditssting\", \"reveng\", \"teenag\", \"martial art\", \"anim\", \"friendship\", \"reunion\", \"transgend\", \"grow\", \"planet\", \"dragon\", \"transsexu\", \"weapon\", \"war\", \"smoke\", \"worker\", \"sing\", \"board school\", \"unsoci\", \"prejudic\", \"korean movi\", \"bollywood\", \"nativ american\", \"irish\", \"die and death\", \"twin\", \"gold\", \"mediev\", \"soccer\", \"uncl\", \"movi serial\", \"sabotag\", \"cavalri\", \"famili secret\", \"new england\", \"base young adult novel\", \"ireland\", \"aftercreditssting\", \"soldier\", \"shakespear\", \"court case\", \"lesbian\", \"polit\", \"gay\", \"robberi\", \"friend\", \"lawyer\", \"spi\", \"zombi\", \"widow\", \"armi\", \"prison\", \"airplan\", \"woman director\", \"famili\", \"hors\", \"reveng\", \"dystopia\", \"new york\", \"independ film\", \"movi\", \"escap\", \"music\", \"\", \"high school\", \"magic\", \"sex\", \"suspens\", \"teenag\", \"sport\", \"duringcreditssting\", \"world war\", \"violenc\", \"love\", \"friendship\", \"murder\", \"prostitut\", \"biographi\", \"suicid\", \"sequel\", \"base novel\", \"femal nuditi\", \"nuditi\"], \"Freq\": [1300.0, 771.0, 680.0, 296.0, 198.0, 256.0, 244.0, 265.0, 263.0, 190.0, 139.0, 584.0, 231.0, 413.0, 132.0, 199.0, 2638.0, 203.0, 238.0, 204.0, 118.0, 194.0, 181.0, 156.0, 266.0, 138.0, 636.0, 284.0, 222.0, 147.0, 22.21242668122782, 214.70762128103854, 247.11963931953198, 19.070442435909193, 45.64913961680167, 17.474914253773903, 55.09406394395917, 112.95886551299378, 14.5045549464556, 37.32005893388154, 13.42410961044511, 214.90555524402126, 21.19212765542227, 24.135225369612286, 27.694778576128492, 46.92577175878503, 58.79532769473089, 69.68619415793783, 34.242262765744925, 30.786758468316243, 36.86259785775231, 162.39013863143748, 77.66473601976708, 17.073121322657904, 22.44531786176884, 26.711524909875997, 23.891400771435908, 10.82468643933557, 118.00025030729668, 14.788571976614557, 594.3873069860292, 77.061399064452, 514.431295769599, 960.9593046333592, 168.6480327197884, 211.06322381518117, 106.82163631306378, 415.3054966111521, 152.43044898087047, 105.29004437975009, 167.05835446354098, 131.437611407614, 133.10339500985086, 213.17690527245674, 114.59808356943392, 171.20814798647942, 245.29796614144243, 300.8572211972896, 1284.2934551903306, 138.41805580728808, 397.5948491139125, 318.0393357113162, 1268.1314926718867, 279.05750678745136, 234.7827399994998, 335.91388123909996, 501.47681946075363, 393.7695106248708, 366.0118562945068, 324.6000870323179, 196.7201440288953, 293.7739682605144, 248.7034363668654, 246.9046123110673, 267.6265639043864, 223.34529024699802, 191.21986226756343, 185.50365254661406, 196.81170318979707, 25.966703239322822, 18.742141103987393, 17.168977627040533, 20.429436839554942, 54.422835755032345, 17.31553002274621, 46.07704044668417, 160.19649343638426, 27.642006868189306, 25.927625972589368, 36.296533940500595, 42.89720303645531, 16.08446404588785, 17.028353139732253, 19.074157366163753, 109.23111622559955, 92.68173358821524, 18.755038063262038, 102.97849501894001, 61.3336388554291, 64.37383671880633, 17.485857279317585, 62.7657675702983, 39.162966388536965, 10.403850170787477, 21.421810013766503, 23.052286908925804, 18.340046539078482, 26.40300797575576, 44.83642293598236, 39.25362025196436, 183.3047196240552, 142.74994666219644, 48.33802254925409, 37.76471344315373, 113.6575988135188, 143.08876617928158, 185.65161494939525, 163.06913620798463, 143.88791398761805, 128.59582681132122, 136.83387441088462, 164.02658263487632, 105.00934388699704, 111.15278704338128, 263.8334738399868, 96.56386586019381, 1370.7427968917843, 174.36890142560992, 76.87407715206028, 368.44025387518116, 167.9009028256296, 173.88441750478572, 1092.5427820340221, 182.19559517694165, 152.079673600871, 468.74573570893995, 305.6391015110739, 196.72998915721698, 135.834377630232, 335.351110386785, 300.2507887384531, 215.32314712799516, 258.45993095906385, 222.19710418197963, 217.6641862025174, 267.45241203730296, 244.62366727061888, 191.60528635423026, 339.71456802588375, 177.36768401808843, 197.80695480665344, 166.0281839700582, 171.12525785843803, 176.86330458105016, 169.57719561010447, 166.46640238538123], \"Total\": [1300.0, 771.0, 680.0, 296.0, 198.0, 256.0, 244.0, 265.0, 263.0, 190.0, 139.0, 584.0, 231.0, 413.0, 132.0, 199.0, 2638.0, 203.0, 238.0, 204.0, 118.0, 194.0, 181.0, 156.0, 266.0, 138.0, 636.0, 284.0, 222.0, 147.0, 25.42675597562202, 256.5583819868593, 296.6705015295195, 22.94398914631814, 55.407676752114966, 21.360483981996676, 67.4110450351026, 138.29876163803277, 17.818067112560975, 45.90761146019169, 16.513140357996, 265.61031243280627, 26.251653674625075, 29.925659051840405, 34.6199953879011, 58.69802246780587, 73.60986487481625, 87.26708203323979, 42.9327738859376, 38.63273724138498, 46.51865903405734, 204.98856047213786, 98.06787593266506, 21.6181290598365, 28.55974602114894, 33.99312858613662, 30.443719969353864, 13.818717853277501, 151.28291703229092, 19.02381488639103, 771.2506115670794, 99.87762342541694, 680.8976981549803, 1300.673872659243, 222.81831344315077, 284.90290315265884, 141.243697894869, 584.8826922212565, 206.5059506123023, 140.4705410242831, 230.1898510796343, 179.34924606742945, 183.10574493283977, 302.364930011458, 156.18212071353508, 243.09007480727865, 363.7912769546351, 463.6676370116588, 2376.8362372243528, 196.96032001666921, 665.0472611512155, 515.8462905179697, 2638.874289563671, 450.1827646458894, 372.69814366410503, 580.5375485097188, 970.2225551696936, 729.1206210116559, 666.2626450329599, 583.0600179913818, 313.55639438995337, 599.4130697715882, 466.3676225693828, 469.1017164930469, 636.0668177795676, 438.6684373749932, 332.609157948001, 311.0585452480541, 388.41698954402733, 31.47706556478996, 22.837847838883896, 21.012636238264534, 25.04777188648082, 67.00089514148958, 21.392752399573205, 57.0200838691873, 198.2775057244764, 34.35495715003507, 32.445568818547684, 45.5259135251108, 53.91276285977415, 20.26462478437446, 21.483334089730963, 24.26779860387123, 139.81747250017077, 118.6433136407787, 24.061213730897077, 132.1270271027447, 78.7074948574143, 82.83185135200466, 22.509637550661115, 80.82017172856199, 50.43140489987228, 13.399979066406175, 27.778480257149333, 29.98294984703025, 23.88815261765722, 34.57179834312115, 58.813749401414945, 51.52881693124123, 244.77465846114353, 190.8447306964436, 63.86005322840626, 49.77174811199423, 156.70756004889046, 199.27589033954155, 263.78934406776926, 231.57799367720492, 203.04909667303718, 181.59790094832917, 194.5334515490668, 238.25372701798153, 147.7872303874381, 158.86297755428333, 413.61615251492657, 137.29937430483648, 2638.874289563671, 266.17575507174996, 107.3636906682986, 636.0668177795676, 265.8136651059299, 277.05205871957287, 2376.8362372243528, 294.9458779848552, 239.135580323982, 970.2225551696936, 599.4130697715882, 343.8395833014748, 215.3715466663008, 729.1206210116559, 666.2626450329599, 438.6684373749932, 583.0600179913818, 469.1017164930469, 466.3676225693828, 665.0472611512155, 580.5375485097188, 388.41698954402733, 1300.673872659243, 347.1030146207629, 515.8462905179697, 317.6527446579729, 450.1827646458894, 771.2506115670794, 584.8826922212565, 680.8976981549803], \"Category\": [\"Default\", \"Default\", \"Default\", \"Default\", \"Default\", \"Default\", \"Default\", \"Default\", \"Default\", \"Default\", \"Default\", \"Default\", \"Default\", \"Default\", \"Default\", \"Default\", \"Default\", \"Default\", \"Default\", \"Default\", \"Default\", \"Default\", \"Default\", \"Default\", \"Default\", \"Default\", \"Default\", \"Default\", \"Default\", \"Default\", \"Topic1\", \"Topic1\", \"Topic1\", \"Topic1\", \"Topic1\", \"Topic1\", \"Topic1\", \"Topic1\", \"Topic1\", \"Topic1\", \"Topic1\", \"Topic1\", \"Topic1\", \"Topic1\", \"Topic1\", \"Topic1\", \"Topic1\", \"Topic1\", \"Topic1\", \"Topic1\", \"Topic1\", \"Topic1\", \"Topic1\", \"Topic1\", \"Topic1\", \"Topic1\", \"Topic1\", \"Topic1\", \"Topic1\", \"Topic1\", \"Topic1\", \"Topic1\", \"Topic1\", \"Topic1\", \"Topic1\", \"Topic1\", \"Topic1\", \"Topic1\", \"Topic1\", \"Topic1\", \"Topic1\", \"Topic1\", \"Topic1\", \"Topic1\", \"Topic1\", \"Topic1\", \"Topic1\", \"Topic1\", \"Topic1\", \"Topic1\", \"Topic1\", \"Topic1\", \"Topic1\", \"Topic1\", \"Topic1\", \"Topic1\", \"Topic1\", \"Topic1\", \"Topic1\", \"Topic1\", \"Topic1\", \"Topic1\", \"Topic1\", \"Topic1\", \"Topic1\", \"Topic1\", \"Topic1\", \"Topic1\", \"Topic1\", \"Topic2\", \"Topic2\", \"Topic2\", \"Topic2\", \"Topic2\", \"Topic2\", \"Topic2\", \"Topic2\", \"Topic2\", \"Topic2\", \"Topic2\", \"Topic2\", \"Topic2\", \"Topic2\", \"Topic2\", \"Topic2\", \"Topic2\", \"Topic2\", \"Topic2\", \"Topic2\", \"Topic2\", \"Topic2\", \"Topic2\", \"Topic2\", \"Topic2\", \"Topic2\", \"Topic2\", \"Topic2\", \"Topic2\", \"Topic2\", \"Topic2\", \"Topic2\", \"Topic2\", \"Topic2\", \"Topic2\", \"Topic2\", \"Topic2\", \"Topic2\", \"Topic2\", \"Topic2\", \"Topic2\", \"Topic2\", \"Topic2\", \"Topic2\", \"Topic2\", \"Topic2\", \"Topic2\", \"Topic2\", \"Topic2\", \"Topic2\", \"Topic2\", \"Topic2\", \"Topic2\", \"Topic2\", \"Topic2\", \"Topic2\", \"Topic2\", \"Topic2\", \"Topic2\", \"Topic2\", \"Topic2\", \"Topic2\", \"Topic2\", \"Topic2\", \"Topic2\", \"Topic2\", \"Topic2\", \"Topic2\", \"Topic2\", \"Topic2\", \"Topic2\", \"Topic2\", \"Topic2\", \"Topic2\", \"Topic2\", \"Topic2\", \"Topic2\"], \"logprob\": [30.0, 29.0, 28.0, 27.0, 26.0, 25.0, 24.0, 23.0, 22.0, 21.0, 20.0, 19.0, 18.0, 17.0, 16.0, 15.0, 14.0, 13.0, 12.0, 11.0, 10.0, 9.0, 8.0, 7.0, 6.0, 5.0, 4.0, 3.0, 2.0, 1.0, -7.7913, -5.5227, -5.3821, -7.9438, -7.071, -8.0312, -6.8829, -6.165, -8.2175, -7.2725, -8.2949, -5.5218, -7.8384, -7.7083, -7.5707, -7.0434, -6.8179, -6.648, -7.3585, -7.4649, -7.2848, -5.802, -6.5396, -8.0545, -7.7809, -7.6069, -7.7185, -8.5102, -6.1213, -8.1981, -4.5045, -6.5474, -4.6489, -4.0241, -5.7642, -5.5398, -6.2208, -4.863, -5.8653, -6.2353, -5.7736, -6.0135, -6.0009, -5.5299, -6.1506, -5.7491, -5.3895, -5.1853, -3.734, -5.9617, -4.9066, -5.1298, -3.7467, -5.2606, -5.4333, -5.0751, -4.6744, -4.9162, -4.9893, -5.1094, -5.6102, -5.2092, -5.3757, -5.383, -5.3024, -5.4833, -5.6386, -5.6689, -5.6097, -7.5279, -7.8539, -7.9416, -7.7677, -6.7879, -7.9331, -6.9544, -5.7083, -7.4654, -7.5294, -7.193, -7.0259, -8.0069, -7.9498, -7.8364, -6.0912, -6.2555, -7.8533, -6.1502, -6.6684, -6.62, -7.9233, -6.6453, -7.117, -8.4425, -7.7203, -7.6469, -7.8756, -7.5112, -6.9817, -7.1147, -5.5736, -5.8236, -6.9065, -7.1533, -6.0515, -5.8212, -5.5608, -5.6905, -5.8157, -5.928, -5.8659, -5.6847, -6.1307, -6.0738, -5.2094, -6.2145, -3.5616, -5.6235, -6.4425, -4.8754, -5.6613, -5.6263, -3.7885, -5.5796, -5.7603, -4.6347, -5.0623, -5.5029, -5.8733, -4.9695, -5.0801, -5.4126, -5.23, -5.3811, -5.4018, -5.1958, -5.285, -5.5293, -4.9566, -5.6065, -5.4974, -5.6726, -5.6423, -5.6093, -5.6514, -5.6699], \"loglift\": [30.0, 29.0, 28.0, 27.0, 26.0, 25.0, 24.0, 23.0, 22.0, 21.0, 20.0, 19.0, 18.0, 17.0, 16.0, 15.0, 14.0, 13.0, 12.0, 11.0, 10.0, 9.0, 8.0, 7.0, 6.0, 5.0, 4.0, 3.0, 2.0, 1.0, 0.5058, 0.4629, 0.4582, 0.456, 0.4472, 0.4402, 0.4392, 0.4386, 0.4352, 0.4338, 0.4338, 0.4291, 0.4269, 0.4259, 0.4178, 0.4171, 0.4162, 0.416, 0.4148, 0.4139, 0.4083, 0.408, 0.4077, 0.4049, 0.4, 0.3999, 0.3986, 0.3968, 0.3925, 0.3891, 0.3805, 0.3816, 0.3606, 0.3382, 0.3624, 0.341, 0.3616, 0.2986, 0.3373, 0.3527, 0.3204, 0.3301, 0.322, 0.2914, 0.3314, 0.2904, 0.2468, 0.2084, 0.0254, 0.2882, 0.1265, 0.1573, -0.0919, 0.1627, 0.1788, 0.0939, -0.019, 0.0249, 0.0419, 0.0553, 0.1748, -0.0722, 0.0122, -0.0009, -0.2248, -0.0341, 0.0874, 0.124, -0.0389, 0.5558, 0.5506, 0.5462, 0.5444, 0.5403, 0.5368, 0.5351, 0.535, 0.5308, 0.524, 0.5217, 0.5197, 0.5172, 0.5158, 0.5074, 0.5013, 0.5013, 0.4991, 0.499, 0.4988, 0.4961, 0.4957, 0.4954, 0.4953, 0.4951, 0.4884, 0.4854, 0.4839, 0.4787, 0.4769, 0.4761, 0.459, 0.4579, 0.4697, 0.4721, 0.427, 0.417, 0.3969, 0.3975, 0.4038, 0.4031, 0.3964, 0.3749, 0.4065, 0.3911, 0.2986, 0.3963, 0.0932, 0.3252, 0.4142, 0.2022, 0.2888, 0.2824, -0.029, 0.2665, 0.2956, 0.0208, 0.0747, 0.1899, 0.2873, -0.0284, -0.0488, 0.0366, -0.0653, 0.001, -0.0138, -0.1627, -0.116, 0.0416, -0.5943, 0.0768, -0.2103, 0.0994, -0.219, -0.7244, -0.4899, -0.6604]}, \"token.table\": {\"Topic\": [1, 2, 1, 2, 1, 2, 1, 2, 1, 2, 1, 2, 1, 2, 1, 2, 1, 2, 1, 2, 1, 2, 1, 2, 1, 2, 1, 2, 1, 2, 1, 2, 1, 2, 1, 2, 1, 2, 1, 2, 1, 2, 1, 2, 1, 2, 1, 2, 1, 2, 1, 2, 1, 2, 1, 2, 1, 2, 1, 2, 1, 2, 1, 2, 1, 2, 1, 2, 1, 2, 1, 2, 1, 2, 1, 2, 1, 2, 1, 2, 1, 2, 1, 2, 1, 2, 1, 2, 1, 2, 1, 2, 1, 2, 1, 2, 1, 2, 1, 2, 1, 2, 1, 2, 1, 2, 1, 2, 1, 2, 1, 2, 1, 2, 1, 2, 1, 2, 1, 2, 1, 2, 1, 2, 1, 2, 1, 2, 1, 2, 1, 2, 1, 2, 1, 2, 1, 2, 1, 2, 1, 2, 1, 2, 1, 2, 1, 2, 1, 2, 1, 2, 1, 2, 1, 2, 1, 2, 1, 2, 1, 2, 1, 2, 1, 2, 1, 2, 1, 2, 1, 2, 1, 2, 1, 2, 1, 2, 1, 2, 1, 2, 1, 2, 1, 2, 1, 2, 1, 2, 1, 2, 1, 2, 1, 2, 1, 2, 1, 2, 1, 2, 1, 2, 1, 2, 1, 2, 1, 2, 1, 2, 1, 2, 1, 2, 1, 2, 1, 2, 1, 2, 1, 2, 1, 2, 1, 2, 1, 2, 1, 2, 1, 2, 1, 2, 1, 2, 1, 2, 1, 2, 1, 2, 1, 2, 1, 2, 1, 2, 1, 2], \"Freq\": [0.4904797956975335, 0.510499379195392, 0.24920880447141294, 0.7476264134142389, 0.2986175298145969, 0.7064853754150219, 0.7044467755963909, 0.2943463052961446, 0.6282761363654463, 0.3731386190596813, 0.815890036586143, 0.17801237161879485, 0.5979581748885054, 0.40506844105350365, 0.7703149735193252, 0.21008590186890688, 0.3021471757546433, 0.6987153439326126, 0.7701776712929542, 0.22949738690042573, 0.2380395765018713, 0.7651272101845863, 0.7474876884104026, 0.24916256280346752, 0.6164627057426176, 0.383835269613328, 0.8094565230948644, 0.19201061710622366, 0.20403332006209265, 0.7975847966063622, 0.22171763976038214, 0.7795878301252147, 0.23346602104573563, 0.7671026405788457, 0.24110063349589653, 0.7634853394036724, 0.802135219478717, 0.20626334215167008, 0.7254881099958932, 0.27368713131581596, 0.758465484225641, 0.24234991803659534, 0.21948575273285306, 0.7795528459132367, 0.7263562377509359, 0.27306625479358493, 0.19402725847986307, 0.8059593813778927, 0.6305370820730307, 0.37027283968543934, 0.5265382566632776, 0.47324491084715636, 0.36867931511702323, 0.6320216830577541, 0.8087811591617186, 0.20219528979042964, 0.36381035344941975, 0.6356226864863426, 0.34563628823068654, 0.6537034146971681, 0.2511705319382892, 0.7535115958148677, 0.8019873500003676, 0.2004968375000919, 0.7095439915035283, 0.29065657483277063, 0.6734630968915496, 0.32436181809470555, 0.7872518320662814, 0.18167349970760338, 0.7799955362760042, 0.21813434489074693, 0.7863770242533916, 0.23128736007452697, 0.29057011809811506, 0.7091880848496368, 0.5071868772559701, 0.49431411387383883, 0.7953674866329931, 0.20394038118794694, 0.8380158868128975, 0.16370542905182184, 0.2956904884678028, 0.7051080878847605, 0.21730771081653932, 0.7726496384588064, 0.7034429527226419, 0.2961865064095334, 0.1903616449951149, 0.8090369912292383, 0.42752494808345554, 0.5729415970914336, 0.2794240754324044, 0.7171884602765046, 0.5402139112030045, 0.4598549882748318, 0.23287940058884918, 0.7568580519137598, 0.20780331598898044, 0.7896526007581256, 0.7883399277144703, 0.2299324789167205, 0.7406031938078931, 0.2597376129942374, 0.20603434541451954, 0.7829305125751742, 0.2918535936991932, 0.7103606337206779, 0.2743964617060251, 0.727469689174113, 0.5787739326466237, 0.4220226592214964, 0.3714511096674852, 0.6314668864347248, 0.7953797630518858, 0.2149675035275367, 0.7709434541912115, 0.23028181099218006, 0.5742475678611961, 0.4239209794158568, 0.7960217522923835, 0.2170968415342864, 0.8302098679537964, 0.18048040607691226, 0.22212707729064027, 0.7552320627881769, 0.8007084059054649, 0.20443618874182082, 0.3831211365693413, 0.6170623615541604, 0.22388094676364215, 0.7462698225454738, 0.738847777448796, 0.26140295976336175, 0.7884853847442804, 0.21026276926514145, 0.5163763688346477, 0.4833942454759476, 0.2191442501237051, 0.7838621254424836, 0.23140248362555263, 0.7520580717830461, 0.37177128542565624, 0.6280408122724679, 0.7548857947277237, 0.2437958014101209, 0.7999496054718511, 0.19046419177901217, 0.19961855380432778, 0.7984742152173111, 0.6491718980861962, 0.3515449149104651, 0.2810174372051878, 0.7175980985775331, 0.1861908390612424, 0.7913110660102801, 0.36265508270880886, 0.6382729455675036, 0.48976814616761033, 0.5099350698333355, 0.8652303117665725, 0.11798595160453261, 0.8170716690562506, 0.18076806837527667, 0.7958621169037258, 0.18726167456558251, 0.7006487397477864, 0.29955272206608263, 0.7575559235190983, 0.24071870466962, 0.1906149729125818, 0.8259982159545212, 0.4213393821352851, 0.5785555694991975, 0.297955772499604, 0.7038665350352964, 0.21599453765854534, 0.7559808818049087, 0.8015230037487183, 0.20377703485136908, 0.6197482931614662, 0.3798457280667051, 0.832573507398149, 0.16853714724658886, 0.5403769810450902, 0.45945758540635845, 0.8059665668313885, 0.19604592166168908, 0.25054786507573523, 0.7516435952272056, 0.7360562712566444, 0.2614936753148605, 0.1976896080302893, 0.7907584321211572, 0.2037551660865004, 0.8150206643460016, 0.22271667598596265, 0.7795083659508694, 0.2515133628517546, 0.7493002268291854, 0.2981492362272243, 0.7042490579849953, 0.5574040235508034, 0.44249304023417624, 0.4785099532625269, 0.5225832384314438, 0.7363198775545493, 0.2689168248460093, 0.8024282567995602, 0.20707825981924136, 0.7902880025445084, 0.20976780314453, 0.5493329135717853, 0.45027287997687315, 0.7919357852425305, 0.20963006079949337, 0.5083566105973787, 0.4901196021454548, 0.7304184593602824, 0.2676342446510958, 0.8281035995455465, 0.17433759990432557, 0.17514785229410143, 0.8319522983969818, 0.1869792126458586, 0.794661653744899, 0.21598959579131602, 0.7750214907806046, 0.21811805603749618, 0.77332765322385, 0.19738830807685614, 0.7895532323074246, 0.5984537088552937, 0.40147522679488296, 0.7942781710010469, 0.2059239702595307, 0.8418421541035527, 0.16836843082071054, 0.19165058517936098, 0.8069498323341515, 0.19291448299577502, 0.8067332925277865, 0.29095883241922504, 0.7104808698608983, 0.480507921508326, 0.5195397163942547, 0.21574594790270443, 0.801342092210045, 0.533913565071631, 0.4674423983358055, 0.31059325252198494, 0.6883418028865612], \"Term\": [\"\", \"\", \"aftercreditssting\", \"aftercreditssting\", \"airplan\", \"airplan\", \"alcohol\", \"alcohol\", \"alien\", \"alien\", \"american footbal\", \"american footbal\", \"anim\", \"anim\", \"argentina\", \"argentina\", \"armi\", \"armi\", \"base novel\", \"base novel\", \"base young adult novel\", \"base young adult novel\", \"best friend\", \"best friend\", \"biographi\", \"biographi\", \"blood\", \"blood\", \"board school\", \"board school\", \"bollywood\", \"bollywood\", \"cavalri\", \"cavalri\", \"court case\", \"court case\", \"curs\", \"curs\", \"death\", \"death\", \"detect\", \"detect\", \"die and death\", \"die and death\", \"doctor\", \"doctor\", \"dragon\", \"dragon\", \"drug\", \"drug\", \"duringcreditssting\", \"duringcreditssting\", \"dystopia\", \"dystopia\", \"econom\", \"econom\", \"escap\", \"escap\", \"famili\", \"famili\", \"famili secret\", \"famili secret\", \"fascism\", \"fascism\", \"femal nuditi\", \"femal nuditi\", \"film noir\", \"film noir\", \"financi crisi\", \"financi crisi\", \"flashback\", \"flashback\", \"frame\", \"frame\", \"friend\", \"friend\", \"friendship\", \"friendship\", \"gambl\", \"gambl\", \"gangster\", \"gangster\", \"gay\", \"gay\", \"gold\", \"gold\", \"gore\", \"gore\", \"grow\", \"grow\", \"high school\", \"high school\", \"hors\", \"hors\", \"independ film\", \"independ film\", \"ireland\", \"ireland\", \"irish\", \"irish\", \"job\", \"job\", \"kidnap\", \"kidnap\", \"korean movi\", \"korean movi\", \"lawyer\", \"lawyer\", \"lesbian\", \"lesbian\", \"love\", \"love\", \"magic\", \"magic\", \"maniac\", \"maniac\", \"marijuana\", \"marijuana\", \"martial art\", \"martial art\", \"marvel cinemat univers\", \"marvel cinemat univers\", \"marvel comic\", \"marvel comic\", \"mediev\", \"mediev\", \"mobster\", \"mobster\", \"movi\", \"movi\", \"movi serial\", \"movi serial\", \"murder\", \"murder\", \"murder investig\", \"murder investig\", \"music\", \"music\", \"nativ american\", \"nativ american\", \"new england\", \"new england\", \"new york\", \"new york\", \"nuditi\", \"nuditi\", \"ozploit\", \"ozploit\", \"planet\", \"planet\", \"polic\", \"polic\", \"polit\", \"polit\", \"prejudic\", \"prejudic\", \"prison\", \"prison\", \"prostitut\", \"prostitut\", \"psycho\", \"psycho\", \"psychopath\", \"psychopath\", \"radiat\", \"radiat\", \"remak\", \"remak\", \"report\", \"report\", \"reunion\", \"reunion\", \"reveng\", \"reveng\", \"robberi\", \"robberi\", \"sabotag\", \"sabotag\", \"sadism\", \"sadism\", \"sequel\", \"sequel\", \"serial killer\", \"serial killer\", \"sex\", \"sex\", \"sexploit\", \"sexploit\", \"shakespear\", \"shakespear\", \"short\", \"short\", \"sing\", \"sing\", \"smoke\", \"smoke\", \"soccer\", \"soccer\", \"soldier\", \"soldier\", \"spi\", \"spi\", \"sport\", \"sport\", \"suicid\", \"suicid\", \"supernatur\", \"supernatur\", \"surf\", \"surf\", \"surreal\", \"surreal\", \"suspens\", \"suspens\", \"sword and sorceri\", \"sword and sorceri\", \"teenag\", \"teenag\", \"tortur\", \"tortur\", \"trainer\", \"trainer\", \"transgend\", \"transgend\", \"transsexu\", \"transsexu\", \"twin\", \"twin\", \"uncl\", \"uncl\", \"unsoci\", \"unsoci\", \"violenc\", \"violenc\", \"volcano\", \"volcano\", \"wall street\", \"wall street\", \"war\", \"war\", \"weapon\", \"weapon\", \"widow\", \"widow\", \"woman director\", \"woman director\", \"worker\", \"worker\", \"world war\", \"world war\", \"zombi\", \"zombi\"]}, \"R\": 30, \"lambda.step\": 0.01, \"plot.opts\": {\"xlab\": \"PC1\", \"ylab\": \"PC2\"}, \"topic.order\": [1, 2]};\n",
       "\n",
       "function LDAvis_load_lib(url, callback){\n",
       "  var s = document.createElement('script');\n",
       "  s.src = url;\n",
       "  s.async = true;\n",
       "  s.onreadystatechange = s.onload = callback;\n",
       "  s.onerror = function(){console.warn(\"failed to load library \" + url);};\n",
       "  document.getElementsByTagName(\"head\")[0].appendChild(s);\n",
       "}\n",
       "\n",
       "if(typeof(LDAvis) !== \"undefined\"){\n",
       "   // already loaded: just create the visualization\n",
       "   !function(LDAvis){\n",
       "       new LDAvis(\"#\" + \"ldavis_el168923106011114720816918449\", ldavis_el168923106011114720816918449_data);\n",
       "   }(LDAvis);\n",
       "}else if(typeof define === \"function\" && define.amd){\n",
       "   // require.js is available: use it to load d3/LDAvis\n",
       "   require.config({paths: {d3: \"https://d3js.org/d3.v5\"}});\n",
       "   require([\"d3\"], function(d3){\n",
       "      window.d3 = d3;\n",
       "      LDAvis_load_lib(\"https://cdn.jsdelivr.net/gh/bmabey/pyLDAvis@3.4.0/pyLDAvis/js/ldavis.v3.0.0.js\", function(){\n",
       "        new LDAvis(\"#\" + \"ldavis_el168923106011114720816918449\", ldavis_el168923106011114720816918449_data);\n",
       "      });\n",
       "    });\n",
       "}else{\n",
       "    // require.js not available: dynamically load d3 & LDAvis\n",
       "    LDAvis_load_lib(\"https://d3js.org/d3.v5.js\", function(){\n",
       "         LDAvis_load_lib(\"https://cdn.jsdelivr.net/gh/bmabey/pyLDAvis@3.4.0/pyLDAvis/js/ldavis.v3.0.0.js\", function(){\n",
       "                 new LDAvis(\"#\" + \"ldavis_el168923106011114720816918449\", ldavis_el168923106011114720816918449_data);\n",
       "            })\n",
       "         });\n",
       "}\n",
       "</script>"
      ],
      "text/plain": [
       "PreparedData(topic_coordinates=              x    y  topics  cluster       Freq\n",
       "topic                                           \n",
       "0      0.019565  0.0       1        1  52.679183\n",
       "1     -0.019565  0.0       2        1  47.320817, topic_info=              Term         Freq        Total Category  logprob  loglift\n",
       "68          murder  1300.000000  1300.000000  Default  30.0000  30.0000\n",
       "24      base novel   771.000000   771.000000  Default  29.0000  29.0000\n",
       "48          nuditi   680.000000   680.000000  Default  28.0000  28.0000\n",
       "606  serial killer   296.000000   296.000000  Default  27.0000  27.0000\n",
       "266            war   198.000000   198.000000  Default  26.0000  26.0000\n",
       "..             ...          ...          ...      ...      ...      ...\n",
       "82          suicid   166.028184   317.652745   Topic2  -5.6726   0.0994\n",
       "323         sequel   171.125258   450.182765   Topic2  -5.6423  -0.2190\n",
       "24      base novel   176.863305   771.250612   Topic2  -5.6093  -0.7244\n",
       "42    femal nuditi   169.577196   584.882692   Topic2  -5.6514  -0.4899\n",
       "48          nuditi   166.466402   680.897698   Topic2  -5.6699  -0.6604\n",
       "\n",
       "[176 rows x 6 columns], token_table=      Topic      Freq               Term\n",
       "term                                    \n",
       "218       1  0.490480                   \n",
       "218       2  0.510499                   \n",
       "20        1  0.249209  aftercreditssting\n",
       "20        2  0.747626  aftercreditssting\n",
       "241       1  0.298618            airplan\n",
       "...     ...       ...                ...\n",
       "105       2  0.801342             worker\n",
       "478       1  0.533914          world war\n",
       "478       2  0.467442          world war\n",
       "541       1  0.310593              zombi\n",
       "541       2  0.688342              zombi\n",
       "\n",
       "[252 rows x 3 columns], R=30, lambda_step=0.01, plot_opts={'xlab': 'PC1', 'ylab': 'PC2'}, topic_order=[1, 2])"
      ]
     },
     "execution_count": 28,
     "metadata": {},
     "output_type": "execute_result"
    }
   ],
   "source": [
    "lda_model_opt = LdaMulticore(corpus = corpus,\n",
    "    id2word = dictionary,\n",
    "    num_topics = 2,\n",
    "    random_state=123)\n",
    "pyLDAvis.enable_notebook()\n",
    "LDA_visualization = gensimvis.prepare(lda_model_opt, corpus, dictionary)\n",
    "LDA_visualization"
   ]
  },
  {
   "cell_type": "code",
   "execution_count": 29,
   "metadata": {},
   "outputs": [],
   "source": [
    "def perplejidad_ntemas(dictionary, corpus, texts, start=1, limit=10, step=1):\n",
    " \n",
    "    perplejidad_values = []\n",
    "    model_list = []\n",
    "    \n",
    "    for num_topics in range(start, limit, step):\n",
    "        model = LdaMulticore(corpus=corpus,\n",
    "                        id2word=dictionary,\n",
    "                        num_topics=num_topics, \n",
    "                        random_state=123,\n",
    "                        passes=20)\n",
    "        model_list.append(model)\n",
    "        perplejidad_values.append(np.exp2(-model.log_perplexity(corpus)))\n",
    "\n",
    "    return model_list, perplejidad_values"
   ]
  },
  {
   "cell_type": "code",
   "execution_count": 31,
   "metadata": {},
   "outputs": [],
   "source": [
    "modelos, valores_p = perplejidad_ntemas(dictionary=dictionary, corpus=corpus, texts=clean_keywords, start=1, limit=10, step=1)\n"
   ]
  },
  {
   "cell_type": "code",
   "execution_count": 32,
   "metadata": {},
   "outputs": [
    {
     "data": {
      "image/png": "[encoded data removed]",
      "text/plain": [
       "<Figure size 640x480 with 1 Axes>"
      ]
     },
     "metadata": {},
     "output_type": "display_data"
    }
   ],
   "source": [
    "import matplotlib.pyplot as plt\n",
    "# Show graph\n",
    "limit=10; start=1; step=1;\n",
    "x = range(start, limit, step)\n",
    "plt.plot(x, valores_p)\n",
    "plt.xlabel(\"Número de Temas\")\n",
    "plt.ylabel(\"Medida de Perplejidad\")\n",
    "\n",
    "plt.show()"
   ]
  },
  {
   "cell_type": "code",
   "execution_count": 19,
   "metadata": {},
   "outputs": [
    {
     "name": "stdout",
     "output_type": "stream",
     "text": [
      "[(0,\n",
      "  '0.032*\"murder\" + 0.028*\"biographi\" + 0.023*\"base novel\" + 0.015*\"violenc\" + '\n",
      "  '0.014*\"reveng\" + 0.014*\"independ film\" + 0.013*\"short\" + 0.012*\"sport\" + '\n",
      "  '0.011*\"sex\" + 0.010*\"base true stori\"'),\n",
      " (1,\n",
      "  '0.038*\"\" + 0.018*\"sequel\" + 0.016*\"world war\" + 0.015*\"anim\" + '\n",
      "  '0.014*\"zombi\" + 0.014*\"lgbt\" + 0.013*\"polit\" + 0.012*\"war\" + 0.012*\"come '\n",
      "  'age\" + 0.012*\"comedi\"'),\n",
      " (2,\n",
      "  '0.174*\"woman director\" + 0.051*\"stand comedi\" + 0.026*\"music\" + '\n",
      "  '0.022*\"love\" + 0.018*\"teenag\" + 0.018*\"christma\" + 0.015*\"famili\" + '\n",
      "  '0.014*\"friendship\" + 0.012*\"high school\" + 0.010*\"documentari\"')]\n"
     ]
    }
   ],
   "source": [
    "Estimacion = LdaModel(\n",
    "    corpus=corpus,\n",
    "    id2word=dictionary,\n",
    "    num_topics=3,\n",
    "    chunksize=1000,\n",
    "    passes=20,\n",
    "    iterations=400,\n",
    "    alpha='auto',\n",
    "    eta='auto',\n",
    "    random_state=123,\n",
    "    eval_every=None\n",
    ")\n",
    "\n",
    "\n",
    "pprint(Estimacion.print_topics())"
   ]
  },
  {
   "cell_type": "markdown",
   "metadata": {},
   "source": [
    "### Guardar LDA"
   ]
  },
  {
   "cell_type": "code",
   "execution_count": 20,
   "metadata": {},
   "outputs": [],
   "source": [
    "Estimacion.save('ModelosNLP/lda_model_estimacion.pkl')"
   ]
  },
  {
   "cell_type": "markdown",
   "metadata": {},
   "source": [
    "### Guardar LDA"
   ]
  },
  {
   "cell_type": "code",
   "execution_count": 23,
   "metadata": {},
   "outputs": [],
   "source": [
    "Estimacion_Pickle = LdaModel.load('ModelosNLP/lda_model_estimacion.pkl')"
   ]
  },
  {
   "cell_type": "code",
   "execution_count": 21,
   "metadata": {},
   "outputs": [
    {
     "data": {
      "text/plain": [
       "682"
      ]
     },
     "execution_count": 21,
     "metadata": {},
     "output_type": "execute_result"
    }
   ],
   "source": [
    "df_keywords_title[df_keywords_title['id']=='862'].index[0]"
   ]
  },
  {
   "cell_type": "code",
   "execution_count": 24,
   "metadata": {},
   "outputs": [
    {
     "data": {
      "text/plain": [
       "[(0, 0.29471806), (1, 0.3061052), (2, 0.39917675)]"
      ]
     },
     "execution_count": 24,
     "metadata": {},
     "output_type": "execute_result"
    }
   ],
   "source": [
    "l=[Estimacion_Pickle.get_document_topics(item) for item in corpus]\n",
    "#'La venganza del metegol'\n",
    "l[682]"
   ]
  },
  {
   "cell_type": "code",
   "execution_count": 25,
   "metadata": {},
   "outputs": [],
   "source": [
    "def recomendador_LDA(id_movie, l, num_recomendaciones=5, df=df_keywords_title):\n",
    "    # Crear una Serie que contiene como índice el 'id' y el valor correspondiente al índice de la película\n",
    "    indices = pd.Series(df.index, index=df['id'])\n",
    "    \n",
    "    # Verificar si el id_movie está en los índices\n",
    "    if id_movie not in indices.index:\n",
    "        print(f\"ID de película {id_movie} no encontrado.\")\n",
    "        return\n",
    "\n",
    "    # Obtener el índice de la película a partir del id_movie\n",
    "    idx = indices[id_movie]\n",
    "    \n",
    "    original_title = df.loc[idx, 'original_title']\n",
    "\n",
    "    # Obtener las probabilidades de temas para la película\n",
    "    topics_for_movie = l[idx]\n",
    "    \n",
    "    # Encontrar el tema con la mayor probabilidad (el tema dominante)\n",
    "    tema_dominante, prob_dominante = max(topics_for_movie, key=lambda x: x[1])\n",
    "\n",
    "    # Verificar los temas y probabilidades de la película original\n",
    "    print(f\"Tema dominante de la película '{original_title}' (ID: {id_movie}): {tema_dominante}\")\n",
    "    print(f\"Probabilidades de temas para la película original: {topics_for_movie}\")\n",
    "\n",
    "    # Obtener todas las películas que comparten el mismo tema dominante\n",
    "    peliculas_similares = [i for i, temas in enumerate(l) if any(tema == tema_dominante for tema, prob in temas)]\n",
    "    \n",
    "    # Excluir la película original (id_movie)\n",
    "    peliculas_similares = [i for i in peliculas_similares if i != idx]\n",
    "\n",
    "    # Obtener la probabilidad del tema dominante para las películas recomendadas\n",
    "    probabilidad_tema_dominante = []\n",
    "    for i in peliculas_similares:\n",
    "        for tema, prob in l[i]:\n",
    "            if tema == tema_dominante:\n",
    "                probabilidad_tema_dominante.append((i, prob))\n",
    "                break\n",
    "\n",
    "    # Ordenar las películas recomendadas por la probabilidad del tema dominante en orden descendente\n",
    "    probabilidad_tema_dominante = sorted(probabilidad_tema_dominante, key=lambda x: x[1], reverse=True)\n",
    "    \n",
    "    # Limitar el número de recomendaciones al parámetro num_recomendaciones\n",
    "    probabilidad_tema_dominante = probabilidad_tema_dominante[:num_recomendaciones]\n",
    "\n",
    "    # Obtener los índices y probabilidades\n",
    "    peliculas_similares_indices = [i[0] for i in probabilidad_tema_dominante]\n",
    "    peliculas_similares_probs = [i[1] for i in probabilidad_tema_dominante]\n",
    "\n",
    "    # Crear un DataFrame para mostrar los resultados\n",
    "    result_df = pd.DataFrame({\n",
    "        'Índice': peliculas_similares_indices,\n",
    "        'Título': df['original_title'].iloc[peliculas_similares_indices].values,\n",
    "        'Probabilidad Tema Dominante': peliculas_similares_probs\n",
    "    })\n",
    "\n",
    "    # Imprimir el tema dominante de la película original y el título\n",
    "    print(f\"Tema dominante de la película original (ID: {id_movie}): {tema_dominante}\")\n",
    "    print(f\"Título de la película original: {original_title}\")\n",
    "    \n",
    "    # Imprimir las películas recomendadas con la probabilidad del tema dominante\n",
    "    print(\"\\nPelículas recomendadas:\")\n",
    "    #for i, row in result_df.iterrows():\n",
    "     #   print(f\"Índice: {row['Índice']}, Título: {row['Título']}, Probabilidad Tema Dominante: {row['Probabilidad Tema Dominante']:.4f}\")\n",
    "    \n",
    "    # Retornar el DataFrame con los resultados\n",
    "    return result_df"
   ]
  },
  {
   "cell_type": "code",
   "execution_count": 26,
   "metadata": {},
   "outputs": [
    {
     "name": "stdout",
     "output_type": "stream",
     "text": [
      "Tema dominante de la película 'Toy Story' (ID: 862): 2\n",
      "Probabilidades de temas para la película original: [(0, 0.29471806), (1, 0.3061052), (2, 0.39917675)]\n",
      "Tema dominante de la película original (ID: 862): 2\n",
      "Título de la película original: Toy Story\n",
      "\n",
      "Películas recomendadas:\n"
     ]
    },
    {
     "data": {
      "text/html": [
       "<div>\n",
       "<style scoped>\n",
       "    .dataframe tbody tr th:only-of-type {\n",
       "        vertical-align: middle;\n",
       "    }\n",
       "\n",
       "    .dataframe tbody tr th {\n",
       "        vertical-align: top;\n",
       "    }\n",
       "\n",
       "    .dataframe thead th {\n",
       "        text-align: right;\n",
       "    }\n",
       "</style>\n",
       "<table border=\"1\" class=\"dataframe\">\n",
       "  <thead>\n",
       "    <tr style=\"text-align: right;\">\n",
       "      <th></th>\n",
       "      <th>Índice</th>\n",
       "      <th>Título</th>\n",
       "      <th>Probabilidad Tema Dominante</th>\n",
       "    </tr>\n",
       "  </thead>\n",
       "  <tbody>\n",
       "    <tr>\n",
       "      <th>0</th>\n",
       "      <td>34093</td>\n",
       "      <td>एबीसीडी</td>\n",
       "      <td>0.755740</td>\n",
       "    </tr>\n",
       "    <tr>\n",
       "      <th>1</th>\n",
       "      <td>1902</td>\n",
       "      <td>Blindsight</td>\n",
       "      <td>0.755366</td>\n",
       "    </tr>\n",
       "    <tr>\n",
       "      <th>2</th>\n",
       "      <td>35474</td>\n",
       "      <td>In Old Santa Fe</td>\n",
       "      <td>0.718472</td>\n",
       "    </tr>\n",
       "    <tr>\n",
       "      <th>3</th>\n",
       "      <td>1815</td>\n",
       "      <td>Efter brylluppet</td>\n",
       "      <td>0.718376</td>\n",
       "    </tr>\n",
       "    <tr>\n",
       "      <th>4</th>\n",
       "      <td>24347</td>\n",
       "      <td>Cougar Hunting</td>\n",
       "      <td>0.718363</td>\n",
       "    </tr>\n",
       "    <tr>\n",
       "      <th>5</th>\n",
       "      <td>3275</td>\n",
       "      <td>Crazy</td>\n",
       "      <td>0.717189</td>\n",
       "    </tr>\n",
       "    <tr>\n",
       "      <th>6</th>\n",
       "      <td>521</td>\n",
       "      <td>Central do Brasil</td>\n",
       "      <td>0.695193</td>\n",
       "    </tr>\n",
       "    <tr>\n",
       "      <th>7</th>\n",
       "      <td>41810</td>\n",
       "      <td>Krisha</td>\n",
       "      <td>0.668519</td>\n",
       "    </tr>\n",
       "    <tr>\n",
       "      <th>8</th>\n",
       "      <td>43787</td>\n",
       "      <td>Fitoor</td>\n",
       "      <td>0.668089</td>\n",
       "    </tr>\n",
       "    <tr>\n",
       "      <th>9</th>\n",
       "      <td>42124</td>\n",
       "      <td>Top Spin</td>\n",
       "      <td>0.668084</td>\n",
       "    </tr>\n",
       "  </tbody>\n",
       "</table>\n",
       "</div>"
      ],
      "text/plain": [
       "   Índice             Título  Probabilidad Tema Dominante\n",
       "0   34093            एबीसीडी                     0.755740\n",
       "1    1902         Blindsight                     0.755366\n",
       "2   35474    In Old Santa Fe                     0.718472\n",
       "3    1815   Efter brylluppet                     0.718376\n",
       "4   24347     Cougar Hunting                     0.718363\n",
       "5    3275              Crazy                     0.717189\n",
       "6     521  Central do Brasil                     0.695193\n",
       "7   41810             Krisha                     0.668519\n",
       "8   43787             Fitoor                     0.668089\n",
       "9   42124           Top Spin                     0.668084"
      ]
     },
     "execution_count": 26,
     "metadata": {},
     "output_type": "execute_result"
    }
   ],
   "source": [
    "recomendador_LDA('862', l,num_recomendaciones=10)"
   ]
  }
 ],
 "metadata": {
  "kernelspec": {
   "display_name": "VSCEnv",
   "language": "python",
   "name": "python3"
  },
  "language_info": {
   "codemirror_mode": {
    "name": "ipython",
    "version": 3
   },
   "file_extension": ".py",
   "mimetype": "text/x-python",
   "name": "python",
   "nbconvert_exporter": "python",
   "pygments_lexer": "ipython3",
   "version": "3.10.13"
  }
 },
 "nbformat": 4,
 "nbformat_minor": 2
}
