{
 "cells": [
  {
   "cell_type": "code",
   "execution_count": 14,
   "metadata": {},
   "outputs": [
    {
     "name": "stdout",
     "output_type": "stream",
     "text": [
      "Ocurrió un error al cargar el archivo: Can't get attribute 'SparseDtype' on <module 'pandas.core.dtypes.dtypes' from 'c:\\\\Users\\\\WD\\\\.conda\\\\envs\\\\VSCEnv\\\\lib\\\\site-packages\\\\pandas\\\\core\\\\dtypes\\\\dtypes.py'>\n"
     ]
    }
   ],
   "source": [
    "import pickle\n",
    "import pandas as pd\n",
    "\n",
    "# Importar SparseDtype\n",
    "from pandas import SparseDtype\n",
    "\n",
    "# Intentar cargar el archivo Pickle\n",
    "try:\n",
    "    with open('A_recomendaciones_sparse.pkl', 'rb') as f:\n",
    "        data = pickle.load(f)\n",
    "    print(\"Archivo cargado correctamente.\")\n",
    "except Exception as e:\n",
    "    print(f\"Ocurrió un error al cargar el archivo: {e}\")"
   ]
  },
  {
   "cell_type": "code",
   "execution_count": 13,
   "metadata": {},
   "outputs": [
    {
     "name": "stdout",
     "output_type": "stream",
     "text": [
      "Ocurrió un error al cargar el archivo con joblib: Can't get attribute 'SparseDtype' on <module 'pandas.core.dtypes.dtypes' from 'c:\\\\Users\\\\WD\\\\.conda\\\\envs\\\\VSCEnv\\\\lib\\\\site-packages\\\\pandas\\\\core\\\\dtypes\\\\dtypes.py'>\n"
     ]
    }
   ],
   "source": [
    "import joblib\n",
    "\n",
    "try:\n",
    "    data = joblib.load('A_recomendaciones_sparse.pkl')\n",
    "    print(\"Archivo cargado correctamente con joblib.\")\n",
    "except Exception as e:\n",
    "    print(f\"Ocurrió un error al cargar el archivo con joblib: {e}\")"
   ]
  },
  {
   "cell_type": "code",
   "execution_count": 6,
   "metadata": {},
   "outputs": [
    {
     "ename": "NameError",
     "evalue": "name 'data' is not defined",
     "output_type": "error",
     "traceback": [
      "\u001b[1;31m---------------------------------------------------------------------------\u001b[0m",
      "\u001b[1;31mNameError\u001b[0m                                 Traceback (most recent call last)",
      "Cell \u001b[1;32mIn[6], line 4\u001b[0m\n\u001b[0;32m      1\u001b[0m \u001b[38;5;28;01mimport\u001b[39;00m \u001b[38;5;21;01mjoblib\u001b[39;00m\n\u001b[0;32m      3\u001b[0m \u001b[38;5;66;03m# Guardar con joblib\u001b[39;00m\n\u001b[1;32m----> 4\u001b[0m joblib\u001b[38;5;241m.\u001b[39mdump(\u001b[43mdata\u001b[49m, \u001b[38;5;124m'\u001b[39m\u001b[38;5;124mOtrosModelos/A_recomendaciones_sparse_compressed.pkl\u001b[39m\u001b[38;5;124m'\u001b[39m, compress\u001b[38;5;241m=\u001b[39m\u001b[38;5;241m3\u001b[39m)\n",
      "\u001b[1;31mNameError\u001b[0m: name 'data' is not defined"
     ]
    }
   ],
   "source": [
    "import joblib\n",
    "\n",
    "# Guardar con joblib\n",
    "joblib.dump(data, 'OtrosModelos/A_recomendaciones_sparse_compressed.pkl', compress=3)"
   ]
  }
 ],
 "metadata": {
  "kernelspec": {
   "display_name": "VSCEnv",
   "language": "python",
   "name": "python3"
  },
  "language_info": {
   "codemirror_mode": {
    "name": "ipython",
    "version": 3
   },
   "file_extension": ".py",
   "mimetype": "text/x-python",
   "name": "python",
   "nbconvert_exporter": "python",
   "pygments_lexer": "ipython3",
   "version": "3.10.13"
  }
 },
 "nbformat": 4,
 "nbformat_minor": 2
}
